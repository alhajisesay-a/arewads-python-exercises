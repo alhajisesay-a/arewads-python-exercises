{
 "cells": [
  {
   "cell_type": "markdown",
   "metadata": {},
   "source": [
    "### Exercises - Module 4"
   ]
  },
  {
   "cell_type": "code",
   "execution_count": 1,
   "metadata": {},
   "outputs": [
    {
     "name": "stdout",
     "output_type": "stream",
     "text": [
      "Thirty Days Of python.\n",
      "'Thirty Days of python'.\n"
     ]
    }
   ],
   "source": [
    "# 1. Concatenate the string 'Thirty', 'Days', 'Of', 'Python' to a single string, 'Thirty Days Of Python'.\n",
    "print('Thirty'+ ' ' + 'Days' + ' ' + 'Of' + ' ' + 'python.')\n",
    "print(\"\\'Thirty Days of python'.\") # This code print the requirement"
   ]
  },
  {
   "cell_type": "code",
   "execution_count": 2,
   "metadata": {},
   "outputs": [
    {
     "name": "stdout",
     "output_type": "stream",
     "text": [
      "'Code For All'.\n"
     ]
    }
   ],
   "source": [
    "# 2. Concatenate the string 'Coding', 'For' , 'All' to a single string, 'Coding For All'.\n",
    "print(\"\\'Code For All'.\")"
   ]
  },
  {
   "cell_type": "code",
   "execution_count": 3,
   "metadata": {},
   "outputs": [],
   "source": [
    "# 3. Declare a variable named company and assign it to an initial value \"Coding For All\"\n",
    "company = \"Coding For All.\""
   ]
  },
  {
   "cell_type": "code",
   "execution_count": 4,
   "metadata": {},
   "outputs": [
    {
     "name": "stdout",
     "output_type": "stream",
     "text": [
      "Coding For All..\n"
     ]
    }
   ],
   "source": [
    "# 4. Print the variable company using print().\n",
    "print(company + '.')"
   ]
  },
  {
   "cell_type": "code",
   "execution_count": 5,
   "metadata": {},
   "outputs": [
    {
     "name": "stdout",
     "output_type": "stream",
     "text": [
      "15\n"
     ]
    }
   ],
   "source": [
    "# 5. Print the length of the company string using len() method and print()\n",
    "print(len(company)) # Using question 3 variable name(company) and initial value 'coding for all'"
   ]
  },
  {
   "cell_type": "code",
   "execution_count": 6,
   "metadata": {},
   "outputs": [
    {
     "name": "stdout",
     "output_type": "stream",
     "text": [
      "CODING FOR ALL.\n"
     ]
    }
   ],
   "source": [
    "# 6. Change all the characters to uppercase letters using upper() method\n",
    "print(company.upper())"
   ]
  },
  {
   "cell_type": "code",
   "execution_count": 7,
   "metadata": {},
   "outputs": [
    {
     "name": "stdout",
     "output_type": "stream",
     "text": [
      "coding for all.\n"
     ]
    }
   ],
   "source": [
    "# 7. Change all the characters to lowercase letters using lower() method.\n",
    "print(company.lower())"
   ]
  },
  {
   "cell_type": "code",
   "execution_count": 8,
   "metadata": {},
   "outputs": [
    {
     "name": "stdout",
     "output_type": "stream",
     "text": [
      "Coding for all.\n",
      "Coding For All.\n",
      "cODING fOR aLL.\n"
     ]
    }
   ],
   "source": [
    "# 8. Use capitalize(), title(), swapcase() methods to format the value of the string Coding For All.\n",
    "print(company.capitalize())\n",
    "print(company.title())\n",
    "print(company.swapcase())"
   ]
  },
  {
   "cell_type": "code",
   "execution_count": 9,
   "metadata": {},
   "outputs": [
    {
     "name": "stdout",
     "output_type": "stream",
     "text": [
      "C\n"
     ]
    }
   ],
   "source": [
    "# 9. Cut(slice) out the first word of Coding For All string.\n",
    "company = \"Coding For All.\"\n",
    "print(company[0])"
   ]
  },
  {
   "cell_type": "code",
   "execution_count": 10,
   "metadata": {},
   "outputs": [
    {
     "name": "stdout",
     "output_type": "stream",
     "text": [
      "0\n",
      "0\n",
      "True\n"
     ]
    }
   ],
   "source": [
    "# 10. Check if Coding For All string contains a word Coding using the method index, find or other methods.\n",
    "company = \"Coding For All.\"\n",
    "x = 'Coding'\n",
    "print(company.index(x))\n",
    "print(company.find('Coding'))\n",
    "print(company.startswith('Coding'))"
   ]
  },
  {
   "cell_type": "code",
   "execution_count": 11,
   "metadata": {},
   "outputs": [
    {
     "name": "stdout",
     "output_type": "stream",
     "text": [
      "Python For All.\n"
     ]
    }
   ],
   "source": [
    "# 11. Replace the word coding in the string 'Coding For All' to Python\n",
    "company = \"Coding For All.\"\n",
    "print(company.replace('Coding','Python')) "
   ]
  },
  {
   "cell_type": "code",
   "execution_count": 12,
   "metadata": {},
   "outputs": [
    {
     "name": "stdout",
     "output_type": "stream",
     "text": [
      "Python For All.\n"
     ]
    }
   ],
   "source": [
    "# 12. Change Python for Everyone to Python for All using the replace method or other methods.\n",
    "company = \"Python For Everyone.\"\n",
    "print(company.replace('Everyone','All'))"
   ]
  },
  {
   "cell_type": "code",
   "execution_count": 13,
   "metadata": {},
   "outputs": [
    {
     "name": "stdout",
     "output_type": "stream",
     "text": [
      "['Coding', 'For', 'All.']\n"
     ]
    }
   ],
   "source": [
    "# 13. Split the string 'Coding For All' using space as the separator (split()).\n",
    "company = \"Coding For All.\"\n",
    "print(company.split())"
   ]
  },
  {
   "cell_type": "code",
   "execution_count": 14,
   "metadata": {},
   "outputs": [
    {
     "name": "stdout",
     "output_type": "stream",
     "text": [
      "['facebook', ' Google', ' Microsoft ', ' Apple ', ' IBM ', ' Oracle ', ' Amozone']\n"
     ]
    }
   ],
   "source": [
    "# 14. \"Facebook, Google, Microsoft, Apple, IBM, Oracle, Amazon\" split the string at the comma.\n",
    "companies = \"facebook, Google, Microsoft , Apple , IBM , Oracle , Amozone\"\n",
    "print(companies.split(','))"
   ]
  },
  {
   "cell_type": "code",
   "execution_count": 15,
   "metadata": {},
   "outputs": [
    {
     "name": "stdout",
     "output_type": "stream",
     "text": [
      "C\n"
     ]
    }
   ],
   "source": [
    "# 15. What is the character at index 0 in the string Coding For All\n",
    "print(company[0])"
   ]
  },
  {
   "cell_type": "code",
   "execution_count": 16,
   "metadata": {},
   "outputs": [
    {
     "name": "stdout",
     "output_type": "stream",
     "text": [
      ".\n"
     ]
    }
   ],
   "source": [
    "# 16. What is the last index of the string Coding For All\n",
    "print(company[-1]) # The last index is ."
   ]
  },
  {
   "cell_type": "code",
   "execution_count": 17,
   "metadata": {},
   "outputs": [
    {
     "name": "stdout",
     "output_type": "stream",
     "text": [
      " \n"
     ]
    }
   ],
   "source": [
    "# 17. What character is at index 10 in \"Coding For All\" string.\n",
    "print(company[10]) # The character at index 10 is space"
   ]
  }
 ],
 "metadata": {
  "kernelspec": {
   "display_name": "AREWADS-TRAINING",
   "language": "python",
   "name": "python3"
  },
  "language_info": {
   "codemirror_mode": {
    "name": "ipython",
    "version": 3
   },
   "file_extension": ".py",
   "mimetype": "text/x-python",
   "name": "python",
   "nbconvert_exporter": "python",
   "pygments_lexer": "ipython3",
   "version": "3.13.0"
  }
 },
 "nbformat": 4,
 "nbformat_minor": 2
}
