{
 "cells": [
  {
   "cell_type": "markdown",
   "metadata": {},
   "source": [
    "### Exercises - Module 4"
   ]
  },
  {
   "cell_type": "markdown",
   "metadata": {},
   "source": [
    "1. Concatenate the string 'Thirty', 'Days', 'Of', 'Python' to a single string, 'Thirty Days Of Python'."
   ]
  },
  {
   "cell_type": "code",
   "execution_count": 9,
   "metadata": {},
   "outputs": [
    {
     "name": "stdout",
     "output_type": "stream",
     "text": [
      "Thirty Days Of python.\n"
     ]
    }
   ],
   "source": [
    "# 1. Concatenate the string 'Thirty', 'Days', 'Of', 'Python' to a single string, 'Thirty Days Of Python'.\n",
    "print('Thirty'+ ' ' + 'Days' + ' ' + 'Of' + ' ' + 'python.')"
   ]
  },
  {
   "cell_type": "markdown",
   "metadata": {},
   "source": [
    "2. Concatenate the string 'Coding', 'For' , 'All' to a single string, 'Coding For All'."
   ]
  },
  {
   "cell_type": "code",
   "execution_count": 15,
   "metadata": {},
   "outputs": [
    {
     "name": "stdout",
     "output_type": "stream",
     "text": [
      "Coding For All\n"
     ]
    }
   ],
   "source": [
    "# 2. Concatenate the string 'Coding', 'For' , 'All' to a single string, 'Coding For All'.\n",
    "str0 = ('Coding' + ' ' 'For' ' '+ 'All')\n",
    "print(str0)"
   ]
  },
  {
   "cell_type": "markdown",
   "metadata": {},
   "source": [
    "3. Declare a variable named company and assign it to an initial value \"Coding For All\"."
   ]
  },
  {
   "cell_type": "code",
   "execution_count": 1,
   "metadata": {},
   "outputs": [],
   "source": [
    "# 3. Declare a variable named company and assign it to an initial value \"Coding For All\"\n",
    "company = \"Coding For All.\""
   ]
  },
  {
   "cell_type": "markdown",
   "metadata": {},
   "source": [
    "4. Print the variable company using print()."
   ]
  },
  {
   "cell_type": "code",
   "execution_count": 17,
   "metadata": {},
   "outputs": [
    {
     "name": "stdout",
     "output_type": "stream",
     "text": [
      "Coding For All.\n"
     ]
    }
   ],
   "source": [
    "# 4. Print the variable company using print().\n",
    "company = \"Coding For All.\"\n",
    "print(company)"
   ]
  },
  {
   "cell_type": "markdown",
   "metadata": {},
   "source": [
    "5. Print the length of the company string using len() method and print()."
   ]
  },
  {
   "cell_type": "code",
   "execution_count": 18,
   "metadata": {},
   "outputs": [
    {
     "name": "stdout",
     "output_type": "stream",
     "text": [
      "15\n"
     ]
    }
   ],
   "source": [
    "# 5. Print the length of the company string using len() method and print()\n",
    "print(len(company)) # Using question 3 variable name(company) and initial value 'coding for all'"
   ]
  },
  {
   "cell_type": "markdown",
   "metadata": {},
   "source": [
    "6. Change all the characters to uppercase letters using upper() method."
   ]
  },
  {
   "cell_type": "code",
   "execution_count": 6,
   "metadata": {},
   "outputs": [
    {
     "name": "stdout",
     "output_type": "stream",
     "text": [
      "CODING FOR ALL.\n"
     ]
    }
   ],
   "source": [
    "# 6. Change all the characters to uppercase letters using upper() method\n",
    "print(company.upper())"
   ]
  },
  {
   "cell_type": "markdown",
   "metadata": {},
   "source": [
    "7. Change all the characters to lowercase letters using lower() method."
   ]
  },
  {
   "cell_type": "code",
   "execution_count": 7,
   "metadata": {},
   "outputs": [
    {
     "name": "stdout",
     "output_type": "stream",
     "text": [
      "coding for all.\n"
     ]
    }
   ],
   "source": [
    "# 7. Change all the characters to lowercase letters using lower() method.\n",
    "print(company.lower())"
   ]
  },
  {
   "cell_type": "markdown",
   "metadata": {},
   "source": [
    "8. Use capitalize(), title(), swapcase() methods to format the value of the string Coding For All"
   ]
  },
  {
   "cell_type": "code",
   "execution_count": 8,
   "metadata": {},
   "outputs": [
    {
     "name": "stdout",
     "output_type": "stream",
     "text": [
      "Coding for all.\n",
      "Coding For All.\n",
      "cODING fOR aLL.\n"
     ]
    }
   ],
   "source": [
    "# 8. Use capitalize(), title(), swapcase() methods to format the value of the string Coding For All.\n",
    "print(company.capitalize())\n",
    "print(company.title())\n",
    "print(company.swapcase())"
   ]
  },
  {
   "cell_type": "markdown",
   "metadata": {},
   "source": [
    "9. Cut(slice) out the first word of Coding For All string."
   ]
  },
  {
   "cell_type": "code",
   "execution_count": 20,
   "metadata": {},
   "outputs": [
    {
     "name": "stdout",
     "output_type": "stream",
     "text": [
      "Coding\n"
     ]
    }
   ],
   "source": [
    "# 9. Cut(slice) out the first word of Coding For All string.\n",
    "company = \"Coding For All.\"\n",
    "word_split = company.split()\n",
    "print(word_split[0])"
   ]
  },
  {
   "cell_type": "markdown",
   "metadata": {},
   "source": [
    "10. Check if Coding For All string contains a word Coding using the method index, find or other methods."
   ]
  },
  {
   "cell_type": "code",
   "execution_count": 31,
   "metadata": {},
   "outputs": [
    {
     "name": "stdout",
     "output_type": "stream",
     "text": [
      "['Coding', 'For', 'All.']\n",
      "Coding\n",
      "0\n",
      "True\n"
     ]
    }
   ],
   "source": [
    "# 10. Check if Coding For All string contains a word Coding using the method index, find or other methods.\n",
    "company = \"Coding For All.\"\n",
    "x = company.split()\n",
    "print(x)\n",
    "print(x[0])\n",
    "print(company.find('Coding'))\n",
    "print(company.startswith('Coding'))"
   ]
  },
  {
   "cell_type": "markdown",
   "metadata": {},
   "source": [
    "11. Replace the word coding in the string 'Coding For All' to Python."
   ]
  },
  {
   "cell_type": "code",
   "execution_count": 11,
   "metadata": {},
   "outputs": [
    {
     "name": "stdout",
     "output_type": "stream",
     "text": [
      "Python For All.\n"
     ]
    }
   ],
   "source": [
    "# 11. Replace the word coding in the string 'Coding For All' to Python\n",
    "company = \"Coding For All.\"\n",
    "print(company.replace('Coding','Python')) "
   ]
  },
  {
   "cell_type": "markdown",
   "metadata": {},
   "source": [
    "12. Change Python for Everyone to Python for All using the replace method or other methods."
   ]
  },
  {
   "cell_type": "code",
   "execution_count": 12,
   "metadata": {},
   "outputs": [
    {
     "name": "stdout",
     "output_type": "stream",
     "text": [
      "Python For All.\n"
     ]
    }
   ],
   "source": [
    "# 12. Change Python for Everyone to Python for All using the replace method or other methods.\n",
    "company = \"Python For Everyone.\"\n",
    "print(company.replace('Everyone','All'))"
   ]
  },
  {
   "cell_type": "markdown",
   "metadata": {},
   "source": [
    "13. Split the string 'Coding For All' using space as the separator (split()) ."
   ]
  },
  {
   "cell_type": "code",
   "execution_count": 13,
   "metadata": {},
   "outputs": [
    {
     "name": "stdout",
     "output_type": "stream",
     "text": [
      "['Coding', 'For', 'All.']\n"
     ]
    }
   ],
   "source": [
    "# 13. Split the string 'Coding For All' using space as the separator (split()).\n",
    "company = \"Coding For All.\"\n",
    "print(company.split())"
   ]
  },
  {
   "cell_type": "markdown",
   "metadata": {},
   "source": [
    "14. \"Facebook, Google, Microsoft, Apple, IBM, Oracle, Amazon\" split the string at the comma."
   ]
  },
  {
   "cell_type": "code",
   "execution_count": 14,
   "metadata": {},
   "outputs": [
    {
     "name": "stdout",
     "output_type": "stream",
     "text": [
      "['facebook', ' Google', ' Microsoft ', ' Apple ', ' IBM ', ' Oracle ', ' Amozone']\n"
     ]
    }
   ],
   "source": [
    "# 14. \"Facebook, Google, Microsoft, Apple, IBM, Oracle, Amazon\" split the string at the comma.\n",
    "companies = \"facebook, Google, Microsoft , Apple , IBM , Oracle , Amozone\"\n",
    "print(companies.split(','))"
   ]
  },
  {
   "cell_type": "markdown",
   "metadata": {},
   "source": [
    "15. What is the character at index 0 in the string Coding For All."
   ]
  },
  {
   "cell_type": "code",
   "execution_count": 15,
   "metadata": {},
   "outputs": [
    {
     "name": "stdout",
     "output_type": "stream",
     "text": [
      "C\n"
     ]
    }
   ],
   "source": [
    "# 15. What is the character at index 0 in the string Coding For All\n",
    "print(company[0])"
   ]
  },
  {
   "cell_type": "markdown",
   "metadata": {},
   "source": [
    "16. What is the last index of the string Coding For All."
   ]
  },
  {
   "cell_type": "code",
   "execution_count": 16,
   "metadata": {},
   "outputs": [
    {
     "name": "stdout",
     "output_type": "stream",
     "text": [
      ".\n"
     ]
    }
   ],
   "source": [
    "# 16. What is the last index of the string Coding For All\n",
    "print(company[-1]) # The last index is ."
   ]
  },
  {
   "cell_type": "markdown",
   "metadata": {},
   "source": [
    "17. What character is at index 10 in \"Coding For All\" string."
   ]
  },
  {
   "cell_type": "code",
   "execution_count": 17,
   "metadata": {},
   "outputs": [
    {
     "name": "stdout",
     "output_type": "stream",
     "text": [
      " \n"
     ]
    }
   ],
   "source": [
    "# 17. What character is at index 10 in \"Coding For All\" string.\n",
    "print(company[10]) # The character at index 10 is space"
   ]
  },
  {
   "cell_type": "markdown",
   "metadata": {},
   "source": [
    "18. Create an acronym or an abbreviation for the name 'Python For Everyone'."
   ]
  },
  {
   "cell_type": "code",
   "execution_count": null,
   "metadata": {},
   "outputs": [
    {
     "name": "stdout",
     "output_type": "stream",
     "text": [
      " PFE\n"
     ]
    }
   ],
   "source": [
    "# 18. Create an acronym or an abbreviation for the name 'Python For Everyone'.\n",
    "message = 'Python For Everyone'\n",
    "message_list = message.split() # This convert the string into python list using split\n",
    "acronym = ' ' # create an empty string\n",
    "for i in message_list:\n",
    "    acronym = acronym + i[0].upper()\n",
    "print(acronym)\n",
    "\n"
   ]
  },
  {
   "cell_type": "markdown",
   "metadata": {},
   "source": [
    "19. Create an acronym or an abbreviation for the name 'Coding For All'."
   ]
  },
  {
   "cell_type": "code",
   "execution_count": null,
   "metadata": {},
   "outputs": [
    {
     "name": "stdout",
     "output_type": "stream",
     "text": [
      "CFA\n"
     ]
    }
   ],
   "source": [
    "# 19. Create an acronym or an abbreviation for the name 'Coding For All'.\n",
    "message = 'Coding For All'\n",
    "message_list = message.split() # use split to convert string to list\n",
    "acronym = ''\n",
    "for i in message_list:\n",
    "    acronym = acronym + i[0] # No methode (.upper) since the the first letter of each word capitalise.\n",
    "print(acronym)"
   ]
  },
  {
   "cell_type": "markdown",
   "metadata": {},
   "source": [
    "20. Use index to determine the position of the first occurrence of C in Coding For All."
   ]
  },
  {
   "cell_type": "code",
   "execution_count": null,
   "metadata": {},
   "outputs": [
    {
     "name": "stdout",
     "output_type": "stream",
     "text": [
      "0\n"
     ]
    }
   ],
   "source": [
    "# 20. Use index to determine the position of the first occurrence of C in Coding For All.\n",
    "message = 'Coding For All'\n",
    "print(message.index('C')) # position of C is zero"
   ]
  },
  {
   "cell_type": "markdown",
   "metadata": {},
   "source": [
    "21. Use index to determine the position of the first occurrence of F in Coding For All."
   ]
  },
  {
   "cell_type": "code",
   "execution_count": 38,
   "metadata": {},
   "outputs": [
    {
     "name": "stdout",
     "output_type": "stream",
     "text": [
      "7\n"
     ]
    }
   ],
   "source": [
    "# 21. Use index to determine the position of the first occurrence of F in Coding For All.\n",
    "message = 'Coding For All'\n",
    "print(message.index('F'))"
   ]
  },
  {
   "cell_type": "markdown",
   "metadata": {},
   "source": [
    "22. Use rfind to determine the position of the last occurrence of l in Coding For All People"
   ]
  },
  {
   "cell_type": "code",
   "execution_count": 39,
   "metadata": {},
   "outputs": [
    {
     "name": "stdout",
     "output_type": "stream",
     "text": [
      "13\n"
     ]
    }
   ],
   "source": [
    "# 22. Use rfind to determine the position of the last occurrence of l in Coding For All People\n",
    "message = 'Coding For All'\n",
    "print(message.rfind('l'))"
   ]
  },
  {
   "cell_type": "markdown",
   "metadata": {},
   "source": [
    "23. Use index or find to find the position of the first occurrence of the word 'because' in the following sentence: 'You cannot end a sentence with because because because is a conjunction'"
   ]
  },
  {
   "cell_type": "code",
   "execution_count": null,
   "metadata": {},
   "outputs": [
    {
     "name": "stdout",
     "output_type": "stream",
     "text": [
      "31\n",
      "31\n"
     ]
    }
   ],
   "source": [
    "# 23. Use index or find to find the position of the first occurrence of the word 'because' in the following sentence: 'You cannot end a sentence with because because because is a conjunction'\n",
    "message = 'You cannot end a sentence with because because because is a conjunction'\n",
    "print(message.index('because')) # This gives the firt occurance of 'because'\n",
    "print(message.find('because')) # The same result But when.\n"
   ]
  },
  {
   "cell_type": "markdown",
   "metadata": {},
   "source": [
    "24. Use rindex to find the position of the last occurrence of the word because in the following sentence: 'You cannot end a sentence with because because because is a conjunction'"
   ]
  },
  {
   "cell_type": "code",
   "execution_count": null,
   "metadata": {},
   "outputs": [
    {
     "name": "stdout",
     "output_type": "stream",
     "text": [
      "47\n",
      "47\n"
     ]
    }
   ],
   "source": [
    "# 24. Use rindex to find the position of the last occurrence of the word because in the following sentence: 'You cannot end a sentence with because because because is a conjunction'\n",
    "message = 'You cannot end a sentence with because because because is a conjunction' # Assign a veriable called message\n",
    "print(message.rindex('because')) # it considered the last element 'because' on the right\n",
    "print(message.rfind('because')) # Same thing applies"
   ]
  },
  {
   "cell_type": "markdown",
   "metadata": {},
   "source": [
    "25. Slice out the phrase 'because because because' in the following sentence: 'You cannot end a sentence with because because because is a conjunction'"
   ]
  },
  {
   "cell_type": "code",
   "execution_count": 37,
   "metadata": {},
   "outputs": [
    {
     "name": "stdout",
     "output_type": "stream",
     "text": [
      "['You', 'cannot', 'end', 'a', 'sentence', 'with', 'because', 'because', 'because', 'is', 'a', 'conjunction']\n",
      "6\n",
      "['because', 'because', 'because']\n"
     ]
    }
   ],
   "source": [
    "# 25. Slice out the phrase 'because because because' in the following sentence: 'You cannot end a sentence with because because because is a conjunction'\n",
    "message = 'You cannot end a sentence with because because because is a conjunction'\n",
    "message_list = message.split()\n",
    "print(message_list)\n",
    "print(message_list.index('because'))\n",
    "slice_message = message_list[6:9]\n",
    "print(slice_message)\n"
   ]
  },
  {
   "cell_type": "markdown",
   "metadata": {},
   "source": [
    "26. Find the position of the first occurrence of the word 'because' in the following sentence: 'You cannot end a sentence with because because because is a conjunction'"
   ]
  },
  {
   "cell_type": "code",
   "execution_count": 52,
   "metadata": {},
   "outputs": [
    {
     "name": "stdout",
     "output_type": "stream",
     "text": [
      "31\n"
     ]
    }
   ],
   "source": [
    "# 26. Find the position of the first occurrence of the word 'because' in the following sentence: 'You cannot end a sentence with because because because is a conjunction\n",
    "message = 'You cannot end a sentence with because because because is a conjunction'\n",
    "print(message.find('because'))"
   ]
  },
  {
   "cell_type": "markdown",
   "metadata": {},
   "source": [
    "27. Slice out the phrase 'because because because' in the following sentence: 'You cannot end a sentence with because because because is a conjunction'"
   ]
  },
  {
   "cell_type": "code",
   "execution_count": 38,
   "metadata": {},
   "outputs": [
    {
     "name": "stdout",
     "output_type": "stream",
     "text": [
      "['You', 'cannot', 'end', 'a', 'sentence', 'with', 'because', 'because', 'because', 'is', 'a', 'conjunction']\n",
      "6\n",
      "['because', 'because', 'because']\n"
     ]
    }
   ],
   "source": [
    "# 27. Slice out the phrase 'because because because' in the following sentence: 'You cannot end a sentence with because because because is a conjunction'\n",
    "message = 'You cannot end a sentence with because because because is a conjunction'\n",
    "message_list = message.split()\n",
    "print(message_list)\n",
    "print(message_list.index('because'))\n",
    "slice_message = message_list[6:9]\n",
    "print(slice_message)"
   ]
  },
  {
   "cell_type": "markdown",
   "metadata": {},
   "source": [
    "28. Does ''Coding For All' start with a substring Coding?"
   ]
  },
  {
   "cell_type": "code",
   "execution_count": null,
   "metadata": {},
   "outputs": [
    {
     "name": "stdout",
     "output_type": "stream",
     "text": [
      "True\n"
     ]
    }
   ],
   "source": [
    "# 38. Does 'Coding For All' start with a substring Coding?\n",
    "message = 'Coding For All'\n",
    "print(message.startswith('Coding'))\n"
   ]
  },
  {
   "cell_type": "markdown",
   "metadata": {},
   "source": [
    "29. Does 'Coding For All' end with a substring coding?"
   ]
  },
  {
   "cell_type": "code",
   "execution_count": 59,
   "metadata": {},
   "outputs": [
    {
     "name": "stdout",
     "output_type": "stream",
     "text": [
      "False\n"
     ]
    }
   ],
   "source": [
    "# 39. Does 'Coding For All' end with a substring coding?\n",
    "message = 'Coding For All'\n",
    "print(message.endswith('coding'))"
   ]
  },
  {
   "cell_type": "markdown",
   "metadata": {},
   "source": [
    "30. '   Coding For All      '  , remove the left and right trailing spaces in the given string."
   ]
  },
  {
   "cell_type": "code",
   "execution_count": null,
   "metadata": {},
   "outputs": [
    {
     "name": "stdout",
     "output_type": "stream",
     "text": [
      "Coding For All\n"
     ]
    }
   ],
   "source": [
    "# 30.   Coding For All      '  , remove the left and right trailing spaces in the given string.\n",
    "message = 'Coding For All'\n",
    "print(message.strip()) # remove bothe left and right whitespace all together\n",
    "\n",
    "# or remove left and right separately\n",
    "print(message.lstrip())\n",
    "print(message.rstrip())"
   ]
  },
  {
   "cell_type": "markdown",
   "metadata": {},
   "source": [
    "31. Which one of the following variables return True when we use the method isidentifier():\n",
    "+ 30DaysOfPython\n",
    "+ thirty_days_of_python"
   ]
  },
  {
   "cell_type": "code",
   "execution_count": null,
   "metadata": {},
   "outputs": [
    {
     "name": "stdout",
     "output_type": "stream",
     "text": [
      "False\n",
      "True\n"
     ]
    }
   ],
   "source": [
    "# 31. Which one of the following variables return True when we use the method isidentifier():\n",
    "# 1. 30DaysOfPython\n",
    "# 2. thirty_days_of_python\n",
    "m = '30DaysOfPython' # is false because it start with a number\n",
    "n = 'thirty_days_of_python' # is true because it start with letter\n",
    "print(m.isidentifier())\n",
    "print(n.isidentifier())"
   ]
  },
  {
   "cell_type": "markdown",
   "metadata": {},
   "source": [
    "32. The following list contains the names of some of python libraries: ['Django', 'Flask', 'Bottle', 'Pyramid', 'Falcon']. Join the list with a hash with space string."
   ]
  },
  {
   "cell_type": "code",
   "execution_count": null,
   "metadata": {},
   "outputs": [
    {
     "name": "stdout",
     "output_type": "stream",
     "text": [
      "Django# Flask# Bottle# Pyramid# Falcon\n"
     ]
    }
   ],
   "source": [
    "# 32. The following list contains the names of some of python libraries: ['Django', 'Flask', 'Bottle', 'Pyramid', 'Falcon']. Join the list with a hash with space string.\n",
    "lst = ['Django', 'Flask', 'Bottle', 'Pyramid', 'Falcon']\n",
    "result = '# '.join(lst) # separated by #\n",
    "print(result)"
   ]
  },
  {
   "cell_type": "markdown",
   "metadata": {},
   "source": [
    "33. Use the new line escape sequence to separate the following sentences.\n",
    "+ I am enjoying this challenge.\n",
    "+ I just wonder what is next."
   ]
  },
  {
   "cell_type": "code",
   "execution_count": null,
   "metadata": {},
   "outputs": [
    {
     "name": "stdout",
     "output_type": "stream",
     "text": [
      "I am enjoying this challenge. \n",
      "I just wonder what is next.\n"
     ]
    }
   ],
   "source": [
    "# 33. Use the new line escape sequence to separate the following sentences.\n",
    "# 1.I am enjoying this challenge. I just wonder what is next.\n",
    "message = '''I am enjoying this challenge. \\nI just wonder what is next.''' # \\n indicate start new line\n",
    "print(message)\n"
   ]
  },
  {
   "cell_type": "markdown",
   "metadata": {},
   "source": [
    "34. Use a tab escape sequence to write the following lines.\n",
    "+ Name      Age     Country   City\n",
    "+ Asabeneh  250     Finland   Helsinki"
   ]
  },
  {
   "cell_type": "code",
   "execution_count": 75,
   "metadata": {},
   "outputs": [
    {
     "name": "stdout",
     "output_type": "stream",
     "text": [
      "Name    \tAge  \tCountry  \tCity\n",
      "Asabeneh\t250\tFinland  \tHelsinki\n"
     ]
    }
   ],
   "source": [
    "# 34. Use a tab escape sequence to write the following lines.\n",
    "# Name      Age     Country   City\n",
    "#Asabeneh  250     Finland   Helsinki\n",
    "print('Name    \\tAge  \\tCountry  \\tCity')\n",
    "print('Asabeneh\\t250\\tFinland  \\tHelsinki')"
   ]
  },
  {
   "cell_type": "markdown",
   "metadata": {},
   "source": []
  },
  {
   "cell_type": "markdown",
   "metadata": {},
   "source": [
    "35. Use the string formatting method to display the following:\n",
    "+ radius = 10\n",
    "+ area = 3.14 * radius ** 2\n",
    "+ The area of a circle with radius 10 is 314 meters square."
   ]
  },
  {
   "cell_type": "code",
   "execution_count": 88,
   "metadata": {},
   "outputs": [
    {
     "name": "stdout",
     "output_type": "stream",
     "text": [
      "The area of a circle with radius 10 is 314.0 meters square.\n"
     ]
    }
   ],
   "source": [
    "# 35. Use the string formatting method to display the following:\n",
    "radius = 10\n",
    "area = 3.14 * radius ** 2\n",
    "print(f'The area of a circle with radius 10 is {area} meters square.')"
   ]
  },
  {
   "cell_type": "markdown",
   "metadata": {},
   "source": [
    "36. Make the following using string formatting methods:\n",
    "+ 8 + 6 = 14\n",
    "+ 8 - 6 = 2\n",
    "+ 8 * 6 = 48\n",
    "+ 8 / 6 = 1.33\n",
    "+ 8 % 6 = 2\n",
    "+ 8 // 6 = 1\n",
    "+ 8 ** 6 = 262144"
   ]
  },
  {
   "cell_type": "code",
   "execution_count": 39,
   "metadata": {},
   "outputs": [
    {
     "name": "stdout",
     "output_type": "stream",
     "text": [
      "8 + 6 = 14\n",
      "8 - 6 = 2\n",
      "8 * 6 = 48\n",
      "8 / 6 = 1.3\n",
      "8 % 6 = 2\n",
      "8 // 6 = 1\n",
      "8 ** 6 = 262,144\n"
     ]
    }
   ],
   "source": [
    "# 36. Make the following using string formatting methods:\n",
    "a = 8                    # assigning variable to each element\n",
    "b = 6 \n",
    "print(f'{a} + {b} = {a + b}')\n",
    "print(f'{a} - {b} = {a - b}')\n",
    "print(f'{a} * {b} = {a * b}')\n",
    "print(f'{a} / {b} = {a / b :.1f}')\n",
    "print(f'{a} % {b} = {a % b}')\n",
    "print(f'{a} // {b} = {a // b}')\n",
    "print(f'{a} ** {b} = {a ** b:,}')"
   ]
  }
 ],
 "metadata": {
  "kernelspec": {
   "display_name": "AREWADS-TRAINING",
   "language": "python",
   "name": "python3"
  },
  "language_info": {
   "codemirror_mode": {
    "name": "ipython",
    "version": 3
   },
   "file_extension": ".py",
   "mimetype": "text/x-python",
   "name": "python",
   "nbconvert_exporter": "python",
   "pygments_lexer": "ipython3",
   "version": "3.13.0"
  }
 },
 "nbformat": 4,
 "nbformat_minor": 2
}
