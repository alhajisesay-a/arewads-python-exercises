{
 "cells": [
  {
   "cell_type": "markdown",
   "metadata": {},
   "source": [
    "### Exercises: Module 9"
   ]
  },
  {
   "cell_type": "markdown",
   "metadata": {},
   "source": [
    "#### Exercises: Level 1"
   ]
  },
  {
   "cell_type": "markdown",
   "metadata": {},
   "source": [
    "1. Declare a function add_two_numbers. It takes two parameters and it returns a sum."
   ]
  },
  {
   "cell_type": "code",
   "execution_count": 15,
   "metadata": {},
   "outputs": [
    {
     "name": "stdout",
     "output_type": "stream",
     "text": [
      "The sum of values is 8\n"
     ]
    }
   ],
   "source": [
    "# sum of two numbers in function\n",
    "def add_two_numbers(num1, num2):\n",
    "    total = num1 + num2\n",
    "    return total \n",
    "\n",
    "# call function add_two_numbers\n",
    "print('The sum of values is',  add_two_numbers(2,6))"
   ]
  },
  {
   "cell_type": "markdown",
   "metadata": {},
   "source": [
    "2. Area of a circle is calculated as follows: area = π x r x r. Write a function that calculates area_of_circle."
   ]
  },
  {
   "cell_type": "code",
   "execution_count": 35,
   "metadata": {},
   "outputs": [
    {
     "name": "stdout",
     "output_type": "stream",
     "text": [
      "The area of the circle at radious 4m =  50.272 m\n"
     ]
    }
   ],
   "source": [
    "# Area of a circle\n",
    "def area_of_circle(r):\n",
    "    𝞹 = 3.142\n",
    "    area = 𝞹 * r * r\n",
    "    return area\n",
    "# call the function area_of_circle\n",
    "circular_area = area_of_circle(4)\n",
    "print('The area of the circle at radious 4m = ',circular_area,'m')\n"
   ]
  },
  {
   "cell_type": "markdown",
   "metadata": {},
   "source": [
    "3. Write a function called add_all_nums which takes arbitrary number of arguments and sums all the arguments. Check if all the list items are number types. If not do give a reasonable feedback."
   ]
  },
  {
   "cell_type": "code",
   "execution_count": 73,
   "metadata": {},
   "outputs": [
    {
     "name": "stdout",
     "output_type": "stream",
     "text": [
      "20\n"
     ]
    }
   ],
   "source": [
    "# Sum of abitrary numbers\n",
    "def add_all_nums(*nums):\n",
    "    '''Adding the sum of the three arbitrary numbers'''\n",
    "    total = 0\n",
    "    for num in nums:\n",
    "        total += num\n",
    "    return total\n",
    "    # perform a function call\n",
    "print(add_all_nums(2,7,11))\n",
    "\n"
   ]
  },
  {
   "cell_type": "markdown",
   "metadata": {},
   "source": [
    "4. Temperature in °C can be converted to °F using this formula: °F = (°C x 9/5) + 32. Write a function which converts °C to °F, convert_celsius_to-fahrenheit."
   ]
  },
  {
   "cell_type": "code",
   "execution_count": 74,
   "metadata": {},
   "outputs": [
    {
     "name": "stdout",
     "output_type": "stream",
     "text": [
      "68.0\n"
     ]
    }
   ],
   "source": [
    "# Temperature conversion to fahrenheit\n",
    "def celsius_to_fahrenheit(celsius):\n",
    "    fahrenheit = (celsius * 9/5) + 32\n",
    "    return fahrenheit\n",
    "# call the function\n",
    "print(celsius_to_fahrenheit(20)) # input 20 degree celsius"
   ]
  },
  {
   "cell_type": "markdown",
   "metadata": {},
   "source": [
    "5. Write a function called check-season, it takes a month parameter and returns the season: Autumn, Winter, Spring or Summer."
   ]
  },
  {
   "cell_type": "code",
   "execution_count": 88,
   "metadata": {},
   "outputs": [
    {
     "name": "stdout",
     "output_type": "stream",
     "text": [
      "summar\n"
     ]
    }
   ],
   "source": [
    "# Check season base on month\n",
    "def check_season(months):\n",
    "    '''Season each month fall into'''\n",
    "    prompt = input('Enter a month: ')\n",
    "    month = prompt.title().strip() # capitalize each month and eleminate whitespaces\n",
    "    if month in ('September','October','November'):\n",
    "        return 'Autumn'\n",
    "    elif month in ('December','January','February'):\n",
    "        return 'Winter'\n",
    "    elif month in ('March','April','May'):\n",
    "        return 'Spring'\n",
    "    elif month in (\"June\",\"July\",\"August\",):\n",
    "        return 'summar'\n",
    "# function call\n",
    "print(check_season('months'))\n",
    "\n"
   ]
  },
  {
   "cell_type": "markdown",
   "metadata": {},
   "source": [
    "6. Write a function called calculate_slope which return the slope of a linear equation"
   ]
  },
  {
   "cell_type": "code",
   "execution_count": 87,
   "metadata": {},
   "outputs": [
    {
     "name": "stdout",
     "output_type": "stream",
     "text": [
      "2.0\n"
     ]
    }
   ],
   "source": [
    "def calculate_slope(y , c, x):\n",
    "    '''Linear equation that return slope'''\n",
    "    slope_m = (y - c)/x    # Equation of a straight line\n",
    "    return slope_m\n",
    "# function call\n",
    "print(calculate_slope(4, 0, 2)) # using positional arguement y=4, c=0, and x=2\n"
   ]
  },
  {
   "cell_type": "markdown",
   "metadata": {},
   "source": [
    "7. Quadratic equation is calculated as follows: ax² + bx + c = 0. Write a function which calculates solution set of a quadratic equation, solve_quadratic_eqn."
   ]
  },
  {
   "cell_type": "code",
   "execution_count": 134,
   "metadata": {},
   "outputs": [
    {
     "name": "stdout",
     "output_type": "stream",
     "text": [
      "((-0.75+0.6614378277661477j), (-0.75-0.6614378277661477j))\n"
     ]
    }
   ],
   "source": [
    "# Quadratic equation\n",
    "def solve_quadratic_equ(a,b,c):\n",
    "    '''return values of a,b,c in the quadratic equation'''\n",
    "    x1 = (-b + (b**2 - 4*a*c)**0.5)/(2*a)\n",
    "    x2 = (-b - (b**2 - 4*a*c)**0.5)/(2*a)\n",
    "    return x1,x2\n",
    "# call the function\n",
    "result = solve_quadratic_equ(2,3,2)\n",
    "print(result)"
   ]
  },
  {
   "cell_type": "markdown",
   "metadata": {},
   "source": [
    "8. Declare a function named print_list. It takes a list as a parameter and it prints out each element of the list."
   ]
  },
  {
   "cell_type": "code",
   "execution_count": 120,
   "metadata": {},
   "outputs": [
    {
     "name": "stdout",
     "output_type": "stream",
     "text": [
      "Banana\n",
      "Mango\n"
     ]
    }
   ],
   "source": [
    "# function to print items in a list\n",
    "def print_list(*items):\n",
    "    for item in items:\n",
    "        print(item.title())\n",
    "# function call\n",
    "print_list('banana','mango')"
   ]
  },
  {
   "cell_type": "markdown",
   "metadata": {},
   "source": [
    "9. Declare a function named reverse_list. It takes an array as a parameter and it returns the reverse of the array (use loops).\n",
    "print(reverse_list([1, 2, 3, 4, 5]))\n",
    "\n",
    "*  [5, 4, 3, 2, 1]\n",
    "  \n",
    "print(reverse_list1([\"A\", \"B\", \"C\"]))\n",
    "*  [\"C\", \"B\", \"A\"]"
   ]
  },
  {
   "cell_type": "code",
   "execution_count": 156,
   "metadata": {},
   "outputs": [
    {
     "name": "stdout",
     "output_type": "stream",
     "text": [
      "[5, 4, 3, 2, 1]\n",
      "['C', 'B', 'A']\n"
     ]
    }
   ],
   "source": [
    "# Function to reverse a list using a loop\n",
    "def reverse_list(array):\n",
    "    reversed_items = [] \n",
    "    for i in range(len(array) - 1, -1, -1): \n",
    "        reversed_items.append(array[i]) \n",
    "    return reversed_items\n",
    "\n",
    "# Test cases\n",
    "print(reverse_list([1, 2, 3, 4, 5]))\n",
    "print(reverse_list([\"A\", \"B\", \"C\"])) "
   ]
  },
  {
   "cell_type": "markdown",
   "metadata": {},
   "source": [
    "10. Declare a function named capitalize_list_items. It takes a list as a parameter and it returns a capitalized list of items"
   ]
  },
  {
   "cell_type": "code",
   "execution_count": 145,
   "metadata": {},
   "outputs": [
    {
     "name": "stdout",
     "output_type": "stream",
     "text": [
      "['Apple', 'Banana', 'Cherry']\n",
      "['Dog', 'Cat', 'Bird']\n"
     ]
    }
   ],
   "source": [
    "# Function to capitalize list items\n",
    "def capitalize_list_items(items):\n",
    "    capitalized_items = []  # Initialize an empty list to store capitalized items\n",
    "    for item in items:  \n",
    "        capitalized_items.append(item.capitalize())  \n",
    "    return capitalized_items \n",
    "\n",
    "# Test cases\n",
    "print(capitalize_list_items([\"apple\", \"banana\", \"cherry\"]))  \n",
    "print(capitalize_list_items([\"dog\", \"cat\", \"bird\"]))       \n"
   ]
  },
  {
   "cell_type": "markdown",
   "metadata": {},
   "source": [
    "11. Declare a function named add_item. It takes a list and an item parameters. It returns a list with the item added at the end.\n",
    "   \n",
    "food_staff = ['Potato', 'Tomato', 'Mango', 'Milk']\n",
    "\n",
    "print(add_item(food_staff, 'Meat'))     # ['Potato', 'Tomato', 'Mango', 'Milk','Meat']\n",
    "\n",
    "numbers = [2, 3, 7, 9]\n",
    "\n",
    "print(add_item(numbers, 5))      [2, 3, 7, 9, 5]"
   ]
  },
  {
   "cell_type": "code",
   "execution_count": 168,
   "metadata": {},
   "outputs": [
    {
     "name": "stdout",
     "output_type": "stream",
     "text": [
      "['Potato', 'Tomato', 'Mango', 'Milk', 'meat']\n",
      "[2, 3, 7, 9, 5]\n"
     ]
    }
   ],
   "source": [
    "# function to add items\n",
    "def add_item(list,item):\n",
    "    new_lst = []\n",
    "    for element in list:\n",
    "        new_lst.append(element)\n",
    "    new_lst.append(item)\n",
    "    return new_lst\n",
    "# function call\n",
    "food_stuff = ['Potato', 'Tomato', 'Mango', 'Milk']\n",
    "numbers = [2,3,7,9]\n",
    "print(add_item(food_stuff, 'meat'))\n",
    "print(add_item(numbers, 5))\n",
    "        "
   ]
  },
  {
   "cell_type": "markdown",
   "metadata": {},
   "source": [
    "12. Declare a function named remove_item. It takes a list and an item parameters. It returns a list with the item removed from it.\n",
    "    \n",
    "food_staff = ['Potato', 'Tomato', 'Mango', 'Milk']\n",
    "\n",
    "print(remove_item(food_staff, 'Mango'))  # ['Potato', 'Tomato', 'Milk'];\n",
    "\n",
    "numbers = [2, 3, 7, 9]\n",
    "\n",
    "print(remove_item(numbers, 3))  # [2, 7, 9]"
   ]
  },
  {
   "cell_type": "code",
   "execution_count": 169,
   "metadata": {},
   "outputs": [
    {
     "name": "stdout",
     "output_type": "stream",
     "text": [
      "['Potato', 'Tomato', 'Milk']\n",
      "[2, 3, 7]\n"
     ]
    }
   ],
   "source": [
    "# Function returns a list with item remove\n",
    "def remove_item(list,item):\n",
    "    new_list = []\n",
    "    for element in list:\n",
    "        new_list.append(element)\n",
    "    new_list.remove(item)\n",
    "    return new_list\n",
    "food_stuff = ['Potato', 'Tomato', 'Mango', 'Milk']\n",
    "numbers = [2, 3, 7, 9]\n",
    "# function call\n",
    "print(remove_item(food_stuff,'Mango'))\n",
    "print(remove_item(numbers,9))"
   ]
  },
  {
   "cell_type": "markdown",
   "metadata": {},
   "source": [
    "13. Declare a function named sum_of_numbers. It takes a number parameter and it adds all the numbers in that range.\n",
    "    \n",
    "print(sum_of_numbers(5))  # 15\n",
    "\n",
    "print(sum_of_numbers(10)) # 55\n",
    "\n",
    "print(sum_of_numbers(100)) # 5050"
   ]
  },
  {
   "cell_type": "code",
   "execution_count": 187,
   "metadata": {},
   "outputs": [
    {
     "name": "stdout",
     "output_type": "stream",
     "text": [
      "15\n",
      "55\n",
      "5050\n"
     ]
    }
   ],
   "source": [
    "# function that adds all numbers in range\n",
    "def sum_of_number(n): # declera n parameter\n",
    "    total = 0\n",
    "    for i in range(n + 1):\n",
    "        total += i \n",
    "    return total\n",
    "\n",
    "# call a function\n",
    "print(sum_of_number(5))\n",
    "print(sum_of_number(10))\n",
    "print(sum_of_number(100))\n",
    "\n"
   ]
  },
  {
   "cell_type": "markdown",
   "metadata": {},
   "source": [
    "14. Declare a function named sum_of_odds. It takes a number parameter and it adds all the odd numbers in that range."
   ]
  },
  {
   "cell_type": "code",
   "execution_count": 200,
   "metadata": {},
   "outputs": [
    {
     "name": "stdout",
     "output_type": "stream",
     "text": [
      "9\n",
      "25\n",
      "2500\n"
     ]
    }
   ],
   "source": [
    "# function that add odd numbers in range\n",
    "def sum_of_odds(n):\n",
    "    total = 0\n",
    "    for i in range(n + 1): # last value to be inclusive\n",
    "        if i % 2 != 0:\n",
    "            total += i\n",
    "    return total\n",
    "# call function\n",
    "print(sum_of_odds(5))\n",
    "print(sum_of_odds(10))\n",
    "print(sum_of_odds(100))\n"
   ]
  },
  {
   "cell_type": "markdown",
   "metadata": {},
   "source": [
    "15. Declare a function named sum_of_even. It takes a number parameter and it adds all the even numbers in that - range."
   ]
  },
  {
   "cell_type": "code",
   "execution_count": 206,
   "metadata": {},
   "outputs": [
    {
     "name": "stdout",
     "output_type": "stream",
     "text": [
      "6\n",
      "30\n",
      "2550\n"
     ]
    }
   ],
   "source": [
    "# function that add all even numbers in range\n",
    "def sum_of_even(y):\n",
    "    initial_count = 0\n",
    "    for i in range(y + 1):\n",
    "        if i % 2 == 0:\n",
    "            initial_count += i\n",
    "    return initial_count\n",
    "# function call\n",
    "print(sum_of_even(5))\n",
    "print(sum_of_even(10))\n",
    "print(sum_of_even(100))"
   ]
  },
  {
   "cell_type": "markdown",
   "metadata": {},
   "source": [
    "### Exercises: Level 2"
   ]
  },
  {
   "cell_type": "markdown",
   "metadata": {},
   "source": [
    "1. Declare a function named evens_and_odds . It takes a positive integer as parameter and it counts number of evens and odds in the number.\n",
    "   \n",
    "    print(evens_and_odds(100))\n",
    "\n",
    "    * The number of odds are 50.\n",
    "  \n",
    "    * The number of evens are 51."
   ]
  },
  {
   "cell_type": "code",
   "execution_count": 273,
   "metadata": {},
   "outputs": [
    {
     "name": "stdout",
     "output_type": "stream",
     "text": [
      "The even and odd count are as follows:(51, 50)\n"
     ]
    }
   ],
   "source": [
    "# function that counts even and odd numbers\n",
    "def evens_and_odds(y):\n",
    "    even_count = 0\n",
    "    odd_count = 0\n",
    "    for i in range(y + 1):\n",
    "        if i % 2 == 0:\n",
    "            even_count += 1\n",
    "        else:\n",
    "              odd_count += 1\n",
    "    return even_count, odd_count\n",
    "\n",
    "# function call\n",
    "print(f'The even and odd count are as follows:{evens_and_odds(100)}')\n",
    "\n"
   ]
  },
  {
   "cell_type": "markdown",
   "metadata": {},
   "source": [
    "2. Call your function factorial, it takes a whole number as a parameter and it return a factorial of the number"
   ]
  },
  {
   "cell_type": "code",
   "execution_count": 274,
   "metadata": {},
   "outputs": [
    {
     "name": "stdout",
     "output_type": "stream",
     "text": [
      "120\n"
     ]
    }
   ],
   "source": [
    "# function that return factorial number\n",
    "def factorial(m):\n",
    "    if m == 1 or m == 0: # factorial = 1\n",
    "        return 1\n",
    "    else:\n",
    "        return m * factorial(m - 1)\n",
    "\n",
    "# function call\n",
    "print(factorial(5))"
   ]
  },
  {
   "cell_type": "code",
   "execution_count": 302,
   "metadata": {},
   "outputs": [
    {
     "name": "stdout",
     "output_type": "stream",
     "text": [
      "120\n"
     ]
    }
   ],
   "source": [
    "# Alternatively\n",
    "def factorial(m):\n",
    "    if m == 0 or m == 1: # the fattorial is equal to 1 according to defination\n",
    "        return 1\n",
    "    \n",
    "    result = 1\n",
    "    for i in range(1, m +1):\n",
    "        result = result*i\n",
    "    return result\n",
    "# function call\n",
    "print(factorial(5))\n",
    "\n"
   ]
  },
  {
   "cell_type": "markdown",
   "metadata": {},
   "source": [
    "3. Call your function is_empty, it takes a parameter and it checks if it is empty or not"
   ]
  },
  {
   "cell_type": "code",
   "execution_count": 23,
   "metadata": {},
   "outputs": [
    {
     "name": "stdout",
     "output_type": "stream",
     "text": [
      "True\n",
      "False\n"
     ]
    }
   ],
   "source": [
    "# function that check for empty parameter\n",
    "def is_empty(m):\n",
    "    if len(m) == 0:\n",
    "        return True\n",
    "    else:\n",
    "        return False\n",
    "    # call a function\n",
    "print(is_empty([]))\n",
    "print(is_empty([2]))"
   ]
  },
  {
   "cell_type": "markdown",
   "metadata": {},
   "source": [
    "4. Write different functions which take lists. They should calculate_mean, calculate_median, calculate_mode, calculate_range, calculate_variance, calculate_std (standard deviation)."
   ]
  },
  {
   "cell_type": "code",
   "execution_count": 6,
   "metadata": {},
   "outputs": [
    {
     "name": "stdout",
     "output_type": "stream",
     "text": [
      "\n",
      "The following are the calculated mean values\n",
      "3.0\n",
      "13.2\n",
      "21.4\n",
      "\n",
      "The median for the following list of values.\n",
      "5\n",
      "17\n",
      "Variance: 8.0\n",
      "Standard Deviation: 2.8284\n"
     ]
    }
   ],
   "source": [
    "# Different function containing list of items\n",
    "def calculate_mean(numbers):\n",
    "    '''Find the mean from the list of numbers'''\n",
    "    numbers.sort()\n",
    "    length = len(numbers)     # mean is the sum of numbers divided by length. i.e.  Average numbers\n",
    "    total = sum(numbers)\n",
    "    mean = total/length\n",
    "    return mean\n",
    "# call function\n",
    "print('\\nThe following are the calculated mean values')\n",
    "print(calculate_mean([1,2,3,4,5]))\n",
    "print(calculate_mean([8,12,30,11,5]))\n",
    "print(calculate_mean([4,16,32,40,15]))\n",
    "\n",
    "# define a function\n",
    "def calculate_median(numbers):\n",
    "    numbers.sort() # sort the numbers from smallest to largest\n",
    "    length = len(numbers)\n",
    "    median0 = numbers[length//2] # median if the number length is odd\n",
    "    if length % 2 == 0:  # check for even if the length is even\n",
    "        median1 = numbers[length//2 - 1]  # first median number\n",
    "        median2 = numbers[length//2]       # second median number\n",
    "        median = (median1 + median2)/2\n",
    "        return median\n",
    "    else:\n",
    "        return numbers[length//2]\n",
    "\n",
    "# function call\n",
    "print('\\nThe median for the following list of values.')\n",
    "print(calculate_median([1,8,2,3,23,4,5,6,7]))\n",
    "\n",
    "\n",
    "\n",
    "def calculate_range(numbers):\n",
    "    '''Function to calculate the range of values'''\n",
    "    if len(numbers) == 0: # check if list length == 0, \n",
    "        return ('Invalide range')\n",
    "    else:\n",
    "        max_value = max(numbers)\n",
    "        min_value = min(numbers)\n",
    "        range = max_value - min_value\n",
    "        return range\n",
    "\n",
    "\n",
    "# function call\n",
    "print(calculate_range([1,3,7,13,18])) \n",
    "# function that calculate variance\n",
    "def calculate_variance(numbers):\n",
    "    '''Function to calculate the variance of a list of numbers'''\n",
    "    if len(numbers) == 0:  # Check if the list is empty\n",
    "        return None  # Return None if the list is empty\n",
    "\n",
    "    # Calculate the mean\n",
    "    mean = sum(numbers) / len(numbers)\n",
    "\n",
    "    # Calculate the squared differences from the mean\n",
    "    squared_differences = [(x - mean) ** 2 for x in numbers]\n",
    "\n",
    "    # Step 3: Calculate the variance\n",
    "    variance = sum(squared_differences) / len(numbers)\n",
    "\n",
    "    return variance\n",
    "\n",
    "def calculate_standard_deviation(numbers):\n",
    "    '''Function to calculate the standard deviation of a list of numbers'''\n",
    "    variance = calculate_variance(numbers)\n",
    "\n",
    "    if variance is None:  # If variance is None, return None\n",
    "        return None\n",
    "\n",
    "    # Step 1: Calculate the standard deviation\n",
    "    std_deviation = variance ** 0.5  # Square root of variance\n",
    "\n",
    "    return std_deviation\n",
    "\n",
    "# Function calls\n",
    "numbers = [2, 4, 6, 8, 10]\n",
    "\n",
    "# Calculate variance\n",
    "variance = calculate_variance(numbers)\n",
    "print(f\"Variance: {variance}\") \n",
    "\n",
    "# Calculate standard deviation\n",
    "std_deviation = calculate_standard_deviation(numbers)\n",
    "print(f\"Standard Deviation: {std_deviation:.4f}\")  \n",
    "\n",
    "\n"
   ]
  },
  {
   "cell_type": "code",
   "execution_count": 7,
   "metadata": {},
   "outputs": [
    {
     "name": "stdout",
     "output_type": "stream",
     "text": [
      "Mode: [2, 4]\n",
      "Mode: [1, 3]\n",
      "Mode: None\n"
     ]
    }
   ],
   "source": [
    "def calculate_mode(numbers):\n",
    "    '''Function to calculate the mode of a list of numbers'''\n",
    "    if len(numbers) == 0:  # Check if the list is empty\n",
    "        return None  # Return None if the list is empty\n",
    "\n",
    "    # Create a dictionary to count occurrences of each number\n",
    "    frequency = {}\n",
    "    for number in numbers:\n",
    "        if number in frequency:\n",
    "            frequency[number] += 1  # Increment count if the number exists in the dictionary\n",
    "        else:\n",
    "            frequency[number] = 1  # Initialize count to 1 if the number is new\n",
    "\n",
    "    # Find the number(s) with the highest frequency\n",
    "    max_frequency = max(frequency.values())  # Find the highest count\n",
    "    mode = [key for key, value in frequency.items() if value == max_frequency]  # Get all keys with the highest count\n",
    "\n",
    "    # If multiple numbers have the same highest frequency, return all of them\n",
    "    if len(mode) == 1:\n",
    "        return mode[0]  # Return the single mode\n",
    "    return mode  # Return a list of modes if there are multiple\n",
    "\n",
    "# Function calls\n",
    "numbers1 = [1, 2, 2, 3, 4, 4, 5]\n",
    "numbers2 = [1, 1, 1, 2, 3, 3, 3]\n",
    "numbers3 = []\n",
    "\n",
    "print(f\"Mode: {calculate_mode(numbers1)}\")  \n",
    "print(f\"Mode: {calculate_mode(numbers2)}\") \n",
    "print(f\"Mode: {calculate_mode(numbers3)}\") \n"
   ]
  },
  {
   "cell_type": "markdown",
   "metadata": {},
   "source": [
    "### Exercises: Level 3"
   ]
  },
  {
   "cell_type": "markdown",
   "metadata": {},
   "source": [
    "1. Write a function called is_prime, which checks if a number is prime."
   ]
  },
  {
   "cell_type": "code",
   "execution_count": 29,
   "metadata": {},
   "outputs": [
    {
     "name": "stdout",
     "output_type": "stream",
     "text": [
      "The number, 31 is prime number\n"
     ]
    }
   ],
   "source": [
    "def is_prime(number):\n",
    "    '''function to check for prime number'''\n",
    "    if number == 2:         #  if number == 2, it prime\n",
    "        return (f'The number, {number} is prime number')\n",
    "    elif number < 2:\n",
    "        return (f'The number, {number} is not prime number')\n",
    "    for i in range(2,number +1):                    # looping througt range of values inclusive of the number to check for\n",
    "        if number % i == 0:\n",
    "            return (f'The number, {number} is not prime number')\n",
    "        else:\n",
    "            return (f'The number, {number} is prime number')\n",
    "# function call\n",
    "print(is_prime(31))\n",
    "    "
   ]
  },
  {
   "cell_type": "markdown",
   "metadata": {},
   "source": [
    "2. Write a functions which checks if all items are unique in the list"
   ]
  },
  {
   "cell_type": "code",
   "execution_count": 48,
   "metadata": {},
   "outputs": [
    {
     "name": "stdout",
     "output_type": "stream",
     "text": [
      "False\n",
      "False\n",
      "True\n"
     ]
    }
   ],
   "source": [
    "def unique_values(numbers):\n",
    "    '''Function to check for unique values. len(numbers)==len(set(numbers))'''\n",
    "    empty_set = set()  # empty set to remove duplicate of numbers\n",
    "    for number in numbers:     # loop through the list of numbers\n",
    "        if number in empty_set:            # check for number in list of numbers\n",
    "            return False  \n",
    "        else:\n",
    "            empty_set.add(number)               # unique values shouldn't contain duplicate\n",
    "    return True\n",
    "# function call\n",
    "print(unique_values([2,5,4,4]))\n",
    "print(unique_values([2, 5, 2, 7, 8]))  \n",
    "print(unique_values([2, 5, 7, 8])) \n"
   ]
  },
  {
   "cell_type": "markdown",
   "metadata": {},
   "source": [
    "3. Write a function which checks if all the items of the list are of the same data type"
   ]
  },
  {
   "cell_type": "code",
   "execution_count": 59,
   "metadata": {},
   "outputs": [
    {
     "name": "stdout",
     "output_type": "stream",
     "text": [
      "True\n",
      "False\n",
      "True\n"
     ]
    }
   ],
   "source": [
    "def same_data_type(items):\n",
    "    '''attempt to check all data types of a list'''\n",
    "    if not items: # handling empty list\n",
    "        return True \n",
    "    first_item = type(items[0]) # checking the data type of the first item in a list of items\n",
    "    for item in items:             # loop througt list of items\n",
    "        if type(item) != first_item:      # check the first and last item contain the same data type\n",
    "            return False\n",
    "    else:\n",
    "        return True\n",
    "# function call\n",
    "print(same_data_type([1,2,3,4]))\n",
    "print(same_data_type([1,'mango',3,4]))\n",
    "print(same_data_type([]))"
   ]
  },
  {
   "cell_type": "markdown",
   "metadata": {},
   "source": [
    "4. Write a function which check if provided variable is a valid python variable"
   ]
  },
  {
   "cell_type": "code",
   "execution_count": 99,
   "metadata": {},
   "outputs": [
    {
     "name": "stdout",
     "output_type": "stream",
     "text": [
      "True\n",
      "False\n",
      "False\n",
      "True\n"
     ]
    }
   ],
   "source": [
    "import keyword\n",
    "\n",
    "def is_valid_variable(var_name):\n",
    "    '''Function to check if a provided variable name is valid in Python'''\n",
    "    if len(var_name) == 0:\n",
    "        return ('No variable name provied')\n",
    "    if keyword.iskeyword(var_name): \n",
    "        return False  # Return False if it's a Python reserved keyword\n",
    "    if var_name.isidentifier():  \n",
    "        return True  # Return True if it follow identifier rules\n",
    "    else:\n",
    "        return False  # If it passes all checks, it is valid\n",
    "\n",
    "# Function calls\n",
    "print(is_valid_variable(\"variable1\"))    \n",
    "print(is_valid_variable(\"1variable\"))    \n",
    "print(is_valid_variable(\"for\"))          \n",
    "print(is_valid_variable(\"_private_var\")) \n",
    "    \n",
    "\n"
   ]
  },
  {
   "cell_type": "code",
   "execution_count": 94,
   "metadata": {},
   "outputs": [
    {
     "name": "stdout",
     "output_type": "stream",
     "text": [
      "False\n"
     ]
    }
   ],
   "source": [
    "import keyword\n",
    "def is_valid_variable(var_name):\n",
    "    if len(var_name) == 0:\n",
    "        return False\n",
    "    if keyword.iskeyword(var_name):\n",
    "        return False\n",
    "    if var_name.isidentifier():\n",
    "        return True\n",
    "    else:\n",
    "        return True\n",
    "# call\n",
    "print(is_valid_variable('for'))   \n"
   ]
  },
  {
   "cell_type": "markdown",
   "metadata": {},
   "source": [
    "5. Go to the data folder and access the countries-data.py file.\n",
    "Create a function called the most_spoken_languages in the world. It should return 10 or 20 most spoken languages in the world in descending order\n",
    "Create a function called the most_populated_countries. It should return 10 or 20 most populated countries in descending order."
   ]
  },
  {
   "cell_type": "code",
   "execution_count": 5,
   "metadata": {},
   "outputs": [
    {
     "name": "stdout",
     "output_type": "stream",
     "text": [
      "Most Spoken Languages:\n",
      "English: 91\n",
      "French: 45\n",
      "Arabic: 25\n",
      "Spanish: 24\n",
      "Portuguese: 9\n",
      "Russian: 9\n",
      "Dutch: 8\n",
      "German: 7\n",
      "Chinese: 5\n",
      "Serbian: 4\n"
     ]
    }
   ],
   "source": [
    "from countries_data import countries_data\n",
    "from collections import Counter\n",
    "\n",
    "def most_spoken_languages(data, top_n=10):\n",
    "    language_counts = Counter()  # A dictionary-like object to count occurrences\n",
    "    \n",
    "    for country in data:  # Loop through all countries\n",
    "        language_counts.update(country[\"languages\"])  # Count languages\n",
    "    \n",
    "    # Get the top `top_n` languages sorted by count in descending order\n",
    "    return language_counts.most_common(top_n)\n",
    "\n",
    "# Most spoken languages\n",
    "print(\"Most Spoken Languages:\")\n",
    "for language, count in most_spoken_languages(countries_data, top_n=10):\n",
    "    print(f\"{language}: {count}\")\n"
   ]
  },
  {
   "cell_type": "code",
   "execution_count": 11,
   "metadata": {},
   "outputs": [
    {
     "name": "stdout",
     "output_type": "stream",
     "text": [
      "\n",
      "Most Populated Countries:\n",
      "China: 1,377,422,166\n",
      "India: 1,295,210,000\n",
      "United States of America: 323,947,000\n",
      "Indonesia: 258,705,000\n",
      "Brazil: 206,135,893\n",
      "Pakistan: 194,125,062\n",
      "Nigeria: 186,988,000\n",
      "Bangladesh: 161,006,790\n",
      "Russian Federation: 146,599,183\n",
      "Japan: 126,960,000\n"
     ]
    }
   ],
   "source": [
    "def most_populated_countries(data, top_n=10):\n",
    "    # Sort the countries by population in descending order\n",
    "    sorted_countries = sorted(data, key=lambda x: x[\"population\"], reverse=True)\n",
    "    \n",
    "    return sorted_countries[:top_n]  # Return the top `n` countries\n",
    "\n",
    "# Most populated countries\n",
    "print(\"\\nMost Populated Countries:\")\n",
    "for country in most_populated_countries(countries_data, top_n=10):\n",
    "    print(f\"{country['name']}: {country['population']:,}\")\n"
   ]
  },
  {
   "cell_type": "markdown",
   "metadata": {},
   "source": [
    "###  List Comprehensions Exercises"
   ]
  },
  {
   "cell_type": "markdown",
   "metadata": {},
   "source": [
    "1. Filter only negative and zero in the list using list comprehension\n",
    "\n",
    "numbers = [-4, -3, -2, -1, 0, 2, 4, 6]"
   ]
  },
  {
   "cell_type": "code",
   "execution_count": 23,
   "metadata": {},
   "outputs": [
    {
     "name": "stdout",
     "output_type": "stream",
     "text": [
      "[-4, -3, -2, -1, 0]\n"
     ]
    }
   ],
   "source": [
    "# filtr only the positive nmbers an zero\n",
    "numbers = [-4, -3, -2, -1, 0, 2, 4, 6]\n",
    "numbers = [number for number in numbers if number <= 0]\n",
    "print(numbers)"
   ]
  },
  {
   "cell_type": "markdown",
   "metadata": {},
   "source": [
    "2. Flatten the following list of lists of lists to a one dimensional list :\n",
    "\n",
    "list_of_lists =[[[1, 2, 3]], [[4, 5, 6]], [[7, 8, 9]]]\n",
    "\n",
    "output\n",
    "[1, 2, 3, 4, 5, 6, 7, 8, 9]"
   ]
  },
  {
   "cell_type": "code",
   "execution_count": 41,
   "metadata": {},
   "outputs": [
    {
     "name": "stdout",
     "output_type": "stream",
     "text": [
      "[1, 2, 3, 4, 5, 6, 7, 8, 9]\n"
     ]
    }
   ],
   "source": [
    "# list conversition to one dimension\n",
    "list_of_lists =[[[1, 2, 3]], [[4, 5, 6]], [[7, 8, 9]]]\n",
    "flatten_list = [number for first_bracket in list_of_lists for second_bracket in first_bracket for number in second_bracket]\n",
    "print(flatten_list)"
   ]
  },
  {
   "cell_type": "code",
   "execution_count": 57,
   "metadata": {},
   "outputs": [
    {
     "name": "stdout",
     "output_type": "stream",
     "text": [
      "(0, 1, 0, 0, 0, 0, 0)\n",
      "(1, 1, 1, 1, 1, 1, 1)\n",
      "(2, 1, 2, 4, 8, 16, 32)\n",
      "(3, 1, 3, 9, 27, 81, 243)\n",
      "(4, 1, 4, 16, 64, 256, 1024)\n",
      "(5, 1, 5, 25, 125, 625, 3125)\n",
      "(6, 1, 6, 36, 216, 1296, 7776)\n",
      "(7, 1, 7, 49, 343, 2401, 16807)\n",
      "(8, 1, 8, 64, 512, 4096, 32768)\n",
      "(9, 1, 9, 81, 729, 6561, 59049)\n",
      "(10, 1, 10, 100, 1000, 10000, 100000)\n"
     ]
    }
   ],
   "source": [
    "# 3. Using list comprehension create the following list of tuples\n",
    "#[(0, 1, 0, 0, 0, 0, 0),\n",
    "#(1, 1, 1, 1, 1, 1, 1),\n",
    "#(2, 1, 2, 4, 8, 16, 32),\n",
    "#(3, 1, 3, 9, 27, 81, 243),\n",
    "#(4, 1, 4, 16, 64, 256, 1024),\n",
    "#(5, 1, 5, 25, 125, 625, 3125),\n",
    "#(6, 1, 6, 36, 216, 1296, 7776),\n",
    "#(7, 1, 7, 49, 343, 2401, 16807),\n",
    "#(8, 1, 8, 64, 512, 4096, 32768),\n",
    "#(9, 1, 9, 81, 729, 6561, 59049),\n",
    "#(10, 1, 10, 100, 1000, 10000, 100000)]\n",
    "\n",
    "# using list compresion to create the above list\n",
    "tuple_lists = [(i,i**0,i**1,i**2,i**3,i**4,i**5) for i in range(11)]\n",
    "# print the result of tuple_list\n",
    "for i in tuple_lists:\n",
    "    print(i)\n",
    " \n",
    "\n"
   ]
  },
  {
   "cell_type": "markdown",
   "metadata": {},
   "source": [
    "4. Flatten the following list to a new list:\n",
    "\n",
    "countries = [[('Finland', 'Helsinki')], [('Sweden', 'Stockholm')], [('Norway', 'Oslo')]]\n",
    "output:\n",
    "\n",
    "[['FINLAND','FIN', 'HELSINKI'], ['SWEDEN', 'SWE', 'STOCKHOLM'], ['NORWAY', 'NOR', 'OSLO']]"
   ]
  },
  {
   "cell_type": "code",
   "execution_count": 93,
   "metadata": {},
   "outputs": [
    {
     "name": "stdout",
     "output_type": "stream",
     "text": [
      "['FINLAND', 'HELSINKI', 'SWEDEN', 'STOCKHOLM', 'NORWAY', 'OSLO']\n"
     ]
    }
   ],
   "source": [
    "countries = [[('Finland', 'Helsinki')], [('Sweden', 'Stockholm')], [('Norway', 'Oslo')]]\n",
    "flatten =[country.upper() for i in countries for x in i for country in x]\n",
    "print(a)"
   ]
  },
  {
   "cell_type": "markdown",
   "metadata": {},
   "source": [
    "5. Change the following list to a list of dictionaries:\n",
    "\n",
    "* countries = [[('Finland', 'Helsinki')], [('Sweden', 'Stockholm')], [('Norway', 'Oslo')]]\n",
    "* output:\n",
    "* [{'country': 'FINLAND', 'city': 'HELSINKI'},\n",
    "* {'country': 'SWEDEN', 'city': 'STOCKHOLM'},\n",
    "* {'country': 'NORWAY', 'city': 'OSLO'}]"
   ]
  },
  {
   "cell_type": "code",
   "execution_count": 118,
   "metadata": {},
   "outputs": [
    {
     "name": "stdout",
     "output_type": "stream",
     "text": [
      "[{'country': 'FINLAND', 'city': 'HELSINKI'}, {'country': 'SWEDEN', 'city': 'STOCKHOLM'}, {'country': 'NORWAY', 'city': 'OSLO'}]\n"
     ]
    }
   ],
   "source": [
    "countries = [[('Finland', 'Helsinki')], [('Sweden', 'Stockholm')], [('Norway', 'Oslo')]]\n",
    "\n",
    "# Use list comprehension to convert to a list of dictionaries\n",
    "result = [{'country': country.upper(), 'city': city.upper()} for sublist in countries for country, city in sublist]\n",
    "# Print the result\n",
    "print(result)\n"
   ]
  },
  {
   "cell_type": "markdown",
   "metadata": {},
   "source": [
    "6. Change the following list of lists to a list of concatenated strings:\n",
    "\n",
    "* names = [[('Asabeneh', 'Yetayeh')], [('David', 'Smith')], [('Donald', 'Trump')], [('Bill', 'Gates')]]\n",
    "* output\n",
    "* ['Asabeneh Yetaeyeh', 'David Smith', 'Donald Trump', 'Bill Gates']"
   ]
  },
  {
   "cell_type": "code",
   "execution_count": 123,
   "metadata": {},
   "outputs": [
    {
     "name": "stdout",
     "output_type": "stream",
     "text": [
      "['Asabeneh Yetayeh', 'David Smith', 'Donald Trump', 'Bill Gates']\n"
     ]
    }
   ],
   "source": [
    "\n",
    "names = [[('Asabeneh', 'Yetayeh')], [('David', 'Smith')], [('Donald', 'Trump')], [('Bill', 'Gates')]]\n",
    "# list comprehension to create a list of concatenated strings\n",
    "result = [' '.join(name) for sublist in names for name in sublist]\n",
    "print(result)"
   ]
  },
  {
   "cell_type": "markdown",
   "metadata": {},
   "source": [
    "7. Write a lambda function which can solve a slope or y-intercept of linear functions."
   ]
  },
  {
   "cell_type": "code",
   "execution_count": 127,
   "metadata": {},
   "outputs": [
    {
     "name": "stdout",
     "output_type": "stream",
     "text": [
      "2.0\n"
     ]
    }
   ],
   "source": [
    "# lambda equation to calculate slope of linear function\n",
    "slope = lambda x,y,c: (y -c)/x\n",
    "print(slope(-2,0,4))\n",
    "\n"
   ]
  }
 ],
 "metadata": {
  "kernelspec": {
   "display_name": "AREWADS-TRAINING",
   "language": "python",
   "name": "python3"
  },
  "language_info": {
   "codemirror_mode": {
    "name": "ipython",
    "version": 3
   },
   "file_extension": ".py",
   "mimetype": "text/x-python",
   "name": "python",
   "nbconvert_exporter": "python",
   "pygments_lexer": "ipython3",
   "version": "3.13.0"
  }
 },
 "nbformat": 4,
 "nbformat_minor": 2
}
