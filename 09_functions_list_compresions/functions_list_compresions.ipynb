{
 "cells": [
  {
   "cell_type": "markdown",
   "metadata": {},
   "source": [
    "### Exercises: Module 9"
   ]
  },
  {
   "cell_type": "markdown",
   "metadata": {},
   "source": [
    "#### Exercises: Level 1"
   ]
  },
  {
   "cell_type": "markdown",
   "metadata": {},
   "source": [
    "1. Declare a function add_two_numbers. It takes two parameters and it returns a sum."
   ]
  },
  {
   "cell_type": "code",
   "execution_count": 15,
   "metadata": {},
   "outputs": [
    {
     "name": "stdout",
     "output_type": "stream",
     "text": [
      "The sum of values is 8\n"
     ]
    }
   ],
   "source": [
    "# sum of two numbers in function\n",
    "def add_two_numbers(num1, num2):\n",
    "    total = num1 + num2\n",
    "    return total \n",
    "\n",
    "# call function add_two_numbers\n",
    "print('The sum of values is',  add_two_numbers(2,6))"
   ]
  },
  {
   "cell_type": "markdown",
   "metadata": {},
   "source": [
    "2. Area of a circle is calculated as follows: area = π x r x r. Write a function that calculates area_of_circle."
   ]
  },
  {
   "cell_type": "code",
   "execution_count": 35,
   "metadata": {},
   "outputs": [
    {
     "name": "stdout",
     "output_type": "stream",
     "text": [
      "The area of the circle at radious 4m =  50.272 m\n"
     ]
    }
   ],
   "source": [
    "# Area of a circle\n",
    "def area_of_circle(r):\n",
    "    𝞹 = 3.142\n",
    "    area = 𝞹 * r * r\n",
    "    return area\n",
    "# call the function area_of_circle\n",
    "circular_area = area_of_circle(4)\n",
    "print('The area of the circle at radious 4m = ',circular_area,'m')\n"
   ]
  },
  {
   "cell_type": "markdown",
   "metadata": {},
   "source": [
    "3. Write a function called add_all_nums which takes arbitrary number of arguments and sums all the arguments. Check if all the list items are number types. If not do give a reasonable feedback."
   ]
  },
  {
   "cell_type": "code",
   "execution_count": 73,
   "metadata": {},
   "outputs": [
    {
     "name": "stdout",
     "output_type": "stream",
     "text": [
      "20\n"
     ]
    }
   ],
   "source": [
    "# Sum of abitrary numbers\n",
    "def add_all_nums(*nums):\n",
    "    '''Adding the sum of the three arbitrary numbers'''\n",
    "    total = 0\n",
    "    for num in nums:\n",
    "        total += num\n",
    "    return total\n",
    "    # perform a function call\n",
    "print(add_all_nums(2,7,11))\n",
    "\n"
   ]
  },
  {
   "cell_type": "markdown",
   "metadata": {},
   "source": [
    "4. Temperature in °C can be converted to °F using this formula: °F = (°C x 9/5) + 32. Write a function which converts °C to °F, convert_celsius_to-fahrenheit."
   ]
  },
  {
   "cell_type": "code",
   "execution_count": 74,
   "metadata": {},
   "outputs": [
    {
     "name": "stdout",
     "output_type": "stream",
     "text": [
      "68.0\n"
     ]
    }
   ],
   "source": [
    "# Temperature conversion to fahrenheit\n",
    "def celsius_to_fahrenheit(celsius):\n",
    "    fahrenheit = (celsius * 9/5) + 32\n",
    "    return fahrenheit\n",
    "# call the function\n",
    "print(celsius_to_fahrenheit(20)) # input 20 degree celsius"
   ]
  },
  {
   "cell_type": "markdown",
   "metadata": {},
   "source": [
    "5. Write a function called check-season, it takes a month parameter and returns the season: Autumn, Winter, Spring or Summer."
   ]
  },
  {
   "cell_type": "code",
   "execution_count": 88,
   "metadata": {},
   "outputs": [
    {
     "name": "stdout",
     "output_type": "stream",
     "text": [
      "summar\n"
     ]
    }
   ],
   "source": [
    "# Check season base on month\n",
    "def check_season(months):\n",
    "    '''Season each month fall into'''\n",
    "    prompt = input('Enter a month: ')\n",
    "    month = prompt.title().strip() # capitalize each month and eleminate whitespaces\n",
    "    if month in ('September','October','November'):\n",
    "        return 'Autumn'\n",
    "    elif month in ('December','January','February'):\n",
    "        return 'Winter'\n",
    "    elif month in ('March','April','May'):\n",
    "        return 'Spring'\n",
    "    elif month in (\"June\",\"July\",\"August\",):\n",
    "        return 'summar'\n",
    "# function call\n",
    "print(check_season('months'))\n",
    "\n"
   ]
  },
  {
   "cell_type": "markdown",
   "metadata": {},
   "source": [
    "6. Write a function called calculate_slope which return the slope of a linear equation"
   ]
  },
  {
   "cell_type": "code",
   "execution_count": 87,
   "metadata": {},
   "outputs": [
    {
     "name": "stdout",
     "output_type": "stream",
     "text": [
      "2.0\n"
     ]
    }
   ],
   "source": [
    "def calculate_slope(y , c, x):\n",
    "    '''Linear equation that return slope'''\n",
    "    slope_m = (y - c)/x    # Equation of a straight line\n",
    "    return slope_m\n",
    "# function call\n",
    "print(calculate_slope(4, 0, 2)) # using positional arguement y=4, c=0, and x=2\n"
   ]
  },
  {
   "cell_type": "markdown",
   "metadata": {},
   "source": [
    "7. Quadratic equation is calculated as follows: ax² + bx + c = 0. Write a function which calculates solution set of a quadratic equation, solve_quadratic_eqn."
   ]
  },
  {
   "cell_type": "code",
   "execution_count": 90,
   "metadata": {},
   "outputs": [
    {
     "name": "stdout",
     "output_type": "stream",
     "text": [
      "123\n"
     ]
    }
   ],
   "source": [
    "# Quadratic equation\n",
    "def solve_quadratic_equ(a,b,c,x):\n",
    "    '''return values of a,b,c in the quadratic equation'''\n",
    "    y = a*x**2 + b*x + c\n",
    "    return y\n",
    "# call the function\n",
    "result = solve_quadratic_equ(2,3,4,7)\n",
    "print(result)"
   ]
  },
  {
   "cell_type": "markdown",
   "metadata": {},
   "source": [
    "8. Declare a function named print_list. It takes a list as a parameter and it prints out each element of the list."
   ]
  },
  {
   "cell_type": "code",
   "execution_count": 95,
   "metadata": {},
   "outputs": [
    {
     "ename": "NameError",
     "evalue": "name 'banana' is not defined",
     "output_type": "error",
     "traceback": [
      "\u001b[1;31m---------------------------------------------------------------------------\u001b[0m",
      "\u001b[1;31mNameError\u001b[0m                                 Traceback (most recent call last)",
      "Cell \u001b[1;32mIn[95], line 9\u001b[0m\n\u001b[0;32m      6\u001b[0m         \u001b[38;5;28;01mreturn\u001b[39;00m items\n\u001b[0;32m      8\u001b[0m \u001b[38;5;66;03m# call a function\u001b[39;00m\n\u001b[1;32m----> 9\u001b[0m \u001b[38;5;28mprint\u001b[39m(print_list(\u001b[43mbanana\u001b[49m,mango,orange,pineapple))\n",
      "\u001b[1;31mNameError\u001b[0m: name 'banana' is not defined"
     ]
    }
   ],
   "source": [
    "# Declear an empty list\n",
    "def print_list(item1, item2,*item3):\n",
    "    items = []\n",
    "    for item in items:\n",
    "        items.append()\n",
    "        return items\n",
    "    \n",
    "# call a function\n",
    "print(print_list(banana,mango,orange,pineapple))\n",
    "\n",
    "\n"
   ]
  }
 ],
 "metadata": {
  "kernelspec": {
   "display_name": "AREWADS-TRAINING",
   "language": "python",
   "name": "python3"
  },
  "language_info": {
   "codemirror_mode": {
    "name": "ipython",
    "version": 3
   },
   "file_extension": ".py",
   "mimetype": "text/x-python",
   "name": "python",
   "nbconvert_exporter": "python",
   "pygments_lexer": "ipython3",
   "version": "3.13.0"
  }
 },
 "nbformat": 4,
 "nbformat_minor": 2
}
