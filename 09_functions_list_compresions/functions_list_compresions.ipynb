{
 "cells": [
  {
   "cell_type": "markdown",
   "metadata": {},
   "source": [
    "### Exercises: Module 9"
   ]
  },
  {
   "cell_type": "markdown",
   "metadata": {},
   "source": [
    "#### Exercises: Level 1"
   ]
  },
  {
   "cell_type": "markdown",
   "metadata": {},
   "source": [
    "1. Declare a function add_two_numbers. It takes two parameters and it returns a sum."
   ]
  },
  {
   "cell_type": "code",
   "execution_count": 15,
   "metadata": {},
   "outputs": [
    {
     "name": "stdout",
     "output_type": "stream",
     "text": [
      "The sum of values is 8\n"
     ]
    }
   ],
   "source": [
    "# sum of two numbers in function\n",
    "def add_two_numbers(num1, num2):\n",
    "    total = num1 + num2\n",
    "    return total \n",
    "\n",
    "# call function add_two_numbers\n",
    "print('The sum of values is',  add_two_numbers(2,6))"
   ]
  },
  {
   "cell_type": "markdown",
   "metadata": {},
   "source": [
    "2. Area of a circle is calculated as follows: area = π x r x r. Write a function that calculates area_of_circle."
   ]
  },
  {
   "cell_type": "code",
   "execution_count": 35,
   "metadata": {},
   "outputs": [
    {
     "name": "stdout",
     "output_type": "stream",
     "text": [
      "The area of the circle at radious 4m =  50.272 m\n"
     ]
    }
   ],
   "source": [
    "# Area of a circle\n",
    "def area_of_circle(r):\n",
    "    𝞹 = 3.142\n",
    "    area = 𝞹 * r * r\n",
    "    return area\n",
    "# call the function area_of_circle\n",
    "circular_area = area_of_circle(4)\n",
    "print('The area of the circle at radious 4m = ',circular_area,'m')\n"
   ]
  },
  {
   "cell_type": "markdown",
   "metadata": {},
   "source": [
    "3. Write a function called add_all_nums which takes arbitrary number of arguments and sums all the arguments. Check if all the list items are number types. If not do give a reasonable feedback."
   ]
  },
  {
   "cell_type": "code",
   "execution_count": 73,
   "metadata": {},
   "outputs": [
    {
     "name": "stdout",
     "output_type": "stream",
     "text": [
      "20\n"
     ]
    }
   ],
   "source": [
    "# Sum of abitrary numbers\n",
    "def add_all_nums(*nums):\n",
    "    '''Adding the sum of the three arbitrary numbers'''\n",
    "    total = 0\n",
    "    for num in nums:\n",
    "        total += num\n",
    "    return total\n",
    "    # perform a function call\n",
    "print(add_all_nums(2,7,11))\n",
    "\n"
   ]
  },
  {
   "cell_type": "markdown",
   "metadata": {},
   "source": [
    "4. Temperature in °C can be converted to °F using this formula: °F = (°C x 9/5) + 32. Write a function which converts °C to °F, convert_celsius_to-fahrenheit."
   ]
  },
  {
   "cell_type": "code",
   "execution_count": 74,
   "metadata": {},
   "outputs": [
    {
     "name": "stdout",
     "output_type": "stream",
     "text": [
      "68.0\n"
     ]
    }
   ],
   "source": [
    "# Temperature conversion to fahrenheit\n",
    "def celsius_to_fahrenheit(celsius):\n",
    "    fahrenheit = (celsius * 9/5) + 32\n",
    "    return fahrenheit\n",
    "# call the function\n",
    "print(celsius_to_fahrenheit(20)) # input 20 degree celsius"
   ]
  },
  {
   "cell_type": "markdown",
   "metadata": {},
   "source": [
    "5. Write a function called check-season, it takes a month parameter and returns the season: Autumn, Winter, Spring or Summer."
   ]
  },
  {
   "cell_type": "code",
   "execution_count": 88,
   "metadata": {},
   "outputs": [
    {
     "name": "stdout",
     "output_type": "stream",
     "text": [
      "summar\n"
     ]
    }
   ],
   "source": [
    "# Check season base on month\n",
    "def check_season(months):\n",
    "    '''Season each month fall into'''\n",
    "    prompt = input('Enter a month: ')\n",
    "    month = prompt.title().strip() # capitalize each month and eleminate whitespaces\n",
    "    if month in ('September','October','November'):\n",
    "        return 'Autumn'\n",
    "    elif month in ('December','January','February'):\n",
    "        return 'Winter'\n",
    "    elif month in ('March','April','May'):\n",
    "        return 'Spring'\n",
    "    elif month in (\"June\",\"July\",\"August\",):\n",
    "        return 'summar'\n",
    "# function call\n",
    "print(check_season('months'))\n",
    "\n"
   ]
  },
  {
   "cell_type": "markdown",
   "metadata": {},
   "source": [
    "6. Write a function called calculate_slope which return the slope of a linear equation"
   ]
  },
  {
   "cell_type": "code",
   "execution_count": 87,
   "metadata": {},
   "outputs": [
    {
     "name": "stdout",
     "output_type": "stream",
     "text": [
      "2.0\n"
     ]
    }
   ],
   "source": [
    "def calculate_slope(y , c, x):\n",
    "    '''Linear equation that return slope'''\n",
    "    slope_m = (y - c)/x    # Equation of a straight line\n",
    "    return slope_m\n",
    "# function call\n",
    "print(calculate_slope(4, 0, 2)) # using positional arguement y=4, c=0, and x=2\n"
   ]
  },
  {
   "cell_type": "markdown",
   "metadata": {},
   "source": [
    "7. Quadratic equation is calculated as follows: ax² + bx + c = 0. Write a function which calculates solution set of a quadratic equation, solve_quadratic_eqn."
   ]
  },
  {
   "cell_type": "code",
   "execution_count": 90,
   "metadata": {},
   "outputs": [
    {
     "name": "stdout",
     "output_type": "stream",
     "text": [
      "123\n"
     ]
    }
   ],
   "source": [
    "# Quadratic equation\n",
    "def solve_quadratic_equ(a,b,c,x):\n",
    "    '''return values of a,b,c in the quadratic equation'''\n",
    "    y = a*x**2 + b*x + c\n",
    "    return y\n",
    "# call the function\n",
    "result = solve_quadratic_equ(2,3,4,7)\n",
    "print(result)"
   ]
  },
  {
   "cell_type": "markdown",
   "metadata": {},
   "source": [
    "8. Declare a function named print_list. It takes a list as a parameter and it prints out each element of the list."
   ]
  },
  {
   "cell_type": "code",
   "execution_count": 120,
   "metadata": {},
   "outputs": [
    {
     "name": "stdout",
     "output_type": "stream",
     "text": [
      "Banana\n",
      "Mango\n"
     ]
    }
   ],
   "source": [
    "# function to print items in a list\n",
    "def print_list(*items):\n",
    "    for item in items:\n",
    "        print(item.title())\n",
    "# function call\n",
    "print_list('banana','mango')"
   ]
  },
  {
   "cell_type": "markdown",
   "metadata": {},
   "source": [
    "9. Declare a function named reverse_list. It takes an array as a parameter and it returns the reverse of the array (use loops).\n",
    "print(reverse_list([1, 2, 3, 4, 5]))\n",
    "\n",
    "*  [5, 4, 3, 2, 1]\n",
    "  \n",
    "print(reverse_list1([\"A\", \"B\", \"C\"]))\n",
    "*  [\"C\", \"B\", \"A\"]"
   ]
  },
  {
   "cell_type": "code",
   "execution_count": 156,
   "metadata": {},
   "outputs": [
    {
     "name": "stdout",
     "output_type": "stream",
     "text": [
      "[5, 4, 3, 2, 1]\n",
      "['C', 'B', 'A']\n"
     ]
    }
   ],
   "source": [
    "# Function to reverse a list using a loop\n",
    "def reverse_list(array):\n",
    "    reversed_items = [] \n",
    "    for i in range(len(array) - 1, -1, -1): \n",
    "        reversed_items.append(array[i]) \n",
    "    return reversed_items\n",
    "\n",
    "# Test cases\n",
    "print(reverse_list([1, 2, 3, 4, 5]))\n",
    "print(reverse_list([\"A\", \"B\", \"C\"])) "
   ]
  },
  {
   "cell_type": "markdown",
   "metadata": {},
   "source": [
    "10. Declare a function named capitalize_list_items. It takes a list as a parameter and it returns a capitalized list of items"
   ]
  },
  {
   "cell_type": "code",
   "execution_count": 145,
   "metadata": {},
   "outputs": [
    {
     "name": "stdout",
     "output_type": "stream",
     "text": [
      "['Apple', 'Banana', 'Cherry']\n",
      "['Dog', 'Cat', 'Bird']\n"
     ]
    }
   ],
   "source": [
    "# Function to capitalize list items\n",
    "def capitalize_list_items(items):\n",
    "    capitalized_items = []  # Initialize an empty list to store capitalized items\n",
    "    for item in items:  \n",
    "        capitalized_items.append(item.capitalize())  \n",
    "    return capitalized_items \n",
    "\n",
    "# Test cases\n",
    "print(capitalize_list_items([\"apple\", \"banana\", \"cherry\"]))  \n",
    "print(capitalize_list_items([\"dog\", \"cat\", \"bird\"]))       \n"
   ]
  },
  {
   "cell_type": "markdown",
   "metadata": {},
   "source": [
    "11. Declare a function named add_item. It takes a list and an item parameters. It returns a list with the item added at the end.\n",
    "   \n",
    "food_staff = ['Potato', 'Tomato', 'Mango', 'Milk']\n",
    "\n",
    "print(add_item(food_staff, 'Meat'))     # ['Potato', 'Tomato', 'Mango', 'Milk','Meat']\n",
    "\n",
    "numbers = [2, 3, 7, 9]\n",
    "\n",
    "print(add_item(numbers, 5))      [2, 3, 7, 9, 5]"
   ]
  },
  {
   "cell_type": "code",
   "execution_count": 168,
   "metadata": {},
   "outputs": [
    {
     "name": "stdout",
     "output_type": "stream",
     "text": [
      "['Potato', 'Tomato', 'Mango', 'Milk', 'meat']\n",
      "[2, 3, 7, 9, 5]\n"
     ]
    }
   ],
   "source": [
    "# function to add items\n",
    "def add_item(list,item):\n",
    "    new_lst = []\n",
    "    for element in list:\n",
    "        new_lst.append(element)\n",
    "    new_lst.append(item)\n",
    "    return new_lst\n",
    "# function call\n",
    "food_stuff = ['Potato', 'Tomato', 'Mango', 'Milk']\n",
    "numbers = [2,3,7,9]\n",
    "print(add_item(food_stuff, 'meat'))\n",
    "print(add_item(numbers, 5))\n",
    "        "
   ]
  },
  {
   "cell_type": "markdown",
   "metadata": {},
   "source": [
    "12. Declare a function named remove_item. It takes a list and an item parameters. It returns a list with the item removed from it.\n",
    "    \n",
    "food_staff = ['Potato', 'Tomato', 'Mango', 'Milk']\n",
    "\n",
    "print(remove_item(food_staff, 'Mango'))  # ['Potato', 'Tomato', 'Milk'];\n",
    "\n",
    "numbers = [2, 3, 7, 9]\n",
    "\n",
    "print(remove_item(numbers, 3))  # [2, 7, 9]"
   ]
  },
  {
   "cell_type": "code",
   "execution_count": 169,
   "metadata": {},
   "outputs": [
    {
     "name": "stdout",
     "output_type": "stream",
     "text": [
      "['Potato', 'Tomato', 'Milk']\n",
      "[2, 3, 7]\n"
     ]
    }
   ],
   "source": [
    "# Function returns a list with item remove\n",
    "def remove_item(list,item):\n",
    "    new_list = []\n",
    "    for element in list:\n",
    "        new_list.append(element)\n",
    "    new_list.remove(item)\n",
    "    return new_list\n",
    "food_stuff = ['Potato', 'Tomato', 'Mango', 'Milk']\n",
    "numbers = [2, 3, 7, 9]\n",
    "# function call\n",
    "print(remove_item(food_stuff,'Mango'))\n",
    "print(remove_item(numbers,9))"
   ]
  },
  {
   "cell_type": "markdown",
   "metadata": {},
   "source": [
    "13. Declare a function named sum_of_numbers. It takes a number parameter and it adds all the numbers in that range.\n",
    "    \n",
    "print(sum_of_numbers(5))  # 15\n",
    "\n",
    "print(sum_of_numbers(10)) # 55\n",
    "\n",
    "print(sum_of_numbers(100)) # 5050"
   ]
  },
  {
   "cell_type": "code",
   "execution_count": 187,
   "metadata": {},
   "outputs": [
    {
     "name": "stdout",
     "output_type": "stream",
     "text": [
      "15\n",
      "55\n",
      "5050\n"
     ]
    }
   ],
   "source": [
    "# function that adds all numbers in range\n",
    "def sum_of_number(n): # declera n parameter\n",
    "    total = 0\n",
    "    for i in range(n + 1):\n",
    "        total += i \n",
    "    return total\n",
    "\n",
    "# call a function\n",
    "print(sum_of_number(5))\n",
    "print(sum_of_number(10))\n",
    "print(sum_of_number(100))\n",
    "\n"
   ]
  },
  {
   "cell_type": "markdown",
   "metadata": {},
   "source": [
    "14. Declare a function named sum_of_odds. It takes a number parameter and it adds all the odd numbers in that range."
   ]
  },
  {
   "cell_type": "code",
   "execution_count": 200,
   "metadata": {},
   "outputs": [
    {
     "name": "stdout",
     "output_type": "stream",
     "text": [
      "9\n",
      "25\n",
      "2500\n"
     ]
    }
   ],
   "source": [
    "# function that add odd numbers in range\n",
    "def sum_of_odds(n):\n",
    "    total = 0\n",
    "    for i in range(n + 1): # last value to be inclusive\n",
    "        if i % 2 != 0:\n",
    "            total += i\n",
    "    return total\n",
    "# call function\n",
    "print(sum_of_odds(5))\n",
    "print(sum_of_odds(10))\n",
    "print(sum_of_odds(100))\n"
   ]
  },
  {
   "cell_type": "markdown",
   "metadata": {},
   "source": [
    "15. Declare a function named sum_of_even. It takes a number parameter and it adds all the even numbers in that - range."
   ]
  },
  {
   "cell_type": "code",
   "execution_count": 206,
   "metadata": {},
   "outputs": [
    {
     "name": "stdout",
     "output_type": "stream",
     "text": [
      "6\n",
      "30\n",
      "2550\n"
     ]
    }
   ],
   "source": [
    "# function that add all even numbers in range\n",
    "def sum_of_even(y):\n",
    "    initial_count = 0\n",
    "    for i in range(y + 1):\n",
    "        if i % 2 == 0:\n",
    "            initial_count += i\n",
    "    return initial_count\n",
    "# function call\n",
    "print(sum_of_even(5))\n",
    "print(sum_of_even(10))\n",
    "print(sum_of_even(100))"
   ]
  },
  {
   "cell_type": "markdown",
   "metadata": {},
   "source": [
    "### Exercises: Level 2"
   ]
  },
  {
   "cell_type": "markdown",
   "metadata": {},
   "source": [
    "1. Declare a function named evens_and_odds . It takes a positive integer as parameter and it counts number of evens and odds in the number.\n",
    "   \n",
    "    print(evens_and_odds(100))\n",
    "\n",
    "    * The number of odds are 50.\n",
    "  \n",
    "    * The number of evens are 51."
   ]
  },
  {
   "cell_type": "code",
   "execution_count": 273,
   "metadata": {},
   "outputs": [
    {
     "name": "stdout",
     "output_type": "stream",
     "text": [
      "The even and odd count are as follows:(51, 50)\n"
     ]
    }
   ],
   "source": [
    "# function that counts even and odd numbers\n",
    "def evens_and_odds(y):\n",
    "    even_count = 0\n",
    "    odd_count = 0\n",
    "    for i in range(y + 1):\n",
    "        if i % 2 == 0:\n",
    "            even_count += 1\n",
    "        else:\n",
    "              odd_count += 1\n",
    "    return even_count, odd_count\n",
    "\n",
    "# function call\n",
    "print(f'The even and odd count are as follows:{evens_and_odds(100)}')\n",
    "\n"
   ]
  },
  {
   "cell_type": "markdown",
   "metadata": {},
   "source": [
    "2. Call your function factorial, it takes a whole number as a parameter and it return a factorial of the number"
   ]
  },
  {
   "cell_type": "code",
   "execution_count": 274,
   "metadata": {},
   "outputs": [
    {
     "name": "stdout",
     "output_type": "stream",
     "text": [
      "120\n"
     ]
    }
   ],
   "source": [
    "# function that return factorial number\n",
    "def factorial(m):\n",
    "    if m == 1 or m == 0:\n",
    "        return 1\n",
    "    else:\n",
    "        return m * factorial(m - 1)\n",
    "\n",
    "# function call\n",
    "print(factorial(5))"
   ]
  },
  {
   "cell_type": "code",
   "execution_count": 302,
   "metadata": {},
   "outputs": [
    {
     "name": "stdout",
     "output_type": "stream",
     "text": [
      "120\n"
     ]
    }
   ],
   "source": [
    "# Alternatively\n",
    "def factorial(m):\n",
    "    if m == 0 or m == 1: # the fattorial is equal to 1 according to defination\n",
    "        return 1\n",
    "    \n",
    "    result = 1\n",
    "    for i in range(1, m +1):\n",
    "        result = result*i\n",
    "    return result\n",
    "# function call\n",
    "print(factorial(5))\n",
    "\n"
   ]
  },
  {
   "cell_type": "markdown",
   "metadata": {},
   "source": [
    "3. Call your function is_empty, it takes a parameter and it checks if it is empty or not"
   ]
  },
  {
   "cell_type": "code",
   "execution_count": 275,
   "metadata": {},
   "outputs": [
    {
     "name": "stdout",
     "output_type": "stream",
     "text": [
      "False\n",
      "True\n"
     ]
    }
   ],
   "source": [
    "# function that check for empty parameter\n",
    "def is_empty(m):\n",
    "    if m:\n",
    "        return True\n",
    "    else:\n",
    "        return False\n",
    "    # call a function\n",
    "print(is_empty([]))\n",
    "print(is_empty([1]))"
   ]
  },
  {
   "cell_type": "markdown",
   "metadata": {},
   "source": [
    "4. Write different functions which take lists. They should calculate_mean, calculate_median, calculate_mode, calculate_range, calculate_variance, calculate_std (standard deviation)."
   ]
  },
  {
   "cell_type": "code",
   "execution_count": 9,
   "metadata": {},
   "outputs": [
    {
     "name": "stdout",
     "output_type": "stream",
     "text": [
      "3.0\n",
      "13.2\n",
      "21.4\n",
      "2.5\n"
     ]
    }
   ],
   "source": [
    "# Different function containing list of items\n",
    "def calculate_mean(numbers):\n",
    "    '''Find the mean from the list of numbers'''\n",
    "    numbers.sort()\n",
    "    length = len(numbers)     # mean is the sum of numbers divided by length. i.e.  Average numbers\n",
    "    total = sum(numbers)\n",
    "    mean = total/length\n",
    "    return mean\n",
    "# call function\n",
    "print(calculate_mean([1,2,3,4,5]))\n",
    "print(calculate_mean([8,12,30,11,5]))\n",
    "print(calculate_mean([4,16,32,40,15]))\n",
    "\n",
    "\n",
    "# Still workin on it. check later\n",
    "# define a function\n",
    "def calculate_median(median):\n",
    "    length = len(median)\n",
    "    median1 = length//2  # median when length is odd\n",
    "    median2 = length//2 - 1 # median for even numbers\n",
    "    if length % 2 == 0:\n",
    "        median_number = (median1 + median2)/2\n",
    "        return median_number\n",
    "    else:\n",
    "        return median1\n",
    "# function call\n",
    "print(calculate_median([1,2,3,4,5,6]))\n",
    "\n",
    "\n"
   ]
  }
 ],
 "metadata": {
  "kernelspec": {
   "display_name": "AREWADS-TRAINING",
   "language": "python",
   "name": "python3"
  },
  "language_info": {
   "codemirror_mode": {
    "name": "ipython",
    "version": 3
   },
   "file_extension": ".py",
   "mimetype": "text/x-python",
   "name": "python",
   "nbconvert_exporter": "python",
   "pygments_lexer": "ipython3",
   "version": "3.13.0"
  }
 },
 "nbformat": 4,
 "nbformat_minor": 2
}
