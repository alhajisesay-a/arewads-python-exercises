{
 "cells": [
  {
   "cell_type": "markdown",
   "metadata": {},
   "source": [
    "### Module 13"
   ]
  },
  {
   "cell_type": "markdown",
   "metadata": {},
   "source": [
    "#### Python Datetime Exercises"
   ]
  },
  {
   "cell_type": "markdown",
   "metadata": {},
   "source": [
    "1. Get the current day, month, year, hour, minute and timestamp from datetime module"
   ]
  },
  {
   "cell_type": "code",
   "execution_count": 61,
   "metadata": {},
   "outputs": [
    {
     "name": "stdout",
     "output_type": "stream",
     "text": [
      "The current time is:  2025-01-12 18:13:45.565462\n",
      "The current day is:  12\n",
      "The current month is:  1\n",
      "The current year is:  2025\n",
      "This is the exact hour at the time of running the program:  18\n",
      "The minute when this program is execuited is:  13\n",
      "Time stamp :  1736705625.565462\n",
      "\n",
      "12/1/2025 - 18/13, TTime stamp = 1736705625.565462\n"
     ]
    }
   ],
   "source": [
    "from datetime import datetime\n",
    "current_time = datetime.now()\n",
    "print('The current time is: ',current_time)\n",
    "\n",
    "current_day = current_time.day\n",
    "print('The current day is: ',current_day)\n",
    "\n",
    "current_month = current_time.month\n",
    "print('The current month is: ',current_month)\n",
    "\n",
    "current_year = current_time.year\n",
    "print('The current year is: ',current_year)\n",
    "\n",
    "current_hour = current_time.hour\n",
    "print('This is the exact hour at the time of running the program: ',current_hour)\n",
    "\n",
    "current_minute = current_time.minute\n",
    "print('The minute when this program is execuited is: ',current_minute)\n",
    "\n",
    "timestamp = current_time.timestamp()\n",
    "print('Time stamp : ',timestamp)\n",
    "\n",
    "# overrall date and time as of today \n",
    "print(f'\\n{current_day}/{current_month}/{current_year} - {current_hour}/{current_minute}, TTime stamp = {timestamp}')\n"
   ]
  },
  {
   "cell_type": "markdown",
   "metadata": {},
   "source": [
    "2. Format the current date using this format: \"%m/%d/%Y, %H:%M:%S\")"
   ]
  },
  {
   "cell_type": "code",
   "execution_count": 64,
   "metadata": {},
   "outputs": [
    {
     "name": "stdout",
     "output_type": "stream",
     "text": [
      "01/12/2025, 18:27:33\n"
     ]
    }
   ],
   "source": [
    "from datetime import datetime\n",
    "current_date = datetime.now()\n",
    "date = current_date.strftime('%m/%d/%Y, %H:%M:%S')\n",
    "print(date)\n",
    "\n"
   ]
  },
  {
   "cell_type": "markdown",
   "metadata": {},
   "source": [
    "3. Today is 5 December, 2019. Change this time string to time."
   ]
  },
  {
   "cell_type": "code",
   "execution_count": 75,
   "metadata": {},
   "outputs": [
    {
     "name": "stdout",
     "output_type": "stream",
     "text": [
      "The string date =  5 December, 2019\n",
      "Converted date:  2019-12-05 00:00:00\n"
     ]
    }
   ],
   "source": [
    "from datetime import datetime\n",
    "date = '5 December, 2019'\n",
    "print('The string date = ',date)\n",
    "conv_date = datetime.strptime(date, \"%d %B, %Y\")\n",
    "print('Converted date: ',conv_date)"
   ]
  },
  {
   "cell_type": "markdown",
   "metadata": {},
   "source": [
    "4. Calculate the time difference between now and new year."
   ]
  },
  {
   "cell_type": "code",
   "execution_count": 78,
   "metadata": {},
   "outputs": [
    {
     "name": "stdout",
     "output_type": "stream",
     "text": [
      "The time now is:  2025-01-12 19:01:46.104729\n",
      "353 days, 4:58:13.895271\n"
     ]
    }
   ],
   "source": [
    "# Time difference between now and 2026\n",
    "from datetime import datetime\n",
    "time_now = datetime.now()\n",
    "print('The time now is: ',time_now)\n",
    "next_year = datetime(year = 2026, month = 1, day = 1, hour = 00, minute = 00, second = 00 )\n",
    "time_difference = next_year - time_now\n",
    "print(time_difference)\n"
   ]
  },
  {
   "cell_type": "markdown",
   "metadata": {},
   "source": [
    "5. Calculate the time difference between 1 January 1970 and now."
   ]
  },
  {
   "cell_type": "code",
   "execution_count": 79,
   "metadata": {},
   "outputs": [
    {
     "name": "stdout",
     "output_type": "stream",
     "text": [
      "20100 days, 19:13:19.705888\n"
     ]
    }
   ],
   "source": [
    "# Time difference between 1 january 1970 and now\n",
    "from datetime import datetime\n",
    "current_date = datetime.now()\n",
    "old_date = datetime(year = 1970, month = 1, day = 1)\n",
    "time_difference = current_date - old_date\n",
    "print(time_difference)"
   ]
  },
  {
   "cell_type": "markdown",
   "metadata": {},
   "source": [
    "6. Think, what can you use the datetime module for? Examples:\n",
    "Time series analysis\n",
    "To get a timestamp of any activities in an application\n",
    "Adding posts on a blog"
   ]
  },
  {
   "cell_type": "markdown",
   "metadata": {},
   "source": [
    "We apply the datetime on the following:\n",
    "- Time series analysis\n",
    "- To get a timestamp of any activities in an application\n",
    "- Adding posts on a blog\n",
    "- Scheduling tasks\n",
    "- Logging events\n",
    "- Calculating age from birthdate\n",
    "- Measuring time intervals"
   ]
  },
  {
   "cell_type": "markdown",
   "metadata": {},
   "source": [
    "###  File Handling Exercises:"
   ]
  },
  {
   "cell_type": "markdown",
   "metadata": {},
   "source": [
    "#### Exercises: Level 1"
   ]
  },
  {
   "cell_type": "markdown",
   "metadata": {},
   "source": [
    "1. Write a function which count number of lines and number of words in a text. All the files are in the data the folder: a) Read obama_speech.txt file and count number of lines and words b) Read michelle_obama_speech.txt file and count number of lines and words c) Read donald_speech.txt file and count number of lines and words d) Read melina_trump_speech.txt file and count number of lines and words"
   ]
  },
  {
   "cell_type": "code",
   "execution_count": 114,
   "metadata": {},
   "outputs": [
    {
     "name": "stdout",
     "output_type": "stream",
     "text": [
      "The file name donald_speech.txt has 1259 words\n",
      "The file name melina_speech.txt has 1375 words\n",
      "The file name michelle_obama_speech.txt has 2204 words\n",
      "The file name obama_speech.txt has 2400 words\n",
      "I am sorry but the file john.txt you are lookin for is unavailable\n"
     ]
    }
   ],
   "source": [
    "# Function that will analyse Obama's speech\n",
    "def analyse_text_file(file_name):\n",
    "    '''An attempt to count the numbers of words spoken in the txt file'''\n",
    "    try:\n",
    "        with open(file_name) as object:\n",
    "            messages = object.read()\n",
    "    except FileNotFoundError:\n",
    "        return f'I am sorry but the file {file_name} you are lookin for is unavailable'\n",
    "    else:\n",
    "        # if file available.\n",
    "        split_words = messages.split()\n",
    "        word_length = len(split_words)\n",
    "        return f'The file name {file_name} has {word_length} words'\n",
    "file_name = ['donald_speech.txt','melina_speech.txt','michelle_obama_speech.txt','obama_speech.txt','john.txt']\n",
    "for count in file_name:\n",
    "    count_words_spoken = analyse_text_file(count)\n",
    "    print(count_words_spoken)"
   ]
  },
  {
   "cell_type": "markdown",
   "metadata": {},
   "source": [
    "2. Read the countries_data.json data file in data directory, create a function that finds the ten most spoken languages\n",
    "\n",
    "### Your output should look like this\n",
    "* print(most_spoken_languages(filename='./data/countries_data.json', 10))\n",
    "* [(91, 'English'),\n",
    "* (45, 'French'),\n",
    "* (25, 'Arabic'),\n",
    "* (24, 'Spanish'),\n",
    "* (9, 'Russian'),\n",
    "* (9, 'Portuguese'),\n",
    "* (8, 'Dutch'),\n",
    "* (7, 'German'),\n",
    "* (5, 'Chinese'),\n",
    "* (4, 'Swahili'),\n",
    "* (4, 'Serbian')]\n",
    "\n",
    "### Your output should look like this\n",
    "* print(most_spoken_languages(filename='./data/countries_data.json', 3))\n",
    "* [(91, 'English'),\n",
    "* (45, 'French'),\n",
    "* (25, 'Arabic')]"
   ]
  },
  {
   "cell_type": "code",
   "execution_count": 125,
   "metadata": {},
   "outputs": [],
   "source": [
    "# function that find ten most spoken languages\n",
    "import json\n",
    "def ten_most_spoken_languages(file_name,n):\n",
    "    '''Function to determine the ten most spoken languages, n'''\n",
    "\n",
    "    # open and load the json data\n",
    "    with open(file_name) as object:\n",
    "        countries = json.load(object)\n",
    "        return countries\n",
    "    \n",
    "    # create a list of all languages\n",
    "    lang_lists = []\n",
    "    for country in countries:\n",
    "        lang_lists.extend(country)\n",
    "\n",
    "    # create a dictionary to store the occurance of the languages\n",
    "    frequency = {}\n",
    "    for lang_list in lang_lists:\n",
    "        frequency[lang_list] = frequency.get(lang_list,0) + 1\n",
    "\n"
   ]
  },
  {
   "cell_type": "code",
   "execution_count": null,
   "metadata": {},
   "outputs": [],
   "source": [
    "import json\n",
    "\n",
    "def most_spoken_languages(file_path, n):\n",
    "    \"\"\"\n",
    "    Extracts the `n` most spoken languages from a JSON file.\n",
    "    \"\"\"\n",
    "    # Open and load the JSON file\n",
    "    with open(file_path, 'r') as file:\n",
    "        countries = json.load(file)  # Load JSON data directly from the file\n",
    "\n",
    "    # Create a list of all languages\n",
    "    all_languages = []\n",
    "    for country in countries:\n",
    "        all_languages.extend(country['languages'])\n",
    "\n",
    "    # Count occurrences of each language\n",
    "    language_counts = {}\n",
    "    for language in all_languages:\n",
    "        language_counts[language] = language_counts.get(language, 0) + 1\n",
    "\n",
    "    # Sort the languages by their count in descending order\n",
    "    sorted_languages = sorted(language_counts.items(), key=lambda x: x[1], reverse=True)\n",
    "\n",
    "    # Return the top `n` most spoken languages\n",
    "    return sorted_languages[:n]\n",
    "\n",
    "# Example usage\n",
    "print(most_spoken_languages('countries_data.json', 10))  # Top 10 languages\n",
    "print(most_spoken_languages('countries_data.json', 3))   # Top 3 languages\n"
   ]
  }
 ],
 "metadata": {
  "kernelspec": {
   "display_name": "AREWADS-TRAINING",
   "language": "python",
   "name": "python3"
  },
  "language_info": {
   "codemirror_mode": {
    "name": "ipython",
    "version": 3
   },
   "file_extension": ".py",
   "mimetype": "text/x-python",
   "name": "python",
   "nbconvert_exporter": "python",
   "pygments_lexer": "ipython3",
   "version": "3.13.0"
  }
 },
 "nbformat": 4,
 "nbformat_minor": 2
}
