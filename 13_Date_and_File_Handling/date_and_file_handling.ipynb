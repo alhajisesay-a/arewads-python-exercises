{
 "cells": [
  {
   "cell_type": "markdown",
   "metadata": {},
   "source": [
    "### Module 13"
   ]
  },
  {
   "cell_type": "markdown",
   "metadata": {},
   "source": [
    "#### Python Datetime Exercises"
   ]
  },
  {
   "cell_type": "markdown",
   "metadata": {},
   "source": [
    "1. Get the current day, month, year, hour, minute and timestamp from datetime module"
   ]
  },
  {
   "cell_type": "code",
   "execution_count": 61,
   "metadata": {},
   "outputs": [
    {
     "name": "stdout",
     "output_type": "stream",
     "text": [
      "The current time is:  2025-01-12 18:13:45.565462\n",
      "The current day is:  12\n",
      "The current month is:  1\n",
      "The current year is:  2025\n",
      "This is the exact hour at the time of running the program:  18\n",
      "The minute when this program is execuited is:  13\n",
      "Time stamp :  1736705625.565462\n",
      "\n",
      "12/1/2025 - 18/13, TTime stamp = 1736705625.565462\n"
     ]
    }
   ],
   "source": [
    "from datetime import datetime\n",
    "current_time = datetime.now()\n",
    "print('The current time is: ',current_time)\n",
    "\n",
    "current_day = current_time.day\n",
    "print('The current day is: ',current_day)\n",
    "\n",
    "current_month = current_time.month\n",
    "print('The current month is: ',current_month)\n",
    "\n",
    "current_year = current_time.year\n",
    "print('The current year is: ',current_year)\n",
    "\n",
    "current_hour = current_time.hour\n",
    "print('This is the exact hour at the time of running the program: ',current_hour)\n",
    "\n",
    "current_minute = current_time.minute\n",
    "print('The minute when this program is execuited is: ',current_minute)\n",
    "\n",
    "timestamp = current_time.timestamp()\n",
    "print('Time stamp : ',timestamp)\n",
    "\n",
    "# overrall date and time as of today \n",
    "print(f'\\n{current_day}/{current_month}/{current_year} - {current_hour}/{current_minute}, TTime stamp = {timestamp}')\n"
   ]
  },
  {
   "cell_type": "markdown",
   "metadata": {},
   "source": [
    "2. Format the current date using this format: \"%m/%d/%Y, %H:%M:%S\")"
   ]
  },
  {
   "cell_type": "code",
   "execution_count": 64,
   "metadata": {},
   "outputs": [
    {
     "name": "stdout",
     "output_type": "stream",
     "text": [
      "01/12/2025, 18:27:33\n"
     ]
    }
   ],
   "source": [
    "from datetime import datetime\n",
    "current_date = datetime.now()\n",
    "date = current_date.strftime('%m/%d/%Y, %H:%M:%S')\n",
    "print(date)\n",
    "\n"
   ]
  },
  {
   "cell_type": "markdown",
   "metadata": {},
   "source": [
    "3. Today is 5 December, 2019. Change this time string to time."
   ]
  },
  {
   "cell_type": "code",
   "execution_count": 75,
   "metadata": {},
   "outputs": [
    {
     "name": "stdout",
     "output_type": "stream",
     "text": [
      "The string date =  5 December, 2019\n",
      "Converted date:  2019-12-05 00:00:00\n"
     ]
    }
   ],
   "source": [
    "from datetime import datetime\n",
    "date = '5 December, 2019'\n",
    "print('The string date = ',date)\n",
    "conv_date = datetime.strptime(date, \"%d %B, %Y\")\n",
    "print('Converted date: ',conv_date)"
   ]
  },
  {
   "cell_type": "markdown",
   "metadata": {},
   "source": [
    "4. Calculate the time difference between now and new year."
   ]
  },
  {
   "cell_type": "code",
   "execution_count": 78,
   "metadata": {},
   "outputs": [
    {
     "name": "stdout",
     "output_type": "stream",
     "text": [
      "The time now is:  2025-01-12 19:01:46.104729\n",
      "353 days, 4:58:13.895271\n"
     ]
    }
   ],
   "source": [
    "# Time difference between now and 2026\n",
    "from datetime import datetime\n",
    "time_now = datetime.now()\n",
    "print('The time now is: ',time_now)\n",
    "next_year = datetime(year = 2026, month = 1, day = 1, hour = 00, minute = 00, second = 00 )\n",
    "time_difference = next_year - time_now\n",
    "print(time_difference)\n"
   ]
  },
  {
   "cell_type": "markdown",
   "metadata": {},
   "source": [
    "5. Calculate the time difference between 1 January 1970 and now."
   ]
  },
  {
   "cell_type": "code",
   "execution_count": 79,
   "metadata": {},
   "outputs": [
    {
     "name": "stdout",
     "output_type": "stream",
     "text": [
      "20100 days, 19:13:19.705888\n"
     ]
    }
   ],
   "source": [
    "# Time difference between 1 january 1970 and now\n",
    "from datetime import datetime\n",
    "current_date = datetime.now()\n",
    "old_date = datetime(year = 1970, month = 1, day = 1)\n",
    "time_difference = current_date - old_date\n",
    "print(time_difference)"
   ]
  },
  {
   "cell_type": "markdown",
   "metadata": {},
   "source": [
    "6. Think, what can you use the datetime module for? Examples:\n",
    "Time series analysis\n",
    "To get a timestamp of any activities in an application\n",
    "Adding posts on a blog"
   ]
  },
  {
   "cell_type": "markdown",
   "metadata": {},
   "source": [
    "We apply the datetime on the following:\n",
    "- Time series analysis\n",
    "- To get a timestamp of any activities in an application\n",
    "- Adding posts on a blog\n",
    "- Scheduling tasks\n",
    "- Logging events\n",
    "- Calculating age from birthdate\n",
    "- Measuring time intervals"
   ]
  }
 ],
 "metadata": {
  "kernelspec": {
   "display_name": "AREWADS-TRAINING",
   "language": "python",
   "name": "python3"
  },
  "language_info": {
   "codemirror_mode": {
    "name": "ipython",
    "version": 3
   },
   "file_extension": ".py",
   "mimetype": "text/x-python",
   "name": "python",
   "nbconvert_exporter": "python",
   "pygments_lexer": "ipython3",
   "version": "3.13.0"
  }
 },
 "nbformat": 4,
 "nbformat_minor": 2
}
