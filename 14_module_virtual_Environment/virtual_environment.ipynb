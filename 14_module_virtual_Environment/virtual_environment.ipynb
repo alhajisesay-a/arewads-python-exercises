{
 "cells": [
  {
   "cell_type": "markdown",
   "metadata": {},
   "source": [
    " ### Exercises: Module 14"
   ]
  },
  {
   "cell_type": "markdown",
   "metadata": {},
   "source": [
    "#### Exercises: Level 1"
   ]
  },
  {
   "cell_type": "markdown",
   "metadata": {},
   "source": [
    "1. Writ a function which generates a six digit/character random_user_id.\n",
    "  * print(random_user_id());\n",
    "  * '1ee33d'"
   ]
  },
  {
   "cell_type": "code",
   "execution_count": 51,
   "metadata": {},
   "outputs": [
    {
     "name": "stdout",
     "output_type": "stream",
     "text": [
      "\n",
      "Combine digits and characters to be generated randomly\n",
      "abcdefghijklmnopqrstuvwxyzABCDEFGHIJKLMNOPQRSTUVWXYZ0123456789\n",
      "These are the random six digits/characters generated: 4Udhvt\n"
     ]
    }
   ],
   "source": [
    "# generate six digit/character random user id\n",
    "import random\n",
    "import string\n",
    "def random_user_id():\n",
    "    '''Function to generate random user id'''\n",
    "    string_character = string.ascii_letters  # get all alphabets\n",
    "    string_digit = string.digits  # get all digits\n",
    "    join_two_strings = string_character + string_digit  # join the two strings\n",
    "    length = 6 # length of user id to be generated as required\n",
    "    print(join_two_strings)\n",
    "    user_id = ''.join(random.choices(join_two_strings,k=length))\n",
    "    return user_id\n",
    "# call the function\n",
    "print('\\nCombine digits and characters to be generated randomly:')\n",
    "print(f'These are the random six digits/characters generated: {random_user_id()}')"
   ]
  },
  {
   "cell_type": "markdown",
   "metadata": {},
   "source": [
    "2. Modify the previous task. Declare a function named user_id_gen_by_user. It doesn’t take any parameters but it takes two inputs using input(). One of the inputs is the number of characters and the second input is the number of IDs which are supposed to be generated.\n",
    "* print(user_id_gen_by_user()) # user input: 5 5\n",
    "* #output:\n",
    "* #kcsy2\n",
    "* #SMFYb\n",
    "* #bWmeq\n",
    "* #ZXOYh\n",
    "* #2Rgxf\n",
    "* print(user_id_gen_by_user()) # 16 5\n",
    "* #1GCSgPLMaBAVQZ26\n",
    "* #YD7eFwNQKNs7qXaT\n",
    "* #ycArC5yrRupyG00S\n",
    "* #UbGxOFI7UXSWAyKN\n",
    "* #dIV0SSUTgAdKwStr"
   ]
  },
  {
   "cell_type": "code",
   "execution_count": 42,
   "metadata": {},
   "outputs": [
    {
     "name": "stdout",
     "output_type": "stream",
     "text": [
      "1: LotW6Q\n",
      "2: MedM6S\n",
      "3: uEFzjU\n",
      "4: BasVtt\n",
      "5: z8vUiZ\n",
      "6: BofG9R\n",
      "7: lr8jTw\n",
      "8: c28hLi\n",
      "9: E9E85w\n",
      "10: f3SlL8\n"
     ]
    }
   ],
   "source": [
    "# generate user id with 6 digits taking input from user\n",
    "import random\n",
    "import string\n",
    "def user_id_gen_by_user():\n",
    "    '''Function to generate user id by user input'''\n",
    "    prompt1 = input('Enter the number of characters you want for your id: ')\n",
    "    prompt2 = input('Enter the number of ids to be generated: ')\n",
    "    string_characters = string.ascii_letters + string.digits # get all alphabets and digits\n",
    "    length = int(prompt1) # length of user id to be generated as required\n",
    "    number_of_ids = int(prompt2) # number of user ids to be generated\n",
    "    user_id = [''.join(random.choices(string_characters,k=length)) for i in range(number_of_ids)] # list comprehension to generate user ids\n",
    "    return user_id\n",
    "# call the function\n",
    "for index, user_id in enumerate(user_id_gen_by_user(),1): # enumerate to get the index of the user id during iteration.\n",
    "    print(f'{index}: {user_id}')\n",
    " "
   ]
  },
  {
   "cell_type": "markdown",
   "metadata": {},
   "source": [
    "3. Write a function named rgb_color_gen. It will generate rgb colors (3 values ranging from 0 to 255 each).\n",
    "* print(rgb_color_gen())\n",
    "* rgb(125,244,255) - the output should be in this form"
   ]
  },
  {
   "cell_type": "code",
   "execution_count": 48,
   "metadata": {},
   "outputs": [
    {
     "name": "stdout",
     "output_type": "stream",
     "text": [
      "This is the random RGB color code generated: rgb(143,77,255)\n"
     ]
    }
   ],
   "source": [
    "# function to generate rgb color code\n",
    "def rgb_color_gen():\n",
    "    '''Function to generate rgb color'''\n",
    "    r = random.randint(0,255) # generate random integer between 0 and 255\n",
    "    g = random.randint(0,255) # generate random integer between 0 and 255\n",
    "    b = random.randint(0,255) # generate random integer between 0 and 255\n",
    "    return f'rgb({r},{g},{b})'\n",
    "# call the function\n",
    "print(f'This is the random RGB color code generated: {rgb_color_gen()}')"
   ]
  },
  {
   "cell_type": "markdown",
   "metadata": {},
   "source": [
    "#### Exercises: Level 2"
   ]
  },
  {
   "cell_type": "markdown",
   "metadata": {},
   "source": [
    "1. Write a function list_of_hexa_colors which returns any number of hexadecimal colors in an array (six hexadecimal numbers written after #. Hexadecimal numeral system is made out of 16 symbols, 0-9 and first 6 letters of the alphabet, a-f. Check the task 6 for output examples).\n",
    "2. Write a function list_of_rgb_colors which returns any number of RGB colors in an array.\n",
    "3. Write a function generate_colors which can generate any number of hexa or rgb colors.\n",
    "* generate_colors('hexa', 3) # ['#a3e12f','#03ed55','#eb3d2b'] \n",
    "* generate_colors('hexa', 1) # ['#b334ef']\n",
    "* generate_colors('rgb', 3)  # ['rgb(5, 55, 175','rgb(50, 105, 100','rgb(15, 26, 80']\n",
    "* generate_colors('rgb', 1)  # ['rgb(33,79, 176)']"
   ]
  },
  {
   "cell_type": "code",
   "execution_count": 53,
   "metadata": {},
   "outputs": [
    {
     "name": "stdout",
     "output_type": "stream",
     "text": [
      "\n",
      "List of hexa colors generated\n",
      "1: #A1037B\n",
      "2: #a9A0C8\n",
      "3: #0456ed\n",
      "4: #72cBf0\n",
      "5: #7a0Efe\n",
      "\n",
      "List of rgb colors generated\n",
      "1: rgb(172,0,26)\n",
      "2: rgb(124,73,161)\n",
      "3: rgb(191,84,192)\n",
      "4: rgb(182,20,208)\n",
      "5: rgb(95,99,227)\n"
     ]
    }
   ],
   "source": [
    "def list_of_hexa_colors():\n",
    "    '''Function to generate list of hexa colors'''\n",
    "    hexa_colors = ['#'+ ''.join(random.choices(string.hexdigits,k=6)) for i in range(5)] # list comprehension to generate hexa colors\n",
    "    return hexa_colors\n",
    "\n",
    "def list_of_rgb_colors():\n",
    "    '''Function to generate list of rgb colors'''\n",
    "    rgb_colors = [rgb_color_gen() for i in range(5)] # list comprehension to generate rgb colors\n",
    "    return rgb_colors\n",
    "\n",
    "def generate_colors():\n",
    "    '''Function to generate colors'''\n",
    "    hexa_colors = list_of_hexa_colors()\n",
    "    rgb_colors = list_of_rgb_colors()\n",
    "    return hexa_colors, rgb_colors\n",
    "# call the function\n",
    "hexa_colors, rgb_colors = generate_colors()\n",
    "print('\\nList of hexa colors generated')\n",
    "for index, hexa_color in enumerate(hexa_colors,1): # enumerate to get the index of the hexa color during iteration.\n",
    "    print(f'{index}: {hexa_color}')\n",
    "print('\\nList of rgb colors generated')\n",
    "for index, rgb_color in enumerate(rgb_colors,1): # enumerate to get the index of the rgb color during iteration.\n",
    "    print(f'{index}: {rgb_color}')\n",
    "    "
   ]
  },
  {
   "cell_type": "markdown",
   "metadata": {},
   "source": [
    "### Exercises: Level 3"
   ]
  },
  {
   "cell_type": "markdown",
   "metadata": {},
   "source": [
    "1. Call your function shuffle_list, it takes a list as a parameter and it returns a shuffled list"
   ]
  },
  {
   "cell_type": "code",
   "execution_count": 8,
   "metadata": {},
   "outputs": [
    {
     "name": "stdout",
     "output_type": "stream",
     "text": [
      "[2, 3, 6, 1, 9, 5]\n"
     ]
    }
   ],
   "source": [
    "import random\n",
    "# function to generate shuffle list\n",
    "def shuffle_list(list):\n",
    "    '''Function to shuffle list'''\n",
    "    random.shuffle(list) # shuffle the list\n",
    "    return list\n",
    "print(shuffle_list([1,5,3,9,6,2]))"
   ]
  },
  {
   "cell_type": "markdown",
   "metadata": {},
   "source": [
    "2. Write a function which returns an array of seven random numbers in a range of 0-9. All the numbers must be unique."
   ]
  },
  {
   "cell_type": "code",
   "execution_count": 11,
   "metadata": {},
   "outputs": [
    {
     "name": "stdout",
     "output_type": "stream",
     "text": [
      "[3, 6, 4, 9, 9, 6, 0]\n"
     ]
    }
   ],
   "source": [
    "import random\n",
    "def random_num_array():\n",
    "    '''Function to generate random number array'''\n",
    "    num_array = [random.randint(0,9) for i in range(7)] # list comprehension to generate random number array\n",
    "    return num_array\n",
    "print(random_num_array())"
   ]
  },
  {
   "cell_type": "markdown",
   "metadata": {},
   "source": [
    "###  Virtual Environment Exercises"
   ]
  },
  {
   "cell_type": "markdown",
   "metadata": {},
   "source": [
    "1. Create a project directory with a virtual environment based on the example given above"
   ]
  },
  {
   "cell_type": "markdown",
   "metadata": {},
   "source": [
    "To create a project directory and virtual environment, we adapt the following procedure using vs code.\n",
    "1. Create an environment eg data-science in terminal using the this command 'conda create -n data-science'.\n",
    "2. Activate the environment using 'conda activate' after the environment has been created.\n",
    "3. Install packages of interst to you in terminal using 'pip 0r conda install command'.\n",
    "4. create a folder in the directory and start your project.\n",
    "5. Deactivate the environment when done using 'conda deactivate'.\n"
   ]
  }
 ],
 "metadata": {
  "kernelspec": {
   "display_name": "AREWADS-TRAINING",
   "language": "python",
   "name": "python3"
  },
  "language_info": {
   "codemirror_mode": {
    "name": "ipython",
    "version": 3
   },
   "file_extension": ".py",
   "mimetype": "text/x-python",
   "name": "python",
   "nbconvert_exporter": "python",
   "pygments_lexer": "ipython3",
   "version": "3.13.0"
  }
 },
 "nbformat": 4,
 "nbformat_minor": 2
}
