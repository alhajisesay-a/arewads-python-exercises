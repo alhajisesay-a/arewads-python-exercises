{
 "cells": [
  {
   "cell_type": "markdown",
   "metadata": {},
   "source": [
    "### Regular Expressions Exercises:"
   ]
  },
  {
   "cell_type": "markdown",
   "metadata": {},
   "source": [
    "#### Exercises: Level 1"
   ]
  },
  {
   "cell_type": "markdown",
   "metadata": {},
   "source": [
    "1. What is the most frequent word in the following paragraph?\n",
    "* paragraph = 'I love teaching. If you do not love teaching what else can you love. I love Python if you do not love something which can give you all the capabilities to develop an application what else can you love."
   ]
  },
  {
   "cell_type": "code",
   "execution_count": 2,
   "metadata": {},
   "outputs": [
    {
     "name": "stdout",
     "output_type": "stream",
     "text": [
      "The most frequent word is 'love' and it appears 6 times.\n"
     ]
    }
   ],
   "source": [
    "# Frequent used word\n",
    "paragraph = 'I love teaching. If you do not love teaching what else can you love. I love Python if you do not love something which can give you all the capabilities to develop an application what else can you love.'\n",
    "\n",
    "# Clean the text\n",
    "paragraph = paragraph.lower()  # Convert to lowercase\n",
    "for char in \".,!?;\":          # Remove punctuation\n",
    "    paragraph = paragraph.replace(char, \"\")\n",
    "\n",
    "# Split into words\n",
    "words = paragraph.split()  # Turn the paragraph into a list of words\n",
    "\n",
    "# Count each word\n",
    "word_counts = {}\n",
    "for word in words:\n",
    "    if word in word_counts:\n",
    "        word_counts[word] += 1  # If the word is already counted, add 1\n",
    "    else:\n",
    "        word_counts[word] = 1   # Otherwise, start the count at 1\n",
    "\n",
    "# Find the most frequent word\n",
    "most_frequent_word = max(word_counts, key=word_counts.get)  # Get the word with the highest count\n",
    "count = word_counts[most_frequent_word]\n",
    "\n",
    "print(f\"The most frequent word is '{most_frequent_word}' and it appears {count} times.\")\n"
   ]
  },
  {
   "cell_type": "markdown",
   "metadata": {},
   "source": [
    "2. The position of some particles on the horizontal x-axis are -12, -4, -3 and -1 in the negative direction, 0 at origin, 4 and 8 in the positive direction. Extract these numbers from this whole text and find the distance between the two furthest particles.\n",
    "* points = ['-12', '-4', '-3', '-1', '0', '4', '8']\n",
    "* sorted_points =  [-12, -4, -3, -1, -1, 0, 2, 4, 8]\n",
    "* distance = 8 -(-12) # 20"
   ]
  },
  {
   "cell_type": "code",
   "execution_count": 11,
   "metadata": {},
   "outputs": [
    {
     "name": "stdout",
     "output_type": "stream",
     "text": [
      "These are the extracted numbers\n",
      "['-12', '-4', '-3', '-1', '0', '4', '8']\n",
      "\n",
      "Smallest point: -12\n",
      "Largest point: 8\n",
      "Distance between the furthest particles: 20\n"
     ]
    }
   ],
   "source": [
    "import re\n",
    "\n",
    "# Input text\n",
    "text = \"\"\"\n",
    "The position of some particles on the horizontal x-axis are -12, -4, -3 and -1 in the negative direction, \n",
    "0 at origin, 4 and 8 in the positive direction.\n",
    "\"\"\"\n",
    "\n",
    "# Extract numbers. use -* for one or many occurance of negative numbers but -? represent zero or one time occurance of negative numbers\n",
    "regex_pattern = r'-*\\d+'\n",
    "numbers = re.findall(regex_pattern, text)  # Find all numbers, including negatives. the +d indicate one or more occurance of the preceeding character\n",
    "print('These are the extracted numbers')\n",
    "print(numbers)\n",
    "# Convert to integers\n",
    "points = [int(num) for num in numbers]  # Convert to integers\n",
    "\n",
    "# Find the smallest and largest numbers\n",
    "smallest = min(points)\n",
    "largest = max(points)\n",
    "\n",
    "# Calculate the distance\n",
    "distance = largest - smallest\n",
    "\n",
    "# Output the result\n",
    "print(\"\\nSmallest point:\", smallest)\n",
    "print(\"Largest point:\", largest)\n",
    "print(\"Distance between the furthest particles:\", distance)\n"
   ]
  },
  {
   "cell_type": "markdown",
   "metadata": {},
   "source": [
    "### Exercises: Level 2"
   ]
  },
  {
   "cell_type": "markdown",
   "metadata": {},
   "source": [
    "Write a pattern which identifies if a string is a valid python variable\n",
    "\n",
    "* is_valid_variable('first_name')\n",
    "* is_valid_variable('first-name') \n",
    "* is_valid_variable('1first_name') \n",
    "* is_valid_variable('firstname') "
   ]
  },
  {
   "cell_type": "code",
   "execution_count": 14,
   "metadata": {},
   "outputs": [
    {
     "name": "stdout",
     "output_type": "stream",
     "text": [
      "True\n",
      "None\n",
      "None\n",
      "True\n"
     ]
    }
   ],
   "source": [
    "# Pattern that identifies string as valid python varable\n",
    "import re\n",
    "import keyword\n",
    "\n",
    "def is_valid_variable(variable_name):\n",
    "    # Match valid Python variable names using regex\n",
    "    pattern = r'^[a-zA-Z_][a-zA-Z0-9_]*$'\n",
    "    \n",
    "    # Check if the name matches the regex and is not a Python keyword\n",
    "    return re.match(pattern, variable_name) and not keyword.iskeyword(variable_name)\n",
    "\n",
    "# Test cases\n",
    "print(is_valid_variable('first_name'))  \n",
    "print(is_valid_variable('first-name'))   \n",
    "print(is_valid_variable('1first_name'))  \n",
    "print(is_valid_variable('firstname'))            \n"
   ]
  },
  {
   "cell_type": "markdown",
   "metadata": {},
   "source": [
    "### Exercises: Level 3"
   ]
  },
  {
   "cell_type": "markdown",
   "metadata": {},
   "source": [
    "1. Clean the following text. After cleaning, count three most frequent words in the string.\n",
    "   * sentence = '''%I $am@% a %tea@cher%, &and& I lo%#ve %tea@ching%;. There $is nothing; &as& mo@re rewarding as educa@ting &and& @emp%o@wering peo@ple. ;I found tea@ching m%o@re interesting tha@n any other %jo@bs. %Do@es thi%s mo@tivate yo@u to be a tea@cher!?'''\n",
    "\n",
    "print(clean_text(sentence));\n",
    "I am a teacher and I love teaching There is nothing as more rewarding as educating and empowering people I found teaching more interesting than any other jobs Does this motivate you to be a teacher\n",
    "print(most_frequent_words(cleaned_text)) # [(3, 'I'), (2, 'teaching'), (2, 'teacher')]"
   ]
  },
  {
   "cell_type": "code",
   "execution_count": 22,
   "metadata": {},
   "outputs": [
    {
     "name": "stdout",
     "output_type": "stream",
     "text": [
      "Cleaned sentence: I am a teacher, and I love teaching. There is nothing as more rewarding as educating and empowering people. I found teaching more interesting than any other jobs. Does this motivate you to be a teacher\n",
      "Most frequent words: [('i', 3), ('a', 2), ('and', 2), ('as', 2), ('more', 2), ('am', 1), ('teacher,', 1), ('love', 1), ('teaching.', 1), ('there', 1), ('is', 1), ('nothing', 1), ('rewarding', 1), ('educating', 1), ('empowering', 1), ('people.', 1), ('found', 1), ('teaching', 1), ('interesting', 1), ('than', 1), ('any', 1), ('other', 1), ('jobs.', 1), ('does', 1), ('this', 1), ('motivate', 1), ('you', 1), ('to', 1), ('be', 1), ('teacher', 1)]\n"
     ]
    }
   ],
   "source": [
    "import re\n",
    "from collections import Counter\n",
    "\n",
    "# Input sentence\n",
    "sentence = '''%I $am@% a %tea@cher%, &and& I lo%#ve %tea@ching%;. There $is nothing; &as& mo@re rewarding as educa@ting &and& @emp%o@wering peo@ple. ;I found tea@ching m%o@re interesting tha@n any other %jo@bs. %Do@es thi%s mo@tivate yo@u to be a tea@cher!?'''\n",
    "\n",
    "# Define a regex pattern to remove unwanted characters\n",
    "regex_pattern = r'[%@$&;#?!]'\n",
    "\n",
    "# Replace unwanted characters with an empty string\n",
    "cleaned_sentence = re.sub(regex_pattern, '', sentence)\n",
    "\n",
    "# Convert to lowercase and split into words\n",
    "words = cleaned_sentence.lower().split()\n",
    "\n",
    "# Count word frequencies\n",
    "word_counts = Counter(words)\n",
    "\n",
    "# Find the most frequent words\n",
    "most_common_words = word_counts.most_common()\n",
    "\n",
    "# Print results\n",
    "print(\"Cleaned sentence:\", cleaned_sentence)\n",
    "print(\"Most frequent words:\", most_common_words)\n"
   ]
  }
 ],
 "metadata": {
  "kernelspec": {
   "display_name": "AREWADS-TRAINING",
   "language": "python",
   "name": "python3"
  },
  "language_info": {
   "codemirror_mode": {
    "name": "ipython",
    "version": 3
   },
   "file_extension": ".py",
   "mimetype": "text/x-python",
   "name": "python",
   "nbconvert_exporter": "python",
   "pygments_lexer": "ipython3",
   "version": "3.13.0"
  }
 },
 "nbformat": 4,
 "nbformat_minor": 2
}
