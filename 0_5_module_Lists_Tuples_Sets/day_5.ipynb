{
 "cells": [
  {
   "cell_type": "markdown",
   "metadata": {},
   "source": [
    "###  Exercises: Module 5"
   ]
  },
  {
   "cell_type": "markdown",
   "metadata": {},
   "source": [
    "#### Exercises: Level 1"
   ]
  },
  {
   "cell_type": "markdown",
   "metadata": {},
   "source": [
    "1. Declare an empty list"
   ]
  },
  {
   "cell_type": "code",
   "execution_count": null,
   "metadata": {},
   "outputs": [],
   "source": [
    "# Empty list declearation\n",
    "names = [] # empty list\n"
   ]
  },
  {
   "cell_type": "markdown",
   "metadata": {},
   "source": [
    "2. Declare a list with more than 5 items"
   ]
  },
  {
   "cell_type": "code",
   "execution_count": null,
   "metadata": {},
   "outputs": [],
   "source": [
    "# List with 5 items and above\n",
    "names = ['fatima','abu','ada','john','alimamy','ibrahim','mary']"
   ]
  },
  {
   "cell_type": "markdown",
   "metadata": {},
   "source": [
    "3. Find the length of your list"
   ]
  },
  {
   "cell_type": "code",
   "execution_count": null,
   "metadata": {},
   "outputs": [
    {
     "name": "stdout",
     "output_type": "stream",
     "text": [
      "6\n"
     ]
    }
   ],
   "source": [
    "# Length of list below\n",
    "names = ['fatima','abu','ada','john','alimamy','ibrahim','mary']\n",
    "print(len(names))"
   ]
  },
  {
   "cell_type": "markdown",
   "metadata": {},
   "source": [
    "4. Get the first item, the middle item and the last item of the list"
   ]
  },
  {
   "cell_type": "code",
   "execution_count": 4,
   "metadata": {},
   "outputs": [
    {
     "name": "stdout",
     "output_type": "stream",
     "text": [
      "fatima\n",
      "john\n",
      "mary\n"
     ]
    }
   ],
   "source": [
    "# Accessing names from the list of names\n",
    "names = ['fatima','abu','ada','john','alimamy','ibrahim','mary']\n",
    "print(names[0]) # first item\n",
    "print(names[3]) # middle item\n",
    "print(names[-1]) # last item"
   ]
  },
  {
   "cell_type": "markdown",
   "metadata": {},
   "source": [
    "5. Declare a list called mixed_data_types, put your(name, age, height, marital status, address"
   ]
  },
  {
   "cell_type": "code",
   "execution_count": null,
   "metadata": {},
   "outputs": [
    {
     "name": "stdout",
     "output_type": "stream",
     "text": [
      "<class 'list'>\n"
     ]
    }
   ],
   "source": [
    "# Declearing a list of mixed data types\n",
    "mixed_data_type = ['john','21 years','6ft','single','21 regent road,lumley']\n",
    "print(type(mixed_data_type)) # test the data type\n"
   ]
  },
  {
   "cell_type": "markdown",
   "metadata": {},
   "source": [
    "6. Declare a list variable named it_companies and assign initial values Facebook, Google, Microsoft, Apple, IBM, Oracle and Amazon"
   ]
  },
  {
   "cell_type": "code",
   "execution_count": 7,
   "metadata": {},
   "outputs": [
    {
     "name": "stdout",
     "output_type": "stream",
     "text": [
      "<class 'list'>\n"
     ]
    }
   ],
   "source": [
    "# Declearing a List of variable name 'companies'\n",
    "companies = ['Facebook','Google','Microsoft','Apple','IBM','Oracle','Amazone']\n",
    "print(type(companies)) # testing the data type"
   ]
  },
  {
   "cell_type": "markdown",
   "metadata": {},
   "source": [
    "7. Print the list using print()"
   ]
  },
  {
   "cell_type": "code",
   "execution_count": 8,
   "metadata": {},
   "outputs": [
    {
     "name": "stdout",
     "output_type": "stream",
     "text": [
      "['Facebook', 'Google', 'Microsoft', 'Apple', 'IBM', 'Oracle', 'Amazone']\n"
     ]
    }
   ],
   "source": [
    "# print the variable name companies in 6 above\n",
    "companies = ['Facebook','Google','Microsoft','Apple','IBM','Oracle','Amazone']\n",
    "print(companies)"
   ]
  },
  {
   "cell_type": "markdown",
   "metadata": {},
   "source": [
    "8. Print the number of companies in the list"
   ]
  },
  {
   "cell_type": "code",
   "execution_count": 9,
   "metadata": {},
   "outputs": [
    {
     "name": "stdout",
     "output_type": "stream",
     "text": [
      "7\n"
     ]
    }
   ],
   "source": [
    "# We print the number of companies in a list using the length built-in function\n",
    "companies = ['Facebook','Google','Microsoft','Apple','IBM','Oracle','Amazone']\n",
    "print(len(companies))"
   ]
  },
  {
   "cell_type": "markdown",
   "metadata": {},
   "source": [
    "9. Print the first, middle and last company"
   ]
  },
  {
   "cell_type": "code",
   "execution_count": 11,
   "metadata": {},
   "outputs": [
    {
     "name": "stdout",
     "output_type": "stream",
     "text": [
      "Facebook\n",
      "Apple\n",
      "Amazone\n"
     ]
    }
   ],
   "source": [
    "# We can access each company in the variable using index function.\n",
    "companies = ['Facebook','Google','Microsoft','Apple','IBM','Oracle','Amazone']\n",
    "print(companies[0]) # first company\n",
    "print(companies[3]) # middle company\n",
    "print(companies[-1]) # Last company"
   ]
  },
  {
   "cell_type": "markdown",
   "metadata": {},
   "source": [
    "10. Print the list after modifying one of the companies"
   ]
  },
  {
   "cell_type": "code",
   "execution_count": 17,
   "metadata": {},
   "outputs": [
    {
     "name": "stdout",
     "output_type": "stream",
     "text": [
      "['Uber', 'Google', 'Microsoft', 'Apple', 'IBM', 'Oracle', 'Amazone']\n"
     ]
    }
   ],
   "source": [
    "# Modifying one of the companies using index method\n",
    "companies = ['Facebook','Google','Microsoft','Apple','IBM','Oracle','Amazone']\n",
    "new_comp = companies[0] = ('Uber') # replacing facebook with Uber\n",
    "print(companies)"
   ]
  },
  {
   "cell_type": "markdown",
   "metadata": {},
   "source": [
    "11. Add an IT company to it_companies"
   ]
  },
  {
   "cell_type": "code",
   "execution_count": 21,
   "metadata": {},
   "outputs": [
    {
     "name": "stdout",
     "output_type": "stream",
     "text": [
      "['Facebook', 'Google', 'Microsoft', 'Apple', 'IBM', 'Oracle', 'Amazone', 'SendMe']\n"
     ]
    }
   ],
   "source": [
    "# Adding new iteam in a list, we use .append()\n",
    "companies = ['Facebook','Google','Microsoft','Apple','IBM','Oracle','Amazone']\n",
    "new_comp = companies.append('SendMe')\n",
    "print(companies)"
   ]
  },
  {
   "cell_type": "markdown",
   "metadata": {},
   "source": [
    "12. Insert an IT company in the middle of the companies list"
   ]
  },
  {
   "cell_type": "code",
   "execution_count": 34,
   "metadata": {},
   "outputs": [
    {
     "name": "stdout",
     "output_type": "stream",
     "text": [
      "['Facebook', 'Google', 'Microsoft', 'Telegram', 'Apple', 'IBM', 'Oracle', 'Amazone']\n"
     ]
    }
   ],
   "source": [
    "# Adding items in a list at any position using insert method\n",
    "companies = ['Facebook','Google','Microsoft','Apple','IBM','Oracle','Amazone']\n",
    "new_comp = companies.insert(3,'Telegram')\n",
    "print(companies)"
   ]
  },
  {
   "cell_type": "markdown",
   "metadata": {},
   "source": [
    "13. Change one of the it_companies names to uppercase (IBM excluded!)"
   ]
  },
  {
   "cell_type": "code",
   "execution_count": 32,
   "metadata": {},
   "outputs": [
    {
     "name": "stdout",
     "output_type": "stream",
     "text": [
      "MICROSOFT\n"
     ]
    }
   ],
   "source": [
    "# Changing one of the companies name using .upper()\n",
    "companies = ['Facebook','Google','Microsoft','Apple','IBM','Oracle','Amazone']\n",
    "chng_case = companies[2].upper()\n",
    "print(chng_case)"
   ]
  },
  {
   "cell_type": "markdown",
   "metadata": {},
   "source": [
    "14. Join the it_companies with a string '#;  "
   ]
  },
  {
   "cell_type": "code",
   "execution_count": null,
   "metadata": {},
   "outputs": [
    {
     "name": "stdout",
     "output_type": "stream",
     "text": [
      "Facebook  Google  Microsoft  Apple  IBM  Oracle  Amazone\n"
     ]
    }
   ],
   "source": [
    "#Joining list with strint '#'\n",
    "companies = ['Facebook','Google','Microsoft','Apple','IBM','Oracle','Amazone']\n",
    "outcom = ' # '.join(companies)\n",
    "print(outcom)"
   ]
  },
  {
   "cell_type": "markdown",
   "metadata": {},
   "source": [
    "15. Check if a certain company exists in the it_companies list"
   ]
  },
  {
   "cell_type": "code",
   "execution_count": 44,
   "metadata": {},
   "outputs": [
    {
     "name": "stdout",
     "output_type": "stream",
     "text": [
      "Google belongs to it_companies.\n"
     ]
    }
   ],
   "source": [
    "# checking if Google exist in it_companies\n",
    "companies = ['Facebook','Google','Microsoft','Apple','IBM','Oracle','Amazone']\n",
    "if 'Google' in companies:\n",
    "    print('Google belongs to it_companies.')\n",
    "else:\n",
    "    print('Is not part of the it_companies.')"
   ]
  },
  {
   "cell_type": "markdown",
   "metadata": {},
   "source": [
    "16. Sort the list using sort() method"
   ]
  },
  {
   "cell_type": "code",
   "execution_count": 47,
   "metadata": {},
   "outputs": [
    {
     "name": "stdout",
     "output_type": "stream",
     "text": [
      "['Amazone', 'Apple', 'Facebook', 'Google', 'IBM', 'Microsoft', 'Oracle']\n"
     ]
    }
   ],
   "source": [
    "# sorting list\n",
    "companies = ['Facebook','Google','Microsoft','Apple','IBM','Oracle','Amazone']\n",
    "new_lst = companies.sort()\n",
    "print(companies)"
   ]
  },
  {
   "cell_type": "markdown",
   "metadata": {},
   "source": [
    "17. Reverse the list in descending order using reverse() method"
   ]
  },
  {
   "cell_type": "code",
   "execution_count": 49,
   "metadata": {},
   "outputs": [
    {
     "name": "stdout",
     "output_type": "stream",
     "text": [
      "['Oracle', 'Microsoft', 'IBM', 'Google', 'Facebook', 'Apple', 'Amazone']\n"
     ]
    }
   ],
   "source": [
    "# Reverse the list in decending order\n",
    "companies = ['Facebook','Google','Microsoft','Apple','IBM','Oracle','Amazone']\n",
    "new_lst = companies.sort(reverse = 'true')\n",
    "print(companies)"
   ]
  },
  {
   "cell_type": "markdown",
   "metadata": {},
   "source": [
    "18. Slice out the first 3 companies from the list"
   ]
  },
  {
   "cell_type": "code",
   "execution_count": 53,
   "metadata": {},
   "outputs": [
    {
     "name": "stdout",
     "output_type": "stream",
     "text": [
      "['Facebook', 'Google', 'Microsoft']\n"
     ]
    }
   ],
   "source": [
    "# Slicing out the first 3 it_companies\n",
    "companies = ['Facebook','Google','Microsoft','Apple','IBM','Oracle','Amazone']\n",
    "outcome = companies[0:3]\n",
    "print(outcome)"
   ]
  },
  {
   "cell_type": "markdown",
   "metadata": {},
   "source": [
    "19. Slice out the last 3 companies from the list"
   ]
  },
  {
   "cell_type": "code",
   "execution_count": 55,
   "metadata": {},
   "outputs": [
    {
     "name": "stdout",
     "output_type": "stream",
     "text": [
      "['IBM', 'Oracle', 'Amazone']\n"
     ]
    }
   ],
   "source": [
    "# Slicing out the last 3 companies\n",
    "companies = ['Facebook','Google','Microsoft','Apple','IBM','Oracle','Amazone']\n",
    "outcome = companies[4:]\n",
    "print(outcome)"
   ]
  },
  {
   "cell_type": "markdown",
   "metadata": {},
   "source": [
    "20. Slice out the middle IT company or companies from the list"
   ]
  },
  {
   "cell_type": "code",
   "execution_count": 57,
   "metadata": {},
   "outputs": [
    {
     "name": "stdout",
     "output_type": "stream",
     "text": [
      "Apple\n"
     ]
    }
   ],
   "source": [
    "# Slicing ou the middle IT company from the list\n",
    "companies = ['Facebook','Google','Microsoft','Apple','IBM','Oracle','Amazone']\n",
    "print(companies[3]) "
   ]
  },
  {
   "cell_type": "markdown",
   "metadata": {},
   "source": [
    "21. Remove the first IT company from the list"
   ]
  },
  {
   "cell_type": "code",
   "execution_count": 68,
   "metadata": {},
   "outputs": [
    {
     "name": "stdout",
     "output_type": "stream",
     "text": [
      "['Google', 'Microsoft', 'Apple', 'IBM', 'Oracle', 'Amazone']\n"
     ]
    }
   ],
   "source": [
    "# Removing the first IT company crom the list\n",
    "companies = ['Facebook','Google','Microsoft','Apple','IBM','Oracle','Amazone']\n",
    "new_lst = companies.remove('Facebook')\n",
    "print(companies)"
   ]
  },
  {
   "cell_type": "markdown",
   "metadata": {},
   "source": [
    "22. Remove the middle IT company or companies from the list"
   ]
  },
  {
   "cell_type": "code",
   "execution_count": 71,
   "metadata": {},
   "outputs": [
    {
     "name": "stdout",
     "output_type": "stream",
     "text": [
      "['Facebook', 'Google', 'Microsoft', 'IBM', 'Oracle', 'Amazone']\n"
     ]
    }
   ],
   "source": [
    "# Removing the middle conpany from the list\n",
    "companies = ['Facebook','Google','Microsoft','Apple','IBM','Oracle','Amazone']\n",
    "new_lst = companies.remove('Apple')\n",
    "print(companies)"
   ]
  },
  {
   "cell_type": "markdown",
   "metadata": {},
   "source": [
    "23. Remove the last IT company from the list"
   ]
  },
  {
   "cell_type": "code",
   "execution_count": 72,
   "metadata": {},
   "outputs": [
    {
     "name": "stdout",
     "output_type": "stream",
     "text": [
      "['Facebook', 'Google', 'Microsoft', 'Apple', 'IBM', 'Oracle']\n"
     ]
    }
   ],
   "source": [
    "# Removing the last IT company using pop()\n",
    "companies = ['Facebook','Google','Microsoft','Apple','IBM','Oracle','Amazone']\n",
    "companies.pop()\n",
    "print(companies)"
   ]
  },
  {
   "cell_type": "markdown",
   "metadata": {},
   "source": [
    "24. Remove all IT companies from the list"
   ]
  },
  {
   "cell_type": "code",
   "execution_count": 74,
   "metadata": {},
   "outputs": [
    {
     "name": "stdout",
     "output_type": "stream",
     "text": [
      "[]\n"
     ]
    }
   ],
   "source": [
    "# Removing all IT companies from list\n",
    "companies = ['Facebook','Google','Microsoft','Apple','IBM','Oracle','Amazone']\n",
    "companies.clear()\n",
    "print(companies)"
   ]
  },
  {
   "cell_type": "markdown",
   "metadata": {},
   "source": [
    "25. Destroy the IT companies list"
   ]
  },
  {
   "cell_type": "code",
   "execution_count": 77,
   "metadata": {},
   "outputs": [],
   "source": [
    "# Distroying the IT Companies list, we use the delete keywork\n",
    "companies = ['Facebook','Google','Microsoft','Apple','IBM','Oracle','Amazone']\n",
    "del companies"
   ]
  },
  {
   "cell_type": "markdown",
   "metadata": {},
   "source": [
    "26. Join the following lists:\n",
    "\n",
    "front_end = ['HTML', 'CSS', 'JS', 'React', 'Redux']\n",
    "\n",
    "back_end = ['Node','Express', 'MongoDB']"
   ]
  },
  {
   "cell_type": "code",
   "execution_count": null,
   "metadata": {},
   "outputs": [
    {
     "name": "stdout",
     "output_type": "stream",
     "text": [
      "['HTML', 'CSS', 'JS', 'React', 'Redux', 'Node', 'Express', 'MongoDB']\n",
      "['HTML', 'CSS', 'JS', 'React', 'Redux', 'Node', 'Express', 'MongoDB']\n"
     ]
    }
   ],
   "source": [
    "# Joining two variables using extend or +\n",
    "front_end = ['HTML', 'CSS', 'JS', 'React', 'Redux']\n",
    "back_end = ['Node','Express', 'MongoDB']\n",
    "languages = front_end + back_end\n",
    "print(languages)\n",
    "\n",
    "# Or apply the entend keyword\n",
    "programes = front_end.extend(back_end)\n",
    "print(languages)\n"
   ]
  },
  {
   "cell_type": "markdown",
   "metadata": {},
   "source": [
    "27. After joining the lists in question 26. Copy the joined list and assign it to a variable full_stack, then insert Python and SQL after Redux."
   ]
  },
  {
   "cell_type": "code",
   "execution_count": null,
   "metadata": {},
   "outputs": [
    {
     "name": "stdout",
     "output_type": "stream",
     "text": [
      "['HTML', 'CSS', 'JS', 'React', 'Redux', 'python', 'SQL', 'Node', 'Express', 'MongoDB', 'Node', 'Express', 'MongoDB']\n",
      "['HTML', 'CSS', 'JS', 'React', 'Redux', 'Node', 'Express', 'MongoDB', 'Node', 'Express', 'MongoDB']\n"
     ]
    }
   ],
   "source": [
    "# Copy the joined list and assign to a variable full_stack\n",
    "full_stack = languages[:] # copy languages. This symbol [:] allows us to make changes on the new variable (full_stack) without affecting the original (language)\n",
    "new_lan1 = full_stack.insert(5,'python') # insert new languages in full_stack\n",
    "new_lan2 = full_stack.insert(6,'SQL')     # insert new languages in full_stack\n",
    "print(full_stack)\n",
    "print(languages) # the result shows that the original variable remain intact "
   ]
  },
  {
   "cell_type": "markdown",
   "metadata": {},
   "source": [
    "### Exercises: Level 2"
   ]
  },
  {
   "cell_type": "markdown",
   "metadata": {},
   "source": [
    "1. The following is a list of 10 students ages:\n",
    "   \n",
    "ages = [19, 22, 19, 24, 20, 25, 26, 24, 25, 24]\n",
    "\n",
    "+ Sort the list and find the min and max age\n",
    "+ Add the min age and the max age again to the list\n",
    "+ Find the median age (one middle item or two middle items divided by two)\n",
    "+ Find the average age (sum of all items divided by their number )\n",
    "+ Find the range of the ages (max minus min)\n",
    "+ Compare the value of (min - average) and (max - average), use abs() method"
   ]
  },
  {
   "cell_type": "code",
   "execution_count": 62,
   "metadata": {},
   "outputs": [
    {
     "name": "stdout",
     "output_type": "stream",
     "text": [
      "Sorted ages, = [19, 19, 20, 22, 24, 24, 24, 25, 25, 26]\n",
      "\n",
      "The length is even when = 10\n",
      "\n",
      "The median = 24.0\n",
      "\n",
      "The average age is 22.8\n",
      "\n",
      "The range of ages = 7\n",
      "\n",
      " (min - average) = 3.8\n",
      "\n",
      "(max - average) = 3.2\n"
     ]
    }
   ],
   "source": [
    "# sorting list and obtain minimum and maximum\n",
    "ages = [19, 22, 19, 24, 20, 25, 26, 24, 25, 24]\n",
    "ages.sort()  # Sorted list\n",
    "print(f'Sorted ages, = {ages}\\n')\n",
    "min(ages)    # minimum age\n",
    "max(ages)    # maximum age\n",
    "# median from ages\n",
    "length = len(ages)\n",
    "if length % 2 == 0:\n",
    "    print(f'The length is even when = {length}\\n')\n",
    "    middle_one, middle_two = ages[length//2 - 1] , ages[length//2] # [length//2 - 1] is the index of the last element before the middle\n",
    "    median = (middle_one + middle_two)/2\n",
    "    print(f'The median = {median}\\n')\n",
    "else:\n",
    "    median = ages[length // 2]   # [length//2] is the index of the first element after the middle\n",
    "    print(f'The median is {median}\\n')\n",
    "\n",
    "# Average age = sum of all element in a list / length of a list\n",
    "sum_ages = sum(ages)\n",
    "len_ages = len(ages)\n",
    "average_age = sum_ages/len(ages)\n",
    "print(f'The average age is {average_age}\\n')\n",
    "\n",
    "# The range of the ages (max minus min)\n",
    "age_range = max(ages) - min(ages)\n",
    "print(f'The range of ages = {age_range}\\n')\n",
    "\n",
    "\n",
    "# Compare the value of (min - average) and (max - average), use abs() method\n",
    "\n",
    "# vale of (min - average)\n",
    "value1 = abs(min(ages) - average_age)\n",
    "print(f' (min - average) = {value1:.1f}\\n')\n",
    "\n",
    "# value of (max - average)\n",
    "value2 = abs(max(ages) - average_age)\n",
    "print(f'(max - average) = {value2:.1f}')"
   ]
  }
 ],
 "metadata": {
  "kernelspec": {
   "display_name": "AREWADS-TRAINING",
   "language": "python",
   "name": "python3"
  },
  "language_info": {
   "codemirror_mode": {
    "name": "ipython",
    "version": 3
   },
   "file_extension": ".py",
   "mimetype": "text/x-python",
   "name": "python",
   "nbconvert_exporter": "python",
   "pygments_lexer": "ipython3",
   "version": "3.13.0"
  }
 },
 "nbformat": 4,
 "nbformat_minor": 2
}
