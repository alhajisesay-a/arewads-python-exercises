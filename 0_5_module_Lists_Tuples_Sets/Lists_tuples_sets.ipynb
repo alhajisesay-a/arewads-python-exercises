{
 "cells": [
  {
   "cell_type": "markdown",
   "metadata": {},
   "source": [
    "###  Exercises: Module 5"
   ]
  },
  {
   "cell_type": "markdown",
   "metadata": {},
   "source": [
    "#### Exercises: Level 1"
   ]
  },
  {
   "cell_type": "markdown",
   "metadata": {},
   "source": [
    "1. Declare an empty list"
   ]
  },
  {
   "cell_type": "code",
   "execution_count": null,
   "metadata": {},
   "outputs": [],
   "source": [
    "# Empty list declearation\n",
    "names = [] # empty list\n"
   ]
  },
  {
   "cell_type": "markdown",
   "metadata": {},
   "source": [
    "2. Declare a list with more than 5 items"
   ]
  },
  {
   "cell_type": "code",
   "execution_count": null,
   "metadata": {},
   "outputs": [],
   "source": [
    "# List with 5 items and above\n",
    "names = ['fatima','abu','ada','john','alimamy','ibrahim','mary']"
   ]
  },
  {
   "cell_type": "markdown",
   "metadata": {},
   "source": [
    "3. Find the length of your list"
   ]
  },
  {
   "cell_type": "code",
   "execution_count": null,
   "metadata": {},
   "outputs": [
    {
     "name": "stdout",
     "output_type": "stream",
     "text": [
      "6\n"
     ]
    }
   ],
   "source": [
    "# Length of list below\n",
    "names = ['fatima','abu','ada','john','alimamy','ibrahim','mary']\n",
    "print(len(names))"
   ]
  },
  {
   "cell_type": "markdown",
   "metadata": {},
   "source": [
    "4. Get the first item, the middle item and the last item of the list"
   ]
  },
  {
   "cell_type": "code",
   "execution_count": 4,
   "metadata": {},
   "outputs": [
    {
     "name": "stdout",
     "output_type": "stream",
     "text": [
      "fatima\n",
      "john\n",
      "mary\n"
     ]
    }
   ],
   "source": [
    "# Accessing names from the list of names\n",
    "names = ['fatima','abu','ada','john','alimamy','ibrahim','mary']\n",
    "print(names[0]) # first item\n",
    "print(names[3]) # middle item\n",
    "print(names[-1]) # last item"
   ]
  },
  {
   "cell_type": "markdown",
   "metadata": {},
   "source": [
    "5. Declare a list called mixed_data_types, put your(name, age, height, marital status, address"
   ]
  },
  {
   "cell_type": "code",
   "execution_count": null,
   "metadata": {},
   "outputs": [
    {
     "name": "stdout",
     "output_type": "stream",
     "text": [
      "<class 'list'>\n"
     ]
    }
   ],
   "source": [
    "# Declearing a list of mixed data types\n",
    "mixed_data_type = ['john','21 years','6ft','single','21 regent road,lumley']\n",
    "print(type(mixed_data_type)) # test the data type\n"
   ]
  },
  {
   "cell_type": "markdown",
   "metadata": {},
   "source": [
    "6. Declare a list variable named it_companies and assign initial values Facebook, Google, Microsoft, Apple, IBM, Oracle and Amazon"
   ]
  },
  {
   "cell_type": "code",
   "execution_count": 7,
   "metadata": {},
   "outputs": [
    {
     "name": "stdout",
     "output_type": "stream",
     "text": [
      "<class 'list'>\n"
     ]
    }
   ],
   "source": [
    "# Declearing a List of variable name 'companies'\n",
    "companies = ['Facebook','Google','Microsoft','Apple','IBM','Oracle','Amazone']\n",
    "print(type(companies)) # testing the data type"
   ]
  },
  {
   "cell_type": "markdown",
   "metadata": {},
   "source": [
    "7. Print the list using print()"
   ]
  },
  {
   "cell_type": "code",
   "execution_count": 8,
   "metadata": {},
   "outputs": [
    {
     "name": "stdout",
     "output_type": "stream",
     "text": [
      "['Facebook', 'Google', 'Microsoft', 'Apple', 'IBM', 'Oracle', 'Amazone']\n"
     ]
    }
   ],
   "source": [
    "# print the variable name companies in 6 above\n",
    "companies = ['Facebook','Google','Microsoft','Apple','IBM','Oracle','Amazone']\n",
    "print(companies)"
   ]
  },
  {
   "cell_type": "markdown",
   "metadata": {},
   "source": [
    "8. Print the number of companies in the list"
   ]
  },
  {
   "cell_type": "code",
   "execution_count": 9,
   "metadata": {},
   "outputs": [
    {
     "name": "stdout",
     "output_type": "stream",
     "text": [
      "7\n"
     ]
    }
   ],
   "source": [
    "# We print the number of companies in a list using the length built-in function\n",
    "companies = ['Facebook','Google','Microsoft','Apple','IBM','Oracle','Amazone']\n",
    "print(len(companies))"
   ]
  },
  {
   "cell_type": "markdown",
   "metadata": {},
   "source": [
    "9. Print the first, middle and last company"
   ]
  },
  {
   "cell_type": "code",
   "execution_count": 11,
   "metadata": {},
   "outputs": [
    {
     "name": "stdout",
     "output_type": "stream",
     "text": [
      "Facebook\n",
      "Apple\n",
      "Amazone\n"
     ]
    }
   ],
   "source": [
    "# We can access each company in the variable using index function.\n",
    "companies = ['Facebook','Google','Microsoft','Apple','IBM','Oracle','Amazone']\n",
    "print(companies[0]) # first company\n",
    "print(companies[3]) # middle company\n",
    "print(companies[-1]) # Last company"
   ]
  },
  {
   "cell_type": "markdown",
   "metadata": {},
   "source": [
    "10. Print the list after modifying one of the companies"
   ]
  },
  {
   "cell_type": "code",
   "execution_count": 17,
   "metadata": {},
   "outputs": [
    {
     "name": "stdout",
     "output_type": "stream",
     "text": [
      "['Uber', 'Google', 'Microsoft', 'Apple', 'IBM', 'Oracle', 'Amazone']\n"
     ]
    }
   ],
   "source": [
    "# Modifying one of the companies using index method\n",
    "companies = ['Facebook','Google','Microsoft','Apple','IBM','Oracle','Amazone']\n",
    "new_comp = companies[0] = ('Uber') # replacing facebook with Uber\n",
    "print(companies)"
   ]
  },
  {
   "cell_type": "markdown",
   "metadata": {},
   "source": [
    "11. Add an IT company to it_companies"
   ]
  },
  {
   "cell_type": "code",
   "execution_count": 21,
   "metadata": {},
   "outputs": [
    {
     "name": "stdout",
     "output_type": "stream",
     "text": [
      "['Facebook', 'Google', 'Microsoft', 'Apple', 'IBM', 'Oracle', 'Amazone', 'SendMe']\n"
     ]
    }
   ],
   "source": [
    "# Adding new iteam in a list, we use .append()\n",
    "companies = ['Facebook','Google','Microsoft','Apple','IBM','Oracle','Amazone']\n",
    "new_comp = companies.append('SendMe')\n",
    "print(companies)"
   ]
  },
  {
   "cell_type": "markdown",
   "metadata": {},
   "source": [
    "12. Insert an IT company in the middle of the companies list"
   ]
  },
  {
   "cell_type": "code",
   "execution_count": 34,
   "metadata": {},
   "outputs": [
    {
     "name": "stdout",
     "output_type": "stream",
     "text": [
      "['Facebook', 'Google', 'Microsoft', 'Telegram', 'Apple', 'IBM', 'Oracle', 'Amazone']\n"
     ]
    }
   ],
   "source": [
    "# Adding items in a list at any position using insert method\n",
    "companies = ['Facebook','Google','Microsoft','Apple','IBM','Oracle','Amazone']\n",
    "new_comp = companies.insert(3,'Telegram')\n",
    "print(companies)"
   ]
  },
  {
   "cell_type": "markdown",
   "metadata": {},
   "source": [
    "13. Change one of the it_companies names to uppercase (IBM excluded!)"
   ]
  },
  {
   "cell_type": "code",
   "execution_count": 32,
   "metadata": {},
   "outputs": [
    {
     "name": "stdout",
     "output_type": "stream",
     "text": [
      "MICROSOFT\n"
     ]
    }
   ],
   "source": [
    "# Changing one of the companies name using .upper()\n",
    "companies = ['Facebook','Google','Microsoft','Apple','IBM','Oracle','Amazone']\n",
    "chng_case = companies[2].upper()\n",
    "print(chng_case)"
   ]
  },
  {
   "cell_type": "markdown",
   "metadata": {},
   "source": [
    "14. Join the it_companies with a string '#;  "
   ]
  },
  {
   "cell_type": "code",
   "execution_count": null,
   "metadata": {},
   "outputs": [
    {
     "name": "stdout",
     "output_type": "stream",
     "text": [
      "Facebook  Google  Microsoft  Apple  IBM  Oracle  Amazone\n"
     ]
    }
   ],
   "source": [
    "#Joining list with strint '#'\n",
    "companies = ['Facebook','Google','Microsoft','Apple','IBM','Oracle','Amazone']\n",
    "outcom = ' # '.join(companies)\n",
    "print(outcom)"
   ]
  },
  {
   "cell_type": "markdown",
   "metadata": {},
   "source": [
    "15. Check if a certain company exists in the it_companies list"
   ]
  },
  {
   "cell_type": "code",
   "execution_count": 44,
   "metadata": {},
   "outputs": [
    {
     "name": "stdout",
     "output_type": "stream",
     "text": [
      "Google belongs to it_companies.\n"
     ]
    }
   ],
   "source": [
    "# checking if Google exist in it_companies\n",
    "companies = ['Facebook','Google','Microsoft','Apple','IBM','Oracle','Amazone']\n",
    "if 'Google' in companies:\n",
    "    print('Google belongs to it_companies.')\n",
    "else:\n",
    "    print('Is not part of the it_companies.')"
   ]
  },
  {
   "cell_type": "markdown",
   "metadata": {},
   "source": [
    "16. Sort the list using sort() method"
   ]
  },
  {
   "cell_type": "code",
   "execution_count": 47,
   "metadata": {},
   "outputs": [
    {
     "name": "stdout",
     "output_type": "stream",
     "text": [
      "['Amazone', 'Apple', 'Facebook', 'Google', 'IBM', 'Microsoft', 'Oracle']\n"
     ]
    }
   ],
   "source": [
    "# sorting list\n",
    "companies = ['Facebook','Google','Microsoft','Apple','IBM','Oracle','Amazone']\n",
    "new_lst = companies.sort()\n",
    "print(companies)"
   ]
  },
  {
   "cell_type": "markdown",
   "metadata": {},
   "source": [
    "17. Reverse the list in descending order using reverse() method"
   ]
  },
  {
   "cell_type": "code",
   "execution_count": 49,
   "metadata": {},
   "outputs": [
    {
     "name": "stdout",
     "output_type": "stream",
     "text": [
      "['Oracle', 'Microsoft', 'IBM', 'Google', 'Facebook', 'Apple', 'Amazone']\n"
     ]
    }
   ],
   "source": [
    "# Reverse the list in decending order\n",
    "companies = ['Facebook','Google','Microsoft','Apple','IBM','Oracle','Amazone']\n",
    "new_lst = companies.sort(reverse = 'true')\n",
    "print(companies)"
   ]
  },
  {
   "cell_type": "markdown",
   "metadata": {},
   "source": [
    "18. Slice out the first 3 companies from the list"
   ]
  },
  {
   "cell_type": "code",
   "execution_count": 53,
   "metadata": {},
   "outputs": [
    {
     "name": "stdout",
     "output_type": "stream",
     "text": [
      "['Facebook', 'Google', 'Microsoft']\n"
     ]
    }
   ],
   "source": [
    "# Slicing out the first 3 it_companies\n",
    "companies = ['Facebook','Google','Microsoft','Apple','IBM','Oracle','Amazone']\n",
    "outcome = companies[0:3]\n",
    "print(outcome)"
   ]
  },
  {
   "cell_type": "markdown",
   "metadata": {},
   "source": [
    "19. Slice out the last 3 companies from the list"
   ]
  },
  {
   "cell_type": "code",
   "execution_count": 55,
   "metadata": {},
   "outputs": [
    {
     "name": "stdout",
     "output_type": "stream",
     "text": [
      "['IBM', 'Oracle', 'Amazone']\n"
     ]
    }
   ],
   "source": [
    "# Slicing out the last 3 companies\n",
    "companies = ['Facebook','Google','Microsoft','Apple','IBM','Oracle','Amazone']\n",
    "outcome = companies[4:]\n",
    "print(outcome)"
   ]
  },
  {
   "cell_type": "markdown",
   "metadata": {},
   "source": [
    "20. Slice out the middle IT company or companies from the list"
   ]
  },
  {
   "cell_type": "code",
   "execution_count": 57,
   "metadata": {},
   "outputs": [
    {
     "name": "stdout",
     "output_type": "stream",
     "text": [
      "Apple\n"
     ]
    }
   ],
   "source": [
    "# Slicing ou the middle IT company from the list\n",
    "companies = ['Facebook','Google','Microsoft','Apple','IBM','Oracle','Amazone']\n",
    "print(companies[3]) "
   ]
  },
  {
   "cell_type": "markdown",
   "metadata": {},
   "source": [
    "21. Remove the first IT company from the list"
   ]
  },
  {
   "cell_type": "code",
   "execution_count": 68,
   "metadata": {},
   "outputs": [
    {
     "name": "stdout",
     "output_type": "stream",
     "text": [
      "['Google', 'Microsoft', 'Apple', 'IBM', 'Oracle', 'Amazone']\n"
     ]
    }
   ],
   "source": [
    "# Removing the first IT company crom the list\n",
    "companies = ['Facebook','Google','Microsoft','Apple','IBM','Oracle','Amazone']\n",
    "new_lst = companies.remove('Facebook')\n",
    "print(companies)"
   ]
  },
  {
   "cell_type": "markdown",
   "metadata": {},
   "source": [
    "22. Remove the middle IT company or companies from the list"
   ]
  },
  {
   "cell_type": "code",
   "execution_count": 71,
   "metadata": {},
   "outputs": [
    {
     "name": "stdout",
     "output_type": "stream",
     "text": [
      "['Facebook', 'Google', 'Microsoft', 'IBM', 'Oracle', 'Amazone']\n"
     ]
    }
   ],
   "source": [
    "# Removing the middle conpany from the list\n",
    "companies = ['Facebook','Google','Microsoft','Apple','IBM','Oracle','Amazone']\n",
    "new_lst = companies.remove('Apple')\n",
    "print(companies)"
   ]
  },
  {
   "cell_type": "markdown",
   "metadata": {},
   "source": [
    "23. Remove the last IT company from the list"
   ]
  },
  {
   "cell_type": "code",
   "execution_count": 72,
   "metadata": {},
   "outputs": [
    {
     "name": "stdout",
     "output_type": "stream",
     "text": [
      "['Facebook', 'Google', 'Microsoft', 'Apple', 'IBM', 'Oracle']\n"
     ]
    }
   ],
   "source": [
    "# Removing the last IT company using pop()\n",
    "companies = ['Facebook','Google','Microsoft','Apple','IBM','Oracle','Amazone']\n",
    "companies.pop()\n",
    "print(companies)"
   ]
  },
  {
   "cell_type": "markdown",
   "metadata": {},
   "source": [
    "24. Remove all IT companies from the list"
   ]
  },
  {
   "cell_type": "code",
   "execution_count": 74,
   "metadata": {},
   "outputs": [
    {
     "name": "stdout",
     "output_type": "stream",
     "text": [
      "[]\n"
     ]
    }
   ],
   "source": [
    "# Removing all IT companies from list\n",
    "companies = ['Facebook','Google','Microsoft','Apple','IBM','Oracle','Amazone']\n",
    "companies.clear()\n",
    "print(companies)"
   ]
  },
  {
   "cell_type": "markdown",
   "metadata": {},
   "source": [
    "25. Destroy the IT companies list"
   ]
  },
  {
   "cell_type": "code",
   "execution_count": 77,
   "metadata": {},
   "outputs": [],
   "source": [
    "# Distroying the IT Companies list, we use the delete keywork\n",
    "companies = ['Facebook','Google','Microsoft','Apple','IBM','Oracle','Amazone']\n",
    "del companies"
   ]
  },
  {
   "cell_type": "markdown",
   "metadata": {},
   "source": [
    "26. Join the following lists:\n",
    "\n",
    "front_end = ['HTML', 'CSS', 'JS', 'React', 'Redux']\n",
    "\n",
    "back_end = ['Node','Express', 'MongoDB']"
   ]
  },
  {
   "cell_type": "code",
   "execution_count": null,
   "metadata": {},
   "outputs": [
    {
     "name": "stdout",
     "output_type": "stream",
     "text": [
      "['HTML', 'CSS', 'JS', 'React', 'Redux', 'Node', 'Express', 'MongoDB']\n",
      "['HTML', 'CSS', 'JS', 'React', 'Redux', 'Node', 'Express', 'MongoDB']\n"
     ]
    }
   ],
   "source": [
    "# Joining two variables using extend or +\n",
    "front_end = ['HTML', 'CSS', 'JS', 'React', 'Redux']\n",
    "back_end = ['Node','Express', 'MongoDB']\n",
    "languages = front_end + back_end\n",
    "print(languages)\n",
    "\n",
    "# Or apply the entend keyword\n",
    "programes = front_end.extend(back_end)\n",
    "print(languages)\n"
   ]
  },
  {
   "cell_type": "markdown",
   "metadata": {},
   "source": [
    "27. After joining the lists in question 26. Copy the joined list and assign it to a variable full_stack, then insert Python and SQL after Redux."
   ]
  },
  {
   "cell_type": "code",
   "execution_count": null,
   "metadata": {},
   "outputs": [
    {
     "name": "stdout",
     "output_type": "stream",
     "text": [
      "['HTML', 'CSS', 'JS', 'React', 'Redux', 'python', 'SQL', 'Node', 'Express', 'MongoDB', 'Node', 'Express', 'MongoDB']\n",
      "['HTML', 'CSS', 'JS', 'React', 'Redux', 'Node', 'Express', 'MongoDB', 'Node', 'Express', 'MongoDB']\n"
     ]
    }
   ],
   "source": [
    "# Copy the joined list and assign to a variable full_stack\n",
    "full_stack = languages[:] # copy languages. This symbol [:] allows us to make changes on the new variable (full_stack) without affecting the original (language)\n",
    "new_lan1 = full_stack.insert(5,'python') # insert new languages in full_stack\n",
    "new_lan2 = full_stack.insert(6,'SQL')     # insert new languages in full_stack\n",
    "print(full_stack)\n",
    "print(languages) # the result shows that the original variable remain intact "
   ]
  },
  {
   "cell_type": "markdown",
   "metadata": {},
   "source": [
    "### Exercises: Level 2"
   ]
  },
  {
   "cell_type": "markdown",
   "metadata": {},
   "source": [
    "1. The following is a list of 10 students ages:\n",
    "   \n",
    "ages = [19, 22, 19, 24, 20, 25, 26, 24, 25, 24]\n",
    "\n",
    "+ Sort the list and find the min and max age\n",
    "+ Add the min age and the max age again to the list\n",
    "+ Find the median age (one middle item or two middle items divided by two)\n",
    "+ Find the average age (sum of all items divided by their number )\n",
    "+ Find the range of the ages (max minus min)\n",
    "+ Compare the value of (min - average) and (max - average), use abs() method"
   ]
  },
  {
   "cell_type": "code",
   "execution_count": null,
   "metadata": {},
   "outputs": [
    {
     "name": "stdout",
     "output_type": "stream",
     "text": [
      "Sorted ages, = [19, 19, 20, 22, 24, 24, 24, 25, 25, 26]\n",
      "\n",
      "The length is even when = 10\n",
      "\n",
      "The median = 24.0\n",
      "\n",
      "The average age is 22.8\n",
      "\n",
      "The range of ages = 7\n",
      "\n",
      " (min - average) = 3.8\n",
      "\n",
      "(max - average) = 3.2\n",
      "\n",
      "(min - average) and  (max - average) different\n"
     ]
    }
   ],
   "source": [
    "# sorting list and obtain minimum and maximum\n",
    "ages = [19, 22, 19, 24, 20, 25, 26, 24, 25, 24]\n",
    "ages.sort()  # Sorted list\n",
    "print(f'Sorted ages, = {ages}\\n')\n",
    "min(ages)    # minimum age\n",
    "max(ages)    # maximum age\n",
    "# median from ages\n",
    "length = len(ages)\n",
    "if length % 2 == 0:\n",
    "    print(f'The length is even when = {length}\\n')\n",
    "    middle_one, middle_two = ages[length//2 - 1] , ages[length//2] # [length//2 - 1] is the index of the last element before the middle\n",
    "    median = (middle_one + middle_two)/2\n",
    "    print(f'The median = {median}\\n')\n",
    "else:\n",
    "    median = ages[length // 2]   # [length//2] is the index of the first element after the middle\n",
    "    print(f'The median is {median}\\n')\n",
    "\n",
    "# Average age = sum of all element in a list / length of a list\n",
    "sum_ages = sum(ages)\n",
    "len_ages = len(ages)\n",
    "average_age = sum_ages/len(ages)\n",
    "print(f'The average age is {average_age}\\n')\n",
    "\n",
    "# The range of the ages (max minus min)\n",
    "age_range = max(ages) - min(ages)\n",
    "print(f'The range of ages = {age_range}\\n')\n",
    "\n",
    "# Compare the value of (min - average) and (max - average), use abs() method\n",
    "# vale of (min - average)\n",
    "value1 = abs(min(ages) - average_age)\n",
    "print(f' (min - average) = {value1:.1f}\\n')\n",
    "# value of (max - average)\n",
    "value2 = abs(max(ages) - average_age)\n",
    "print(f'(max - average) = {value2:.1f}\\n')\n",
    "if value1 != value2:\n",
    "    print('(min - average) and  (max - average) different')\n",
    "else:\n",
    "    print('They have the same values')\n"
   ]
  },
  {
   "cell_type": "markdown",
   "metadata": {},
   "source": [
    "1. Find the middle country(ies) in the countries list"
   ]
  },
  {
   "cell_type": "code",
   "execution_count": 77,
   "metadata": {},
   "outputs": [
    {
     "name": "stdout",
     "output_type": "stream",
     "text": [
      "The middle is Lesotho\n",
      "\n"
     ]
    }
   ],
   "source": [
    "# middle country(ies) in the countries list\n",
    "countries = [\n",
    "  'Afghanistan',\n",
    "  'Albania',\n",
    "  'Algeria',\n",
    "  'Andorra',\n",
    "  'Angola',\n",
    "  'Antigua and Barbuda',\n",
    "  'Argentina',\n",
    "  'Armenia',\n",
    "  'Australia',\n",
    "  'Austria',\n",
    "  'Azerbaijan',\n",
    "  'Bahamas',\n",
    "  'Bahrain',\n",
    "  'Bangladesh',\n",
    "  'Barbados',\n",
    "  'Belarus',\n",
    "  'Belgium',\n",
    "  'Belize',\n",
    "  'Benin',\n",
    "  'Bhutan',\n",
    "  'Bolivia',\n",
    "  'Bosnia and Herzegovina',\n",
    "  'Botswana',\n",
    "  'Brazil',\n",
    "  'Brunei',\n",
    "  'Bulgaria',\n",
    "  'Burkina Faso',\n",
    "  'Burundi',\n",
    "  'Cambodia',\n",
    "  'Cameroon',\n",
    "  'Canada',\n",
    "  'Cape Verde',\n",
    "  'Central African Republic',\n",
    "  'Chad',\n",
    "  'Chile',\n",
    "  'China',\n",
    "  'Colombi',\n",
    "  'Comoros',\n",
    "  'Congo (Brazzaville)',\n",
    "  'Congo',\n",
    "  'Costa Rica',\n",
    "  \"Cote d'Ivoire\",\n",
    "  'Croatia',\n",
    "  'Cuba',\n",
    "  'Cyprus',\n",
    "  'Czech Republic',\n",
    "  'Denmark',\n",
    "  'Djibouti',\n",
    "  'Dominica',\n",
    "  'Dominican Republic',\n",
    "  'East Timor (Timor Timur)',\n",
    "  'Ecuador',\n",
    "  'Egypt',\n",
    "  'El Salvador',\n",
    "  'Equatorial Guinea',\n",
    "  'Eritrea',\n",
    "  'Estonia',\n",
    "  'Ethiopia',\n",
    "  'Fiji',\n",
    "  'Finland',\n",
    "  'France',\n",
    "  'Gabon',\n",
    "  'Gambia, The',\n",
    "  'Georgia',\n",
    "  'Germany',\n",
    "  'Ghana',\n",
    "  'Greece',\n",
    "  'Grenada',\n",
    "  'Guatemala',\n",
    "  'Guinea',\n",
    "  'Guinea-Bissau',\n",
    "  'Guyana',\n",
    "  'Haiti',\n",
    "  'Honduras',\n",
    "  'Hungary',\n",
    "  'Iceland',\n",
    "  'India',\n",
    "  'Indonesia',\n",
    "  'Iran',\n",
    "  'Iraq',\n",
    "  'Ireland',\n",
    "  'Israel',\n",
    "  'Italy',\n",
    "  'Jamaica',\n",
    "  'Japan',\n",
    "  'Jordan',\n",
    "  'Kazakhstan',\n",
    "  'Kenya',\n",
    "  'Kiribati',\n",
    "  'Korea, North',\n",
    "  'Korea, South',\n",
    "  'Kuwait',\n",
    "  'Kyrgyzstan',\n",
    "  'Laos',\n",
    "  'Latvia',\n",
    "  'Lebanon',\n",
    "  'Lesotho',\n",
    "  'Liberia',\n",
    "  'Libya',\n",
    "  'Liechtenstein',\n",
    "  'Lithuania',\n",
    "  'Luxembourg',\n",
    "  'Macedonia',\n",
    "  'Madagascar',\n",
    "  'Malawi',\n",
    "  'Malaysia',\n",
    "  'Maldives',\n",
    "  'Mali',\n",
    "  'Malta',\n",
    "  'Marshall Islands',\n",
    "  'Mauritania',\n",
    "  'Mauritius',\n",
    "  'Mexico',\n",
    "  'Micronesia',\n",
    "  'Moldova',\n",
    "  'Monaco',\n",
    "  'Mongolia',\n",
    "  'Morocco',\n",
    "  'Mozambique',\n",
    "  'Myanmar',\n",
    "  'Namibia',\n",
    "  'Nauru',\n",
    "  'Nepal',\n",
    "  'Netherlands',\n",
    "  'New Zealand',\n",
    "  'Nicaragua',\n",
    "  'Niger',\n",
    "  'Nigeria',\n",
    "  'Norway',\n",
    "  'Oman',\n",
    "  'Pakistan',\n",
    "  'Palau',\n",
    "  'Panama',\n",
    "  'Papua New Guinea',\n",
    "  'Paraguay',\n",
    "  'Peru',\n",
    "  'Philippines',\n",
    "  'Poland',\n",
    "  'Portugal',\n",
    "  'Qatar',\n",
    "  'Romania',\n",
    "  'Russia',\n",
    "  'Rwanda',\n",
    "  'Saint Kitts and Nevis',\n",
    "  'Saint Lucia',\n",
    "  'Saint Vincent',\n",
    "  'Samoa',\n",
    "  'San Marino',\n",
    "  'Sao Tome and Principe',\n",
    "  'Saudi Arabia',\n",
    "  'Senegal',\n",
    "  'Serbia and Montenegro',\n",
    "  'Seychelles',\n",
    "  'Sierra Leone',\n",
    "  'Singapore',\n",
    "  'Slovakia',\n",
    "  'Slovenia',\n",
    "  'Solomon Islands',\n",
    "  'Somalia',\n",
    "  'South Africa',\n",
    "  'Spain',\n",
    "  'Sri Lanka',\n",
    "  'Sudan',\n",
    "  'Suriname',\n",
    "  'Swaziland',\n",
    "  'Sweden',\n",
    "  'Switzerland',\n",
    "  'Syria',\n",
    "  'Taiwan',\n",
    "  'Tajikistan',\n",
    "  'Tanzania',\n",
    "  'Thailand',\n",
    "  'Togo',\n",
    "  'Tonga',\n",
    "  'Trinidad and Tobago',\n",
    "  'Tunisia',\n",
    "  'Turkey',\n",
    "  'Turkmenistan',\n",
    "  'Tuvalu',\n",
    "  'Uganda',\n",
    "  'Ukraine',\n",
    "  'United Arab Emirates',\n",
    "  'United Kingdom',\n",
    "  'United States',\n",
    "  'Uruguay',\n",
    "  'Uzbekistan',\n",
    "  'Vanuatu',\n",
    "  'Vatican City',\n",
    "  'Venezuela',\n",
    "  'Vietnam',\n",
    "  'Yemen',\n",
    "  'Zambia',\n",
    "  'Zimbabwe',\n",
    "]\n",
    "length = len(countries)\n",
    "if length % 2 == 0:\n",
    "    print(f'The length is even when = {length}\\n')\n",
    "    middle_one, middle_two = countries[length//2 - 1] , countries[length//2] \n",
    "    median = (middle_one + middle_two)/2\n",
    "    print(f'The median = {median}\\n')\n",
    "else:\n",
    "    median = countries[length // 2] \n",
    "    print(f'The middle is {median}\\n')\n",
    "\n"
   ]
  },
  {
   "cell_type": "markdown",
   "metadata": {},
   "source": [
    "2. Divide the countries list into two equal lists if it is even if not one more country for the first half"
   ]
  },
  {
   "cell_type": "code",
   "execution_count": 81,
   "metadata": {},
   "outputs": [
    {
     "name": "stdout",
     "output_type": "stream",
     "text": [
      "Length of countries = 193\n",
      "first_half  ['Afghanistan', 'Albania', 'Algeria', 'Andorra', 'Angola', 'Antigua and Barbuda', 'Argentina', 'Armenia', 'Australia', 'Austria', 'Azerbaijan', 'Bahamas', 'Bahrain', 'Bangladesh', 'Barbados', 'Belarus', 'Belgium', 'Belize', 'Benin', 'Bhutan', 'Bolivia', 'Bosnia and Herzegovina', 'Botswana', 'Brazil', 'Brunei', 'Bulgaria', 'Burkina Faso', 'Burundi', 'Cambodia', 'Cameroon', 'Canada', 'Cape Verde', 'Central African Republic', 'Chad', 'Chile', 'China', 'Colombi', 'Comoros', 'Congo (Brazzaville)', 'Congo', 'Costa Rica', \"Cote d'Ivoire\", 'Croatia', 'Cuba', 'Cyprus', 'Czech Republic', 'Denmark', 'Djibouti', 'Dominica', 'Dominican Republic', 'East Timor (Timor Timur)', 'Ecuador', 'Egypt', 'El Salvador', 'Equatorial Guinea', 'Eritrea', 'Estonia', 'Ethiopia', 'Fiji', 'Finland', 'France', 'Gabon', 'Gambia, The', 'Georgia', 'Germany', 'Ghana', 'Greece', 'Grenada', 'Guatemala', 'Guinea', 'Guinea-Bissau', 'Guyana', 'Haiti', 'Honduras', 'Hungary', 'Iceland', 'India', 'Indonesia', 'Iran', 'Iraq', 'Ireland', 'Israel', 'Italy', 'Jamaica', 'Japan', 'Jordan', 'Kazakhstan', 'Kenya', 'Kiribati', 'Korea, North', 'Korea, South', 'Kuwait', 'Kyrgyzstan', 'Laos', 'Latvia', 'Lebanon', 'Lesotho']\n",
      "second_half  ['Liberia', 'Libya', 'Liechtenstein', 'Lithuania', 'Luxembourg', 'Macedonia', 'Madagascar', 'Malawi', 'Malaysia', 'Maldives', 'Mali', 'Malta', 'Marshall Islands', 'Mauritania', 'Mauritius', 'Mexico', 'Micronesia', 'Moldova', 'Monaco', 'Mongolia', 'Morocco', 'Mozambique', 'Myanmar', 'Namibia', 'Nauru', 'Nepal', 'Netherlands', 'New Zealand', 'Nicaragua', 'Niger', 'Nigeria', 'Norway', 'Oman', 'Pakistan', 'Palau', 'Panama', 'Papua New Guinea', 'Paraguay', 'Peru', 'Philippines', 'Poland', 'Portugal', 'Qatar', 'Romania', 'Russia', 'Rwanda', 'Saint Kitts and Nevis', 'Saint Lucia', 'Saint Vincent', 'Samoa', 'San Marino', 'Sao Tome and Principe', 'Saudi Arabia', 'Senegal', 'Serbia and Montenegro', 'Seychelles', 'Sierra Leone', 'Singapore', 'Slovakia', 'Slovenia', 'Solomon Islands', 'Somalia', 'South Africa', 'Spain', 'Sri Lanka', 'Sudan', 'Suriname', 'Swaziland', 'Sweden', 'Switzerland', 'Syria', 'Taiwan', 'Tajikistan', 'Tanzania', 'Thailand', 'Togo', 'Tonga', 'Trinidad and Tobago', 'Tunisia', 'Turkey', 'Turkmenistan', 'Tuvalu', 'Uganda', 'Ukraine', 'United Arab Emirates', 'United Kingdom', 'United States', 'Uruguay', 'Uzbekistan', 'Vanuatu', 'Vatican City', 'Venezuela', 'Vietnam', 'Yemen', 'Zambia', 'Zimbabwe']\n"
     ]
    }
   ],
   "source": [
    "length = len(countries)\n",
    "print(f'Length of countries = {length}')\n",
    "mid_countries = (length + 1) // 2 # Add 1 to ensure first half gets one more if the length is odd\n",
    "# Divide the list into two halves\n",
    "first_half = countries[:mid_countries]\n",
    "second_half = countries[mid_countries:]\n",
    "print('first_half ',first_half)\n",
    "print('second_half ',second_half)"
   ]
  },
  {
   "cell_type": "markdown",
   "metadata": {},
   "source": [
    "3. ['China', 'Russia', 'USA', 'Finland', 'Sweden', 'Norway', 'Denmark']. Unpack the first three countries and the rest as scandic countries."
   ]
  },
  {
   "cell_type": "code",
   "execution_count": 76,
   "metadata": {},
   "outputs": [
    {
     "name": "stdout",
     "output_type": "stream",
     "text": [
      "First_country:  China\n",
      "Second_country:  Russia\n",
      "Third_country:  USA\n",
      "Scandic_countries:  Finland Sweden Norway Denmark\n"
     ]
    }
   ],
   "source": [
    "countries = ['China', 'Russia', 'USA', 'Finland', 'Sweden', 'Norway', 'Denmark']\n",
    "# packing the first three countries using *\n",
    "China, Russia, USA, *scandic_countries = countries\n",
    "print('First_country: ', China)\n",
    "print('Second_country: ', Russia)\n",
    "print('Third_country: ', USA)\n",
    "print('Scandic_countries: ', *scandic_countries)"
   ]
  },
  {
   "cell_type": "markdown",
   "metadata": {},
   "source": [
    "###  Tuple Exercises"
   ]
  },
  {
   "cell_type": "markdown",
   "metadata": {},
   "source": [
    "##### Tuple Exercises: Level 1"
   ]
  },
  {
   "cell_type": "markdown",
   "metadata": {},
   "source": [
    "1. Create an empty tuple\n",
    "2. Create a tuple containing names of your sisters and your brothers (imaginary siblings are fine)\n",
    "3. Join brothers and sisters tuples and assign it to siblings\n",
    "4. How many siblings do you have?\n",
    "5. Modify the siblings tuple and add the name of your father and mother and assign it to family_members"
   ]
  },
  {
   "cell_type": "code",
   "execution_count": 90,
   "metadata": {},
   "outputs": [
    {
     "name": "stdout",
     "output_type": "stream",
     "text": [
      "('john', 'bakarr', 'osman', 'fatu', 'hawa')\n",
      "I have 5 siblings\n",
      "Family members  ('john', 'bakarr', 'osman', 'fatu', 'hawa', 'father', 'mother')\n"
     ]
    }
   ],
   "source": [
    "# Create an empty tuple\n",
    "empty_tuple = ()\n",
    "# tuple of systers and brothers\n",
    "brothers = ('john','bakarr','osman')\n",
    "sisters = ('fatu','hawa')\n",
    "# join brothers and sisters tuples on a variable siblings\n",
    "siblings = brothers + sisters\n",
    "print(siblings)\n",
    "# length of siblings\n",
    "siblings_length = len(siblings)\n",
    "print(f'I have {siblings_length} siblings')\n",
    "parent = ('father','mother')\n",
    "family_members = siblings + parent\n",
    "print('Family members ',family_members)\n"
   ]
  },
  {
   "cell_type": "markdown",
   "metadata": {},
   "source": [
    "#### Tuple Exercises: Level 2"
   ]
  },
  {
   "cell_type": "markdown",
   "metadata": {},
   "source": [
    "1. Unpack siblings and parents from family_members\n",
    "2. Create fruits, vegetables and animal products tuples. Join the three tuples and assign it to a variable called food_stuff_tp.\n",
    "3. Change the about food_stuff_tp tuple to a food_stuff_lt list\n",
    "4. Slice out the middle item or items from the food_stuff_tp tuple or food_stuff_lt list.\n",
    "5. Slice out the first three items and the last three items from food_staff_lt list\n",
    "6. Delete the food_staff_tp tuple completely\n",
    "7. Check if an item exists in tuple:\n",
    "Check if 'Estonia' is a nordic country\n",
    "\n",
    "Check if 'Iceland' is a nordic country\n",
    "\n",
    "nordic_countries = ('Denmark', 'Finland','Iceland', 'Norway', 'Sweden')"
   ]
  },
  {
   "cell_type": "code",
   "execution_count": null,
   "metadata": {},
   "outputs": [
    {
     "name": "stdout",
     "output_type": "stream",
     "text": [
      "The rest of family members = father mother\n"
     ]
    }
   ],
   "source": [
    "# Unpacking siblings and parents from family members using *\n",
    "john, bakarr, osman, fatu, hawa, *rest = family_members \n",
    "print('The rest of family members =',*rest)"
   ]
  },
  {
   "cell_type": "code",
   "execution_count": 95,
   "metadata": {},
   "outputs": [
    {
     "name": "stdout",
     "output_type": "stream",
     "text": [
      "('apple', 'banana', 'orange', 'carrot', 'tomato', 'cucumber', 'milk', 'eggs', 'cheese')\n",
      "The tuple is now a list of food stuff  ['apple', 'banana', 'orange', 'carrot', 'tomato', 'cucumber', 'milk', 'eggs', 'cheese']\n"
     ]
    }
   ],
   "source": [
    "# Create tuple containing fruits, vegetables and animal projuct variables\n",
    "fruits = ('apple','banana','orange')\n",
    "vegetables = ('carrot','tomato','cucumber')\n",
    "animal_products = ('milk','eggs','cheese')\n",
    "# join the three (3) tuples \n",
    "food_stuff_tp = fruits + vegetables + animal_products\n",
    "print(food_stuff_tp)\n",
    "# change the food_stuff_tp to food_stuff_it_list\n",
    "food_stuff_it_list = list(food_stuff_tp)\n",
    "print('The tuple is now a list of food stuff ',food_stuff_it_list)"
   ]
  },
  {
   "cell_type": "markdown",
   "metadata": {},
   "source": [
    "3. Slice out the middle item or items from the food_stuff_tp tuple or food_stuff_lt list."
   ]
  },
  {
   "cell_type": "code",
   "execution_count": 108,
   "metadata": {},
   "outputs": [
    {
     "name": "stdout",
     "output_type": "stream",
     "text": [
      "The middle is tomato\n",
      "\n"
     ]
    }
   ],
   "source": [
    "# slicing the middle item(s) from food_stuff_it_list\n",
    "food_stuff_it_list = list(food_stuff_tp)\n",
    "length = len(food_stuff_it_list)\n",
    "if length % 2 == 0:\n",
    "    print(f'The length is even when = {length}\\n')\n",
    "    middle_one, middle_two = food_stuff_it_list[length//2 - 1] , food_stuff_it_list[length//2] \n",
    "    median = (middle_one + middle_two)/2\n",
    "    print(f'The median = {median}\\n')\n",
    "else:\n",
    "    median = food_stuff_it_list[length // 2] \n",
    "    print(f'The middle is {median}\\n')\n"
   ]
  },
  {
   "cell_type": "markdown",
   "metadata": {},
   "source": [
    "5. Slice out the first three items and the last three items from food_staff_lt list"
   ]
  },
  {
   "cell_type": "code",
   "execution_count": 110,
   "metadata": {},
   "outputs": [
    {
     "name": "stdout",
     "output_type": "stream",
     "text": [
      "Length of food_stuff_it_list = 9\n",
      "first_half  ['apple', 'banana', 'orange', 'carrot', 'tomato']\n",
      "second_half  ['cucumber', 'milk', 'eggs', 'cheese']\n"
     ]
    }
   ],
   "source": [
    "length = len(food_stuff_it_list)\n",
    "print(f'Length of food_stuff_it_list = {length}')\n",
    "mid_food_stuff_it_list = (length + 1) // 2 # Add 1 to ensure first half gets one more if the length is odd\n",
    "# Divide the list into two halves\n",
    "first_half = food_stuff_it_list[:mid_food_stuff_it_list]\n",
    "second_half = food_stuff_it_list[mid_food_stuff_it_list:]\n",
    "print('first_half ',first_half)\n",
    "print('second_half ',second_half)"
   ]
  },
  {
   "cell_type": "markdown",
   "metadata": {},
   "source": [
    "6. Delete the food_staff_tp tuple completely"
   ]
  },
  {
   "cell_type": "code",
   "execution_count": 118,
   "metadata": {},
   "outputs": [],
   "source": [
    "# Deleting food_staff_tp \n",
    "food_stuff_tp = fruits + vegetables + animal_products\n",
    "del food_stuff_tp "
   ]
  },
  {
   "cell_type": "markdown",
   "metadata": {},
   "source": [
    "7. Check if an item exists in tuple:\n",
    "Check if 'Estonia' is a nordic country\n",
    "\n",
    "Check if 'Iceland' is a nordic country\n",
    "\n",
    "nordic_countries = ('Denmark', 'Finland','Iceland', 'Norway', 'Sweden')"
   ]
  },
  {
   "cell_type": "code",
   "execution_count": null,
   "metadata": {},
   "outputs": [
    {
     "name": "stdout",
     "output_type": "stream",
     "text": [
      "False\n"
     ]
    }
   ],
   "source": [
    "# Check if Estonia in nordic country.\n",
    "nordic_countries = ('Denmark', 'Finland','Iceland', 'Norway', 'Sweden')\n",
    "if 'Estonia' in nordic_countries:\n",
    "    print(True)\n",
    "else:\n",
    "    print(False)"
   ]
  },
  {
   "cell_type": "code",
   "execution_count": null,
   "metadata": {},
   "outputs": [
    {
     "name": "stdout",
     "output_type": "stream",
     "text": [
      "True\n"
     ]
    }
   ],
   "source": [
    "# Check if Iceland in nordic countries.\n",
    "nordic_countries = ('Denmark', 'Finland','Iceland', 'Norway', 'Sweden')\n",
    "if 'Iceland' in nordic_countries:\n",
    "    print(True)\n",
    "else:\n",
    "    print(False)"
   ]
  }
 ],
 "metadata": {
  "kernelspec": {
   "display_name": "AREWADS-TRAINING",
   "language": "python",
   "name": "python3"
  },
  "language_info": {
   "codemirror_mode": {
    "name": "ipython",
    "version": 3
   },
   "file_extension": ".py",
   "mimetype": "text/x-python",
   "name": "python",
   "nbconvert_exporter": "python",
   "pygments_lexer": "ipython3",
   "version": "3.13.0"
  }
 },
 "nbformat": 4,
 "nbformat_minor": 2
}
