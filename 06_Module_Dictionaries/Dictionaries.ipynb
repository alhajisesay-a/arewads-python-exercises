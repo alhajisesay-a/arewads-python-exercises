{
 "cells": [
  {
   "cell_type": "markdown",
   "metadata": {},
   "source": [
    "### Exercises: Module 6"
   ]
  },
  {
   "cell_type": "markdown",
   "metadata": {},
   "source": [
    "1. Create an empty dictionary called dog"
   ]
  },
  {
   "cell_type": "code",
   "execution_count": 1,
   "metadata": {},
   "outputs": [],
   "source": [
    "# Empty dictionary called dog\n",
    "dog = {}"
   ]
  },
  {
   "cell_type": "markdown",
   "metadata": {},
   "source": [
    "2. Add name, color, breed, legs, age to the dog dictionary"
   ]
  },
  {
   "cell_type": "code",
   "execution_count": 3,
   "metadata": {},
   "outputs": [
    {
     "name": "stdout",
     "output_type": "stream",
     "text": [
      "{'name': 'buddy', 'color': 'white', 'breed': 'golden', 'leg': 4, 'age': 7}\n"
     ]
    }
   ],
   "source": [
    "# adding name, color, breed, leg and age to empty dictionary\n",
    "dog = {}\n",
    "dog['name'] = 'buddy'\n",
    "dog['color'] = 'white'\n",
    "dog['breed'] = 'golden'\n",
    "dog['leg'] = 4\n",
    "dog['age'] = 7\n",
    "print(dog)"
   ]
  },
  {
   "cell_type": "markdown",
   "metadata": {},
   "source": [
    "3. Create a student dictionary and add first_name, last_name, gender, age, marital status, skills, country, city and address as keys for the dictionary"
   ]
  },
  {
   "cell_type": "code",
   "execution_count": 4,
   "metadata": {},
   "outputs": [
    {
     "name": "stdout",
     "output_type": "stream",
     "text": [
      "('first_name', 'Abdul')\n",
      "('last_name', 'kargbo')\n",
      "('gender', 'male')\n",
      "('age', 26)\n",
      "('marital_status', 'single')\n",
      "('skills', ['java', 'python', 'C++', 'SQL'])\n",
      "('country', 'sierra leone')\n",
      "('city', 'freetown')\n",
      "('address', '7 brass street')\n",
      "\n",
      "These are the keys: \n",
      "first_name\n",
      "last_name\n",
      "gender\n",
      "age\n",
      "marital_status\n",
      "skills\n",
      "country\n",
      "city\n",
      "address\n"
     ]
    }
   ],
   "source": [
    "student = {\n",
    "    'first_name' : 'Abdul',\n",
    "    'last_name' : 'kargbo',\n",
    "    'gender' : 'male',\n",
    "    'age' : 26,\n",
    "    'marital_status' : 'single',\n",
    "    'skills' : ['java','python','C++','SQL'],\n",
    "    'country' : 'sierra leone',\n",
    "    'city' : 'freetown',\n",
    "    'address' : '7 brass street',\n",
    "\n",
    "}\n",
    "for student_infor in student.items():\n",
    "    print(student_infor)\n",
    "\n",
    "print('\\nThese are the keys: ')\n",
    "for student_infor in student.keys():\n",
    "    print(student_infor)"
   ]
  },
  {
   "cell_type": "markdown",
   "metadata": {},
   "source": [
    "4. Get the length of the student dictionary"
   ]
  },
  {
   "cell_type": "code",
   "execution_count": 5,
   "metadata": {},
   "outputs": [
    {
     "name": "stdout",
     "output_type": "stream",
     "text": [
      "The length of student dictionary is  9\n"
     ]
    }
   ],
   "source": [
    "# Length of student dictionary\n",
    "dict_length = len(student)\n",
    "print('The length of student dictionary is ',dict_length)"
   ]
  },
  {
   "cell_type": "markdown",
   "metadata": {},
   "source": [
    "5. Get the value of skills and check the data type, it should be a list"
   ]
  },
  {
   "cell_type": "code",
   "execution_count": 6,
   "metadata": {},
   "outputs": [
    {
     "name": "stdout",
     "output_type": "stream",
     "text": [
      "['java', 'python', 'C++', 'SQL']\n",
      "<class 'list'>\n"
     ]
    }
   ],
   "source": [
    "# Value of skills in student dictionary\n",
    "skill_values = student['skills']\n",
    "print(skill_values)\n",
    "\n",
    "# checking the data type for skills\n",
    "dtype = type(skill_values)\n",
    "print(dtype)"
   ]
  },
  {
   "cell_type": "markdown",
   "metadata": {},
   "source": [
    "6. Modify the skills values by adding one or two skills"
   ]
  }
 ],
 "metadata": {
  "kernelspec": {
   "display_name": "AREWADS-TRAINING",
   "language": "python",
   "name": "python3"
  },
  "language_info": {
   "codemirror_mode": {
    "name": "ipython",
    "version": 3
   },
   "file_extension": ".py",
   "mimetype": "text/x-python",
   "name": "python",
   "nbconvert_exporter": "python",
   "pygments_lexer": "ipython3",
   "version": "3.13.0"
  }
 },
 "nbformat": 4,
 "nbformat_minor": 2
}
