{
 "cells": [
  {
   "cell_type": "markdown",
   "metadata": {},
   "source": [
    "### Exercises: Module 6"
   ]
  },
  {
   "cell_type": "markdown",
   "metadata": {},
   "source": [
    "1. Create an empty dictionary called dog"
   ]
  },
  {
   "cell_type": "code",
   "execution_count": 34,
   "metadata": {},
   "outputs": [],
   "source": [
    "# Empty dictionary called dog\n",
    "dog = {}"
   ]
  },
  {
   "cell_type": "markdown",
   "metadata": {},
   "source": [
    "2. Add name, color, breed, legs, age to the dog dictionary"
   ]
  },
  {
   "cell_type": "code",
   "execution_count": 35,
   "metadata": {},
   "outputs": [
    {
     "name": "stdout",
     "output_type": "stream",
     "text": [
      "{'name': 'buddy', 'color': 'white', 'breed': 'golden', 'leg': 4, 'age': 7}\n"
     ]
    }
   ],
   "source": [
    "# adding name, color, breed, leg and age to empty dictionary\n",
    "dog = {}\n",
    "dog['name'] = 'buddy'\n",
    "dog['color'] = 'white'\n",
    "dog['breed'] = 'golden'\n",
    "dog['leg'] = 4\n",
    "dog['age'] = 7\n",
    "print(dog)"
   ]
  },
  {
   "cell_type": "markdown",
   "metadata": {},
   "source": [
    "3. Create a student dictionary and add first_name, last_name, gender, age, marital status, skills, country, city and address as keys for the dictionary"
   ]
  },
  {
   "cell_type": "code",
   "execution_count": 36,
   "metadata": {},
   "outputs": [
    {
     "name": "stdout",
     "output_type": "stream",
     "text": [
      "('first_name', 'Abdul')\n",
      "('last_name', 'kargbo')\n",
      "('gender', 'male')\n",
      "('age', 26)\n",
      "('marital_status', 'single')\n",
      "('skills', ['java', 'python', 'C++', 'SQL'])\n",
      "('country', 'sierra leone')\n",
      "('city', 'freetown')\n",
      "('address', '7 brass street')\n",
      "\n",
      "These are the keys: \n",
      "first_name\n",
      "last_name\n",
      "gender\n",
      "age\n",
      "marital_status\n",
      "skills\n",
      "country\n",
      "city\n",
      "address\n",
      "\n",
      "Value pairs:\n",
      "Abdul\n",
      "\n",
      "Value pairs:\n",
      "kargbo\n",
      "\n",
      "Value pairs:\n",
      "male\n",
      "\n",
      "Value pairs:\n",
      "26\n",
      "\n",
      "Value pairs:\n",
      "single\n",
      "\n",
      "Value pairs:\n",
      "['java', 'python', 'C++', 'SQL']\n",
      "\n",
      "Value pairs:\n",
      "sierra leone\n",
      "\n",
      "Value pairs:\n",
      "freetown\n",
      "\n",
      "Value pairs:\n",
      "7 brass street\n"
     ]
    }
   ],
   "source": [
    "student = {\n",
    "    'first_name' : 'Abdul',\n",
    "    'last_name' : 'kargbo',\n",
    "    'gender' : 'male',\n",
    "    'age' : 26,\n",
    "    'marital_status' : 'single',\n",
    "    'skills' : ['java','python','C++','SQL'],\n",
    "    'country' : 'sierra leone',\n",
    "    'city' : 'freetown',\n",
    "    'address' : '7 brass street',\n",
    "\n",
    "# obtaining key value pairs in dictionary,student\n",
    "}\n",
    "for student_infor in student.items():\n",
    "    print(student_infor)\n",
    "\n",
    "# obtaining the key of dictionary,student\n",
    "print('\\nThese are the keys: ')\n",
    "for student_infor in student.keys():\n",
    "    print(student_infor)\n",
    "\n",
    "# obtaining the value pair in dictionary, student\n",
    "for student_infor in student.values():\n",
    "    print('\\nValue pairs:')\n",
    "    print(student_infor)\n"
   ]
  },
  {
   "cell_type": "markdown",
   "metadata": {},
   "source": [
    "4. Get the length of the student dictionary"
   ]
  },
  {
   "cell_type": "code",
   "execution_count": 37,
   "metadata": {},
   "outputs": [
    {
     "name": "stdout",
     "output_type": "stream",
     "text": [
      "The length of student dictionary is  9\n"
     ]
    }
   ],
   "source": [
    "# Length of student dictionary\n",
    "dict_length = len(student)\n",
    "print('The length of student dictionary is ',dict_length)"
   ]
  },
  {
   "cell_type": "markdown",
   "metadata": {},
   "source": [
    "5. Get the value of skills and check the data type, it should be a list"
   ]
  },
  {
   "cell_type": "code",
   "execution_count": 38,
   "metadata": {},
   "outputs": [
    {
     "name": "stdout",
     "output_type": "stream",
     "text": [
      "['java', 'python', 'C++', 'SQL']\n",
      "<class 'list'>\n"
     ]
    }
   ],
   "source": [
    "# Value of skills in student dictionary\n",
    "skill_values = student['skills']\n",
    "print(skill_values)\n",
    "\n",
    "# checking the data type for skills\n",
    "dtype = type(skill_values)\n",
    "print(dtype)"
   ]
  },
  {
   "cell_type": "markdown",
   "metadata": {},
   "source": [
    "6. Modify the skills values by adding one or two skills"
   ]
  },
  {
   "cell_type": "code",
   "execution_count": 39,
   "metadata": {},
   "outputs": [
    {
     "name": "stdout",
     "output_type": "stream",
     "text": [
      "['java', 'python', 'C++', 'SQL', 'R', 'Mathlab']\n"
     ]
    }
   ],
   "source": [
    "# Adding one or two skills from the dictionary\n",
    "skill_values = student['skills']\n",
    "new_lst = ['R','Mathlab']\n",
    "added_list = skill_values.extend(new_lst)\n",
    "print(skill_values)"
   ]
  },
  {
   "cell_type": "markdown",
   "metadata": {},
   "source": [
    "7. Get the dictionary keys as a list"
   ]
  },
  {
   "cell_type": "code",
   "execution_count": 40,
   "metadata": {},
   "outputs": [
    {
     "name": "stdout",
     "output_type": "stream",
     "text": [
      "dict_keys(['first_name', 'last_name', 'gender', 'age', 'marital_status', 'skills', 'country', 'city', 'address'])\n",
      "dict_keys(['first_name', 'last_name', 'gender', 'age', 'marital_status', 'skills', 'country', 'city', 'address'])\n"
     ]
    }
   ],
   "source": [
    "# Dictionary keys as list\n",
    "for student_info in [student.keys()]:\n",
    "    print(student_info)\n",
    "\n",
    "# Alternatively\n",
    "key_list = student.keys()\n",
    "print(key_list)\n"
   ]
  },
  {
   "cell_type": "markdown",
   "metadata": {},
   "source": [
    "8. Get the dictionary values as a list"
   ]
  },
  {
   "cell_type": "code",
   "execution_count": 41,
   "metadata": {},
   "outputs": [
    {
     "name": "stdout",
     "output_type": "stream",
     "text": [
      "dict_values(['Abdul', 'kargbo', 'male', 26, 'single', ['java', 'python', 'C++', 'SQL', 'R', 'Mathlab'], 'sierra leone', 'freetown', '7 brass street'])\n"
     ]
    }
   ],
   "source": [
    "# Dictionary values  as list\n",
    "values_list = student.values()\n",
    "print(values_list)"
   ]
  },
  {
   "cell_type": "markdown",
   "metadata": {},
   "source": [
    "9. Change the dictionary to a list of tuples using items() method"
   ]
  },
  {
   "cell_type": "code",
   "execution_count": 42,
   "metadata": {},
   "outputs": [
    {
     "ename": "TypeError",
     "evalue": "'list' object is not callable",
     "output_type": "error",
     "traceback": [
      "\u001b[1;31m---------------------------------------------------------------------------\u001b[0m",
      "\u001b[1;31mTypeError\u001b[0m                                 Traceback (most recent call last)",
      "Cell \u001b[1;32mIn[42], line 2\u001b[0m\n\u001b[0;32m      1\u001b[0m \u001b[38;5;66;03m# Changing dictionary to list of tuple\u001b[39;00m\n\u001b[1;32m----> 2\u001b[0m \u001b[38;5;28mlist\u001b[39m \u001b[38;5;241m=\u001b[39m \u001b[38;5;28;43mlist\u001b[39;49m\u001b[43m(\u001b[49m\u001b[43mstudent\u001b[49m\u001b[38;5;241;43m.\u001b[39;49m\u001b[43mitems\u001b[49m\u001b[43m(\u001b[49m\u001b[43m)\u001b[49m\u001b[43m)\u001b[49m\n\u001b[0;32m      3\u001b[0m \u001b[38;5;28mprint\u001b[39m(\u001b[38;5;28mlist\u001b[39m)\n",
      "\u001b[1;31mTypeError\u001b[0m: 'list' object is not callable"
     ]
    }
   ],
   "source": [
    "# Changing dictionary to list of tuple\n",
    "list = list(student.items())\n",
    "print(list)"
   ]
  },
  {
   "cell_type": "markdown",
   "metadata": {},
   "source": [
    "10. Delete one of the items in the dictionary"
   ]
  },
  {
   "cell_type": "code",
   "execution_count": null,
   "metadata": {},
   "outputs": [
    {
     "name": "stdout",
     "output_type": "stream",
     "text": [
      "{'last_name': 'kargbo', 'gender': 'male', 'age': 26, 'marital_status': 'single', 'skills': ['java', 'python', 'C++', 'SQL', 'R', 'Mathlab'], 'country': 'sierra leone', 'city': 'freetown', 'address': '7 brass street'}\n"
     ]
    }
   ],
   "source": [
    "# Deleting first name in dictionary,student\n",
    "del student['first_name']\n",
    "print(student)"
   ]
  },
  {
   "cell_type": "markdown",
   "metadata": {},
   "source": [
    "11. Delete one of the dictionaries"
   ]
  },
  {
   "cell_type": "code",
   "execution_count": null,
   "metadata": {},
   "outputs": [],
   "source": [
    "# Delete dog dictionary\n",
    "del dog\n",
    "print(dog)"
   ]
  }
 ],
 "metadata": {
  "kernelspec": {
   "display_name": "AREWADS-TRAINING",
   "language": "python",
   "name": "python3"
  },
  "language_info": {
   "codemirror_mode": {
    "name": "ipython",
    "version": 3
   },
   "file_extension": ".py",
   "mimetype": "text/x-python",
   "name": "python",
   "nbconvert_exporter": "python",
   "pygments_lexer": "ipython3",
   "version": "3.13.0"
  }
 },
 "nbformat": 4,
 "nbformat_minor": 2
}
