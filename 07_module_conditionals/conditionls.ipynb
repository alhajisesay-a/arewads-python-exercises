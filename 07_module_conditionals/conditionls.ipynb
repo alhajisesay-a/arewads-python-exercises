{
 "cells": [
  {
   "cell_type": "markdown",
   "metadata": {},
   "source": [
    "###  Conditionals Exercises"
   ]
  },
  {
   "cell_type": "markdown",
   "metadata": {},
   "source": [
    "#### Exercises: Level 1"
   ]
  },
  {
   "cell_type": "markdown",
   "metadata": {},
   "source": [
    "1. Get user input using input(“Enter your age: ”). If user is 18 or older, give feedback: You are old enough to drive. If below 18 give feedback to wait for the missing amount of years. Output:\n",
    "\n",
    "* Enter your age: 30\n",
    "\n",
    "* You are old enough to learn to drive.\n",
    "Output:\n",
    "\n",
    "* Enter your age: 15\n",
    "  \n",
    "* You need 3 more years to learn to drive."
   ]
  },
  {
   "cell_type": "code",
   "execution_count": 5,
   "metadata": {},
   "outputs": [
    {
     "name": "stdout",
     "output_type": "stream",
     "text": [
      "You need 3 more years to learn to drive\n"
     ]
    }
   ],
   "source": [
    "# Requesting input from user for driving age verification\n",
    "your_age = int(input('Enter your age: ')) # age 15\n",
    "if your_age >= 18:\n",
    "    print('You are old enough to drive')\n",
    "else:\n",
    "    age_differences = 18 -your_age\n",
    "    print(f'You need {age_differences} more years to learn to drive')"
   ]
  },
  {
   "cell_type": "markdown",
   "metadata": {},
   "source": [
    "2. Compare the values of my_age and your_age using if … else. Who is older (me or you)? Use input(“Enter your age: ”) to get the age as input. You can use a nested condition to print 'year' for 1 year difference in age, 'years' for bigger differences, and a custom text if my_age = your_age. Output:\n",
    "\n",
    "* Enter your age: 30\n",
    "* You are 5 years older than me."
   ]
  },
  {
   "cell_type": "code",
   "execution_count": null,
   "metadata": {},
   "outputs": [],
   "source": [
    "# Age comparision with another user\n"
   ]
  },
  {
   "cell_type": "markdown",
   "metadata": {},
   "source": [
    "3. Get two numbers from the user using input prompt. If a is greater than b return a is greater than b, if a is less b return a is smaller than b, else a is equal to b. Output:\n",
    "\n",
    "* Enter number one: 4\n",
    "* Enter number two: 3\n",
    "* 4 is greater than 3"
   ]
  },
  {
   "cell_type": "code",
   "execution_count": 12,
   "metadata": {},
   "outputs": [
    {
     "name": "stdout",
     "output_type": "stream",
     "text": [
      "4 is greater than 3.\n"
     ]
    }
   ],
   "source": [
    "# Requesting two numbers from user\n",
    "a = int(input(\"Enter number one: \"))\n",
    "b = int(input(\"Enter number two: \"))\n",
    "if a > b:\n",
    "    print(f'{a} is greater than {b}.')\n",
    "elif a < b:\n",
    "    print('{a} is smaller than {b}.')\n",
    "else:\n",
    "    print('{a} is equal to {b}.')\n"
   ]
  },
  {
   "cell_type": "markdown",
   "metadata": {},
   "source": [
    "### Exercises: Level 2"
   ]
  },
  {
   "cell_type": "markdown",
   "metadata": {},
   "source": [
    "1. Write a code which gives grade to students according to theirs scores:\n",
    "\n",
    "* 80-100, A\n",
    "* 70-89, B\n",
    "* 60-69, C\n",
    "* 50-59, D\n",
    "* 0-49, F"
   ]
  },
  {
   "cell_type": "code",
   "execution_count": null,
   "metadata": {},
   "outputs": [
    {
     "name": "stdout",
     "output_type": "stream",
     "text": [
      "The student got A\n"
     ]
    }
   ],
   "source": [
    "# Students grades according to scores\n",
    "scores = int(input('Enter your scores: '))\n",
    "if scores >= 80:\n",
    "    print('The student got A') # test intger 81 yield A grade\n",
    "elif scores >=70:\n",
    "    print(\"The student got B\")\n",
    "elif scores >= 60:\n",
    "    print('The student got C')\n",
    "elif scores >= 50:\n",
    "    print('The student got D')\n",
    "else:\n",
    "    print('The student got F')\n"
   ]
  },
  {
   "cell_type": "markdown",
   "metadata": {},
   "source": [
    "2. Check if the season is Autumn, Winter, Spring or Summer. If the user input is: September, October or November, the season is Autumn. December, January or February, the season is Winter. March, April or May, the season is Spring June, July or August, the season is Summer\n",
    "\n"
   ]
  }
 ],
 "metadata": {
  "kernelspec": {
   "display_name": "AREWADS-TRAINING",
   "language": "python",
   "name": "python3"
  },
  "language_info": {
   "codemirror_mode": {
    "name": "ipython",
    "version": 3
   },
   "file_extension": ".py",
   "mimetype": "text/x-python",
   "name": "python",
   "nbconvert_exporter": "python",
   "pygments_lexer": "ipython3",
   "version": "3.13.0"
  }
 },
 "nbformat": 4,
 "nbformat_minor": 2
}
