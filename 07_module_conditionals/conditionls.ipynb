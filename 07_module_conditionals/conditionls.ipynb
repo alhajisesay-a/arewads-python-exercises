{
 "cells": [
  {
   "cell_type": "markdown",
   "metadata": {},
   "source": [
    "###  Conditionals Exercises"
   ]
  },
  {
   "cell_type": "markdown",
   "metadata": {},
   "source": [
    "#### Exercises: Level 1"
   ]
  },
  {
   "cell_type": "markdown",
   "metadata": {},
   "source": [
    "1. Get user input using input(“Enter your age: ”). If user is 18 or older, give feedback: You are old enough to drive. If below 18 give feedback to wait for the missing amount of years. Output:\n",
    "\n",
    "* Enter your age: 30\n",
    "\n",
    "* You are old enough to learn to drive.\n",
    "Output:\n",
    "\n",
    "* Enter your age: 15\n",
    "  \n",
    "* You need 3 more years to learn to drive."
   ]
  },
  {
   "cell_type": "code",
   "execution_count": 5,
   "metadata": {},
   "outputs": [
    {
     "name": "stdout",
     "output_type": "stream",
     "text": [
      "You need 3 more years to learn to drive\n"
     ]
    }
   ],
   "source": [
    "# Requesting input from user for driving age verification\n",
    "your_age = int(input('Enter your age: ')) # age 15\n",
    "if your_age >= 18:\n",
    "    print('You are old enough to drive')\n",
    "else:\n",
    "    age_differences = 18 -your_age\n",
    "    print(f'You need {age_differences} more years to learn to drive')"
   ]
  },
  {
   "cell_type": "markdown",
   "metadata": {},
   "source": [
    "2. Compare the values of my_age and your_age using if … else. Who is older (me or you)? Use input(“Enter your age: ”) to get the age as input. You can use a nested condition to print 'year' for 1 year difference in age, 'years' for bigger differences, and a custom text if my_age = your_age. Output:\n",
    "\n",
    "* Enter your age: 30\n",
    "* You are 5 years older than me."
   ]
  },
  {
   "cell_type": "code",
   "execution_count": null,
   "metadata": {},
   "outputs": [
    {
     "name": "stdout",
     "output_type": "stream",
     "text": [
      "your age is 1year younger than my age\n"
     ]
    }
   ],
   "source": [
    "# Age comparision with another user\n",
    "my_age = 25\n",
    "your_age = int(input('Enter your age: '))\n",
    "\n",
    "# Check if the input age from user is greater than 25 years old\n",
    "if your_age > my_age:\n",
    "    age_difference = your_age - my_age\n",
    "    print(f'The age difference is: {age_difference}')\n",
    "    if age_difference == 1:\n",
    "        print(f'You are {age_difference}year older than my age')\n",
    "    else:\n",
    "        print(f'You are {age_difference}years older than my age.')\n",
    "\n",
    "# Check if the input age is less than 25 years old\n",
    "elif your_age < my_age:\n",
    "    age_difference = my_age - your_age\n",
    "    if age_difference == 1:\n",
    "        print(f'Your age is {age_difference}year younger than my age')\n",
    "    else:\n",
    "        print(f'Your age is {age_difference}years younger than my age')\n",
    "else:\n",
    "    print('my_age = your age')\n",
    "\n"
   ]
  },
  {
   "cell_type": "markdown",
   "metadata": {},
   "source": [
    "3. Get two numbers from the user using input prompt. If a is greater than b return a is greater than b, if a is less b return a is smaller than b, else a is equal to b. Output:\n",
    "\n",
    "* Enter number one: 4\n",
    "* Enter number two: 3\n",
    "* 4 is greater than 3"
   ]
  },
  {
   "cell_type": "code",
   "execution_count": 12,
   "metadata": {},
   "outputs": [
    {
     "name": "stdout",
     "output_type": "stream",
     "text": [
      "4 is greater than 3.\n"
     ]
    }
   ],
   "source": [
    "# Requesting two numbers from user\n",
    "a = int(input(\"Enter number one: \"))\n",
    "b = int(input(\"Enter number two: \"))\n",
    "if a > b:\n",
    "    print(f'{a} is greater than {b}.')\n",
    "elif a < b:\n",
    "    print('{a} is smaller than {b}.')\n",
    "else:\n",
    "    print('{a} is equal to {b}.')\n"
   ]
  },
  {
   "cell_type": "markdown",
   "metadata": {},
   "source": [
    "### Exercises: Level 2"
   ]
  },
  {
   "cell_type": "markdown",
   "metadata": {},
   "source": [
    "1. Write a code which gives grade to students according to theirs scores:\n",
    "\n",
    "* 80-100, A\n",
    "* 70-89, B\n",
    "* 60-69, C\n",
    "* 50-59, D\n",
    "* 0-49, F"
   ]
  },
  {
   "cell_type": "code",
   "execution_count": null,
   "metadata": {},
   "outputs": [
    {
     "name": "stdout",
     "output_type": "stream",
     "text": [
      "The student got A\n"
     ]
    }
   ],
   "source": [
    "# Students grades according to scores\n",
    "scores = int(input('Enter your scores: '))\n",
    "if scores >= 80:\n",
    "    print('The student got A') # test intger 81 yield A grade\n",
    "elif scores >=70:\n",
    "    print(\"The student got B\")\n",
    "elif scores >= 60:\n",
    "    print('The student got C')\n",
    "elif scores >= 50:\n",
    "    print('The student got D')\n",
    "else:\n",
    "    print('The student got F')\n"
   ]
  },
  {
   "cell_type": "markdown",
   "metadata": {},
   "source": [
    "2. Check if the season is Autumn, Winter, Spring or Summer. If the user input is: September, October or November, the season is Autumn. December, January or February, the season is Winter. March, April or May, the season is Spring June, July or August, the season is Summer\n",
    "\n"
   ]
  },
  {
   "cell_type": "code",
   "execution_count": null,
   "metadata": {},
   "outputs": [
    {
     "name": "stdout",
     "output_type": "stream",
     "text": [
      "This is Winter month.\n"
     ]
    }
   ],
   "source": [
    "# Check seasons in various months\n",
    "month = input('Enter any month (eg. january - December): ')\n",
    "# Add title case and remove whitespace\n",
    "title = month.title().strip()\n",
    "if title in ('September','October','November'):\n",
    "    season = 'Autumn'\n",
    "    print(f'This is {season} month.')\n",
    "elif title in ('December','January','February'):\n",
    "    season = 'Winter'\n",
    "    print(f'This is {season} month.')\n",
    "elif title in ('March','April','May'):\n",
    "    season = 'Spring'\n",
    "    print(f'This is {season} month.')\n",
    "else:\n",
    "    season = 'Summer'\n",
    "    print(f'This is {season} month.')"
   ]
  },
  {
   "cell_type": "markdown",
   "metadata": {},
   "source": [
    "3. The following list contains some fruits:\n",
    "\n",
    "```sh\n",
    "fruits = ['banana', 'orange', 'mango', 'lemon']\n",
    "```\n",
    "\n",
    "If a fruit doesn't exist in the list add the fruit to the list and print the modified list. If the fruit exists print('That fruit already exist in the list')\n"
   ]
  },
  {
   "cell_type": "code",
   "execution_count": 20,
   "metadata": {},
   "outputs": [
    {
     "name": "stdout",
     "output_type": "stream",
     "text": [
      "['banana', 'orange', 'mango', 'lemon', 'pineapple']\n"
     ]
    }
   ],
   "source": [
    "# Check if a fruit doesn't exist in fruit, add to list\n",
    "fruits = ['banana','orange','mango','lemon']\n",
    "fruit1 = 'pineapple'\n",
    "if fruit1 not in fruits:\n",
    "# Assuming pineapple not in fruit list\n",
    "    fruits.append(fruit1)\n",
    "    print(fruits)\n",
    "else:\n",
    "    print('Fruit already exist')"
   ]
  },
  {
   "cell_type": "markdown",
   "metadata": {},
   "source": [
    "### Exercises: Level 3"
   ]
  },
  {
   "cell_type": "markdown",
   "metadata": {},
   "source": [
    "1. Here we have a person dictionary. Feel free to modify it!\n",
    "   \n",
    "        person={\n",
    "\n",
    "    'first_name': 'Asabeneh',\n",
    "\n",
    "    'last_name': 'Yetayeh',\n",
    "\n",
    "    'age': 250,\n",
    "\n",
    "    'country': 'Finland',\n",
    "\n",
    "    'is_marred': True,\n",
    "\n",
    "    'skills': ['JavaScript', 'React', 'Node', 'MongoDB', 'Python'],\n",
    "\n",
    "    'address': {\n",
    "\n",
    "        'street': 'Space street',\n",
    "\n",
    "        'zipcode': '02210'\n",
    "\n",
    "    }\n",
    "    \n",
    "    }\n",
    " * Check if the person dictionary has skills key, if so print out the middle skill in the skills list.\n",
    " * Check if the person dictionary has skills key, if so check if the person has 'Python' skill and print out the result.\n",
    " * If a person skills has only JavaScript and React, print('He is a front end developer'), if the person skills has Node, Python, MongoDB, print('He is a backend developer'), if the person skills has React, Node and MongoDB, Print('He is a fullstack developer'), else print('unknown title') - for more accurate results more conditions can be nested!\n",
    " * If the person is married and if he lives in Finland, print the information in the following format:"
   ]
  },
  {
   "cell_type": "code",
   "execution_count": null,
   "metadata": {},
   "outputs": [
    {
     "name": "stdout",
     "output_type": "stream",
     "text": [
      "{'first_name': 'Asabeneh', 'last_name': 'Yetayeh', 'age': 250, 'country': 'Finland', 'is_married': True, 'skills': ['JavaScript', 'React', 'Node', 'MongoDB', 'Python', 'Mathlab'], 'address': {'street': 'Fly street', 'zipcode': '02210'}}\n",
      "Skills list is empty.\n",
      "The person has Python skill.\n",
      "He is a backend developer\n",
      "Asabeneh Yetayeh lives in Finland. He is married .\n"
     ]
    }
   ],
   "source": [
    "person = {\n",
    "    'first_name': 'Asabeneh',\n",
    "    'last_name': 'Yetayeh',\n",
    "    'age': 250,\n",
    "    'country': 'Finland',\n",
    "    'is_married': True,  # Corrected key\n",
    "    'skills': ['JavaScript', 'React', 'Node', 'MongoDB', 'Python'],\n",
    "    'address': {\n",
    "        'street': 'Space street',\n",
    "        'zipcode': '02210'\n",
    "    }\n",
    "}\n",
    "\n",
    "# Adding  Mathlab to the skills list\n",
    "person['skills'].append('Mathlab')\n",
    "\n",
    "# Modifying the street in the address\n",
    "person['address']['street'] = 'Fly street'\n",
    "\n",
    "# Printing the modified person dictionary\n",
    "print(person)\n",
    "\n",
    "# Check if the person dictionary has skills key, if so print out the middle skill in the skills list.\n",
    "if 'skills' in person:\n",
    "    skills_list = person['skills']\n",
    "# length of skill list\n",
    "    if len(skills_list) % 2 != 0:\n",
    "        middle_index = len(skills_list) // 2\n",
    "        print(f\"Middle skill: {skills_list[middle_index]}\")\n",
    "    else:\n",
    "        print(\"Skills list is empty.\")\n",
    "else:\n",
    "        print(\"No skills information in the person dictionary.\")\n",
    "\n",
    "# Check if the person dictionary has skills key, if so check if the person has 'Python' skill.\n",
    "if 'skills' in person:\n",
    "    if 'Python' in person['skills']:\n",
    "        print(\"The person has Python skill.\")\n",
    "    else:\n",
    "        print(\"The person does not have Python skill.\")\n",
    "else:\n",
    "    print(\"No skills information in the person dictionary.\")\n",
    "\n",
    "# Check the person's skills to determine their title\n",
    "if 'skills' in person:\n",
    "    if 'skills' in person:\n",
    "        skills = person['skills']  # Access the skills list\n",
    "        if 'Node' in skills and 'Python' in skills and 'MongoDB' in skills:\n",
    "            print(\"He is a backend developer\")\n",
    "        elif 'React' in skills and 'Node' in skills and 'MongoDB' in skills:\n",
    "            print(\"He is a fullstack developer\")\n",
    "    else:\n",
    "        print(\"Unknown title\")\n",
    "else:\n",
    "    print(\"No skills information in the person dictionary.\")\n",
    "\n",
    "# If the person is married and if he lives in Finland.\n",
    "if person.get('is_married') and person.get('country') == 'Finland':\n",
    "    print(f\"{person['first_name']} {person['last_name']} lives in Finland. He is married .\")\n",
    "else:\n",
    "    print(\"The person is either not married or does not live in Finland.\")"
   ]
  }
 ],
 "metadata": {
  "kernelspec": {
   "display_name": "AREWADS-TRAINING",
   "language": "python",
   "name": "python3"
  },
  "language_info": {
   "codemirror_mode": {
    "name": "ipython",
    "version": 3
   },
   "file_extension": ".py",
   "mimetype": "text/x-python",
   "name": "python",
   "nbconvert_exporter": "python",
   "pygments_lexer": "ipython3",
   "version": "3.13.0"
  }
 },
 "nbformat": 4,
 "nbformat_minor": 2
}
