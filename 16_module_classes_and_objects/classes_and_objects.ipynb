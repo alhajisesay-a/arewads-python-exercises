{
 "cells": [
  {
   "cell_type": "markdown",
   "metadata": {},
   "source": [
    "### Classes Exercises"
   ]
  },
  {
   "cell_type": "markdown",
   "metadata": {},
   "source": [
    "#### Exercises: Level 1"
   ]
  },
  {
   "cell_type": "markdown",
   "metadata": {},
   "source": [
    "1. Python has the module called statistics and we can use this module to do all the statistical calculations. However, to learn how to make function and reuse function let us try to develop a program, which calculates the measure of central tendency of a sample (mean, median, mode) and measure of variability (range, variance, standard deviation). In addition to those measures, find the min, max, count, percentile, and frequency distribution of the sample. You can create a class called Statistics and create all the functions that do statistical calculations as methods for the Statistics class. Check the output below.\n",
    "   \n",
    "* ages = [31, 26, 34, 37, 27, 26, 32, 32, 26, 27, 27, 24, 32, 33, 27, 25, 26, 38, 37, 31, 34, 24, 33, 29, 26]\n",
    "\n",
    "* print('Count:', data.count()) # 25\n",
    "* print('Sum: ', data.sum()) # 744\n",
    "* print('Min: ', data.min()) # 24\n",
    "* print('Max: ', data.max()) # 38\n",
    "* print('Range: ', data.range() # 14\n",
    "* print('Mean: ', data.mean()) # 30\n",
    "* print('Median: ', data.median()) # 29\n",
    "* print('Mode: ', data.mode()) # {'mode': 26, 'count': 5}\n",
    "* print('Standard Deviation: ', data.std()) # 4.2\n",
    "* print('Variance: ', data.var()) # 17.5\n",
    "* print('Frequency Distribution: ', data.freq_dist()) # [(20.0, 26), (16.0, 27), (12.0, 32), (8.0, 37), (8.0, 34), (8.0, 33), (8.0, 31), (8.0, 24), (4.0, 38), (4.0, 29), (4.0, 25)]"
   ]
  },
  {
   "cell_type": "code",
   "execution_count": 24,
   "metadata": {},
   "outputs": [
    {
     "name": "stdout",
     "output_type": "stream",
     "text": [
      "29.76\n",
      "12\n",
      "26\n",
      "17.5424\n",
      "4.188364836066696\n",
      "25\n",
      "744\n",
      "24\n",
      "38\n",
      "14\n",
      "{31: 2, 26: 5, 34: 2, 37: 2, 27: 4, 32: 3, 24: 2, 33: 2, 25: 1, 38: 1, 29: 1}\n"
     ]
    }
   ],
   "source": [
    "# Statistics calculator\n",
    "class StatisticsCalculator:\n",
    "    '''Attempt to model central tendency and measure of variability'''\n",
    "    def __init__(self,ages):   # init constructor\n",
    "        self.ages = ages         # data is the attribute common to all\n",
    "    def mean(self):\n",
    "        '''Attempt to calculate the mean value'''\n",
    "        total = sum(self.ages)    # obtain the sum of all the numbers present in a list of numbers\n",
    "        length = len(self.ages)    # obtain the length of numbers\n",
    "        mean_value = total/length\n",
    "        return mean_value\n",
    "    \n",
    "    def median(self):\n",
    "        '''Attempt to calculate the median of a given list of numbers'''\n",
    "        sorted_data = sorted(self.ages)\n",
    "        length = len(sorted_data)\n",
    "        if length % 2 == 1:    # when the length of number is odd, median becomes the middle number\n",
    "            median = length//2\n",
    "            return median\n",
    "        else:                      # when the length of numbers is even the else block comes to play\n",
    "            med1 = length//2 -1\n",
    "            med2 = length//2\n",
    "            median = (med1 + med2)/2\n",
    "            return median\n",
    "        \n",
    "    def mode(self):\n",
    "        '''Attempt to calculate the most frequent number(s) from a list of numbers'''\n",
    "        frequency = {} # create empty dictionary to store the most frequent numbers\n",
    "        for number in self.ages:       # loope through the list of data\n",
    "            if number in frequency:     \n",
    "                frequency[number] += 1  # if number already exist in dictionary\n",
    "            else:\n",
    "                frequency[number] = 1     # if no number exist in the dictionary\n",
    "        max_value = max(frequency.values())  # obtain the maximum number \n",
    "        mode = [key for key,value in frequency.items() if value == max_value]  # apply list compresion to dict\n",
    "        if len(mode) == 1:\n",
    "            return mode[0]\n",
    "        else:\n",
    "            return mode\n",
    "    \n",
    "    def variance(self):\n",
    "        '''attempt to calculate the variance of a given data'''\n",
    "        mean_value = self.mean()\n",
    "        variance_value = sum((x - mean_value) ** 2 for x in self.ages) / len(self.ages)\n",
    "        return variance_value\n",
    "        \n",
    "    def standard_deviation(self):\n",
    "        '''Calculate the standard deviation'''\n",
    "        standard_deviation = (self.variance())**0.5\n",
    "        return standard_deviation\n",
    "    \n",
    "    def count(self):\n",
    "        '''Obtaining the length of data'''\n",
    "        length = len(self.ages)\n",
    "        return length\n",
    "    \n",
    "    def sum_of_data(self):\n",
    "        '''Obtaining the total number of data'''\n",
    "        total = sum(self.ages)\n",
    "        return total\n",
    "    \n",
    "    def min_value(self):\n",
    "        '''Obtain the minimum value of data '''\n",
    "        minimum_value = min(self.ages)\n",
    "        return minimum_value\n",
    "    \n",
    "    def max_value(self):\n",
    "        '''Obtaining the maximum '''\n",
    "        maximum_value = max(self.ages)  \n",
    "        return maximum_value\n",
    "    \n",
    "    def range_of_values(self):\n",
    "        '''Obtain the range of numbers'''\n",
    "        range_of_values = (self.max_value() - self.min_value()) # call the both max and min functions\n",
    "        return range_of_values\n",
    "    \n",
    "    def frequency_distribution(self):\n",
    "        '''obtaining the number of times a particular number appears'''\n",
    "        frequency = {} # create an empty dictionary\n",
    "        for number in self.ages:\n",
    "            frequency[number] = frequency.get(number,0) + 1   \n",
    "        return frequency\n",
    "    \n",
    "ages = [31, 26, 34, 37, 27, 26, 32, 32, 26, 27, 27, 24, 32, 33, 27, 25, 26, 38, 37, 31, 34, 24, 33, 29, 26]\n",
    "my_math = StatisticsCalculator(ages)\n",
    "print(my_math.mean())\n",
    "print(my_math.median())\n",
    "print(my_math.mode())\n",
    "print(my_math.variance())\n",
    "print(my_math.standard_deviation())\n",
    "print(my_math.count())\n",
    "print(my_math.sum_of_data())\n",
    "print(my_math.min_value())\n",
    "print(my_math.max_value())\n",
    "print(my_math.range_of_values())\n",
    "print(my_math.frequency_distribution())"
   ]
  },
  {
   "cell_type": "markdown",
   "metadata": {},
   "source": [
    "### Exercises: Level 2"
   ]
  },
  {
   "cell_type": "markdown",
   "metadata": {},
   "source": [
    "1. Create a class called PersonAccount. It has firstname, lastname, incomes, expenses properties and it has total_income, total_expense, account_info, add_income, add_expense and account_balance methods. Incomes is a set of incomes and its description. The same goes for expenses."
   ]
  },
  {
   "cell_type": "code",
   "execution_count": 35,
   "metadata": {},
   "outputs": [
    {
     "name": "stdout",
     "output_type": "stream",
     "text": [
      "The account owner John Kargbo receives 500$ income and spends $200.\n",
      "Account Balance: $300\n",
      "Added income: $300. Total income is now $800.\n",
      "Added expense: $150. Total expenses are now $350.\n",
      "The account owner John Kargbo receives 800$ income and spends $350.\n",
      "Updated Account Balance: $450\n"
     ]
    }
   ],
   "source": [
    "class PersonalAccount:\n",
    "    '''An attempt to model customers' information'''\n",
    "    def __init__(self, firstname, lastname, incomes=0, expenses=0):\n",
    "        self.firstname = firstname\n",
    "        self.lastname = lastname\n",
    "        self.incomes = incomes  # Total income amount\n",
    "        self.expenses = expenses  # Total expense amount\n",
    "\n",
    "    def add_income(self, amount):\n",
    "        '''Add income to the account'''\n",
    "        self.incomes += amount\n",
    "        print(f\"Added income: ${amount}. Total income is now ${self.incomes}.\")\n",
    "\n",
    "    def add_expense(self, amount):\n",
    "        '''Add expense to the account'''\n",
    "        self.expenses += amount\n",
    "        print(f\"Added expense: ${amount}. Total expenses are now ${self.expenses}.\")\n",
    "\n",
    "    def account_info(self):\n",
    "        '''Display formatted account owner information'''\n",
    "        return f\"The account owner {self.firstname} {self.lastname} receives {self.incomes}$ income and spends ${self.expenses}.\"\n",
    "\n",
    "    def total_income(self):\n",
    "        '''Determine the income received by the account owner'''\n",
    "        return f\"The account owner {self.firstname} {self.lastname} receives a total monthly income of ${self.incomes}.\"\n",
    "\n",
    "    def total_expense(self):\n",
    "        '''Model the amount of money spent'''\n",
    "        return f\"${self.expenses} is being spent every month on food, clothing, and other needs.\"\n",
    "\n",
    "    def account_balance(self):\n",
    "        '''Obtain the owner's account balance'''\n",
    "        balance = self.incomes - self.expenses\n",
    "        return balance\n",
    "\n",
    "# create instance\n",
    "my_account = PersonalAccount('John', 'Kargbo', incomes=500, expenses=200)\n",
    "\n",
    "# Accessing Initial Info\n",
    "print(my_account.account_info())\n",
    "print(f\"Account Balance: ${my_account.account_balance()}\")\n",
    "\n",
    "# Adding Income\n",
    "my_account.add_income(300)  # Adding additional income\n",
    "\n",
    "# Adding Expense\n",
    "my_account.add_expense(150)  # Adding additional expense\n",
    "\n",
    "# Accessing Updated Info\n",
    "print(my_account.account_info())\n",
    "print(f\"Updated Account Balance: ${my_account.account_balance()}\")\n"
   ]
  }
 ],
 "metadata": {
  "kernelspec": {
   "display_name": "AREWADS-TRAINING",
   "language": "python",
   "name": "python3"
  },
  "language_info": {
   "codemirror_mode": {
    "name": "ipython",
    "version": 3
   },
   "file_extension": ".py",
   "mimetype": "text/x-python",
   "name": "python",
   "nbconvert_exporter": "python",
   "pygments_lexer": "ipython3",
   "version": "3.13.0"
  }
 },
 "nbformat": 4,
 "nbformat_minor": 2
}
