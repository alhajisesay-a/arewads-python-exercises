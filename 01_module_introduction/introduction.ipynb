{
 "cells": [
  {
   "cell_type": "markdown",
   "metadata": {},
   "source": [
    "### Exercises - Module 1"
   ]
  },
  {
   "cell_type": "markdown",
   "metadata": {},
   "source": [
    "1. Check the python version you are using."
   ]
  },
  {
   "cell_type": "code",
   "execution_count": null,
   "metadata": {},
   "outputs": [
    {
     "name": "stdout",
     "output_type": "stream",
     "text": [
      "Python 3.13.0\n"
     ]
    }
   ],
   "source": [
    "# 1. Check the python version you are using.\n",
    "!python --version\n",
    "\n"
   ]
  },
  {
   "cell_type": "markdown",
   "metadata": {},
   "source": [
    "2. Open the python interactive shell and do the following operations. The operands are 3 and 4.\n",
    "* addition(+)\n",
    "* subtraction(-)\n",
    "* multiplication(*)\n",
    "* modulus(%)\n",
    "* division(/)\n",
    "* exponential(**)\n",
    "* floor division operator(//)"
   ]
  },
  {
   "cell_type": "code",
   "execution_count": null,
   "metadata": {},
   "outputs": [
    {
     "name": "stdout",
     "output_type": "stream",
     "text": [
      "3 + 4 = 7\n",
      "3 - 4 = -1\n",
      "3 * 4 = 12\n",
      "3 % 4 = 3\n",
      "3 / 4 = 0.75\n",
      "3**4 = 81\n",
      "3 // 4 = 0\n"
     ]
    }
   ],
   "source": [
    "# 2. Open the python interactive shell and do the following operations. The operands are 3 and 4.\n",
    "a = 3 # let a = 3\n",
    "b = 4 # b = 4\n",
    "# Applying f-string formulae\n",
    "print(f'{a} + {b} = {a + b}') # addition (+)\n",
    "print(f'{a} - {b} = {a -b}' ) # Substraction(-)\n",
    "print(f'{a} * {b} = {a * b}') # multiplication(*)\n",
    "print(f'{a} % {b} = {a % b}') # modulus(%)\n",
    "print(f'{a} / {b} = {a / b}') # division(/)\n",
    "print(f'{a}**{b} = {a**b}') # exponential(**)\n",
    "print(f'{a} // {b} = {a // b}') # floor division(//)\n",
    "\n"
   ]
  },
  {
   "cell_type": "markdown",
   "metadata": {},
   "source": [
    "3. Write strings on the python interactive shell. The strings are the following:\n",
    "* Your name\n",
    "* Your family name\n",
    "* Your country\n",
    "* I am enjoying 30 days of python"
   ]
  },
  {
   "cell_type": "code",
   "execution_count": null,
   "metadata": {},
   "outputs": [
    {
     "name": "stdout",
     "output_type": "stream",
     "text": [
      "Your name\n",
      "Your family name\n",
      "Your country\n",
      "I am enjoying 30 days of python\n"
     ]
    }
   ],
   "source": [
    "# 3. Write strings on the python interactive shell. The strings are the following:\n",
    "# Your name\n",
    "# Your family name\n",
    "# Your country\n",
    "#I am enjoying 30 days of python\n",
    "\n",
    "print('Your name') \n",
    "print('Your family name')\n",
    "print('Your country')\n",
    "print('I am enjoying 30 days of python')"
   ]
  },
  {
   "cell_type": "markdown",
   "metadata": {},
   "source": [
    " 4. Check the data types of the following data:\n",
    "* 10\n",
    "* 9.8\n",
    "* 3.14\n",
    "* 4 - 4j\n",
    "* ['Asabeneh', 'Python', 'Finland']\n",
    "* Your name\n",
    "* Your family name\n",
    "* Your country"
   ]
  },
  {
   "cell_type": "code",
   "execution_count": null,
   "metadata": {},
   "outputs": [
    {
     "name": "stdout",
     "output_type": "stream",
     "text": [
      "<class 'int'>\n",
      "<class 'float'>\n",
      "<class 'float'>\n",
      "<class 'complex'>\n",
      "<class 'list'>\n",
      "<class 'str'>\n",
      "<class 'str'>\n",
      "<class 'str'>\n"
     ]
    }
   ],
   "source": [
    "# 4. Check the data types of the following data:\n",
    "print(type(10))  # 10\n",
    "print(type(9.8))\n",
    "print(type(3.14))\n",
    "print(type(4 -4j))\n",
    "print(type(['Asabeneh', 'Python', 'Finland']))\n",
    "print(type('your name'))\n",
    "print(type('your family'))\n",
    "print(type('your country'))"
   ]
  },
  {
   "cell_type": "markdown",
   "metadata": {},
   "source": [
    "### Exercise: Level 3"
   ]
  },
  {
   "cell_type": "markdown",
   "metadata": {},
   "source": [
    " 1. Write an example for different Python data types such as Number(Integer, Float, Complex), String, Boolean, List, Tuple, Set and Dictionary."
   ]
  },
  {
   "cell_type": "code",
   "execution_count": 24,
   "metadata": {},
   "outputs": [
    {
     "name": "stdout",
     "output_type": "stream",
     "text": [
      "<class 'int'>\n",
      "<class 'float'>\n",
      "<class 'complex'>\n",
      "<class 'str'>\n",
      "<class 'bool'>\n",
      "<class 'list'>\n",
      "<class 'tuple'>\n",
      "<class 'set'>\n",
      "<class 'dict'>\n"
     ]
    }
   ],
   "source": [
    "# 1. Write an example for different Python data types such as Number(Integer, Float, Complex), String, Boolean, List, Tuple, Set and Dictionary.\n",
    "num1 = 10 # int\n",
    "num2 = float(10) # float\n",
    "num3 = (4 -1j) # complex number\n",
    "num4 = ('10')  # string\n",
    "num5 = True # boolean\n",
    "num6 = ['abu', 'john', 'osman'] # list\n",
    "num7 = ('john', 10 , '10', 'mango') # tuple\n",
    "num8 = {1,2,3,4} # set\n",
    "num9 = {'A' : 'kadie', 'message' : 'hellow'} # dict\n",
    "# checkin for each data type above\n",
    "print(type(num1))\n",
    "print(type(num2))\n",
    "print(type(num3))\n",
    "print(type(num4))\n",
    "print(type(num5))\n",
    "print(type(num6))\n",
    "print(type(num7))\n",
    "print(type(num8))\n",
    "print(type(num9))\n",
    "\n"
   ]
  },
  {
   "cell_type": "markdown",
   "metadata": {},
   "source": [
    "2. Find an Euclidian distance between (2, 3) and (10, 8)"
   ]
  },
  {
   "cell_type": "code",
   "execution_count": null,
   "metadata": {},
   "outputs": [
    {
     "name": "stdout",
     "output_type": "stream",
     "text": [
      "89\n"
     ]
    }
   ],
   "source": [
    "# Assigning variables to (2,3) and (10,8)\n",
    "x1 = 2\n",
    "y1 = 3\n",
    "x2 =10\n",
    "y2 = 8\n",
    "Euclidian_distance = (x2 -x1)**2 + (y2 -y1)**2\n",
    "print(Euclidian_distance)"
   ]
  }
 ],
 "metadata": {
  "kernelspec": {
   "display_name": "AREWADS-TRAINING",
   "language": "python",
   "name": "python3"
  },
  "language_info": {
   "codemirror_mode": {
    "name": "ipython",
    "version": 3
   },
   "file_extension": ".py",
   "mimetype": "text/x-python",
   "name": "python",
   "nbconvert_exporter": "python",
   "pygments_lexer": "ipython3",
   "version": "3.13.0"
  }
 },
 "nbformat": 4,
 "nbformat_minor": 2
}
