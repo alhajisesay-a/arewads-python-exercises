{
 "cells": [
  {
   "cell_type": "markdown",
   "metadata": {},
   "source": [
    "### Exercises - Module 3"
   ]
  },
  {
   "cell_type": "code",
   "execution_count": 1,
   "metadata": {},
   "outputs": [
    {
     "name": "stdout",
     "output_type": "stream",
     "text": [
      "20\n"
     ]
    }
   ],
   "source": [
    "# 1. Declearing age as integer variable\n",
    "age = int('20') # taken 20 as a string variable\n",
    "print(age)"
   ]
  },
  {
   "cell_type": "code",
   "execution_count": 2,
   "metadata": {},
   "outputs": [
    {
     "name": "stdout",
     "output_type": "stream",
     "text": [
      "6.0\n"
     ]
    }
   ],
   "source": [
    "# 2. Declearing height as float variable data type\n",
    "height = float(6)\n",
    "print(height)"
   ]
  },
  {
   "cell_type": "code",
   "execution_count": 3,
   "metadata": {},
   "outputs": [
    {
     "name": "stdout",
     "output_type": "stream",
     "text": [
      "(2-5j)\n"
     ]
    }
   ],
   "source": [
    "# 3. Declearing variable that store complex number\n",
    "complex_num = (2 -5J)\n",
    "print(complex_num)"
   ]
  },
  {
   "cell_type": "code",
   "execution_count": 4,
   "metadata": {},
   "outputs": [
    {
     "name": "stdout",
     "output_type": "stream",
     "text": [
      "Area of triangle is:  30.0\n"
     ]
    }
   ],
   "source": [
    "# 4. Write a script that prompts the user to enter base and height of the triangle to calculate area\n",
    "base = int(input('Enter the base value of triangle: '))\n",
    "height = int(input('Enter the height value of triangle: '))\n",
    "area_of_triangle = 0.5 * base * height \n",
    "print('Area of triangle is: ', area_of_triangle)"
   ]
  },
  {
   "cell_type": "code",
   "execution_count": 5,
   "metadata": {},
   "outputs": [
    {
     "name": "stdout",
     "output_type": "stream",
     "text": [
      "The perimeter of the triangle is = 10\n"
     ]
    }
   ],
   "source": [
    "# 5. Write a script that prompts the user to enter side a, side b, and side c of a triangle. \n",
    "# Determine the perimeter of the triangle (perimeter = a + b +c)\n",
    "side_a = int(input('Enter value for side_a '))\n",
    "side_b = int(input('Enter value for side_b '))\n",
    "side_c = int(input('Enter value for side_c '))\n",
    "perimeter_of_triangle = side_a + side_b + side_c\n",
    "print('The perimeter of the triangle is =', perimeter_of_triangle)"
   ]
  },
  {
   "cell_type": "code",
   "execution_count": 6,
   "metadata": {},
   "outputs": [
    {
     "name": "stdout",
     "output_type": "stream",
     "text": [
      "The area of rectangle is =  32\n"
     ]
    }
   ],
   "source": [
    "# 6. Length and width of a rectangle using prompts to calculate it area and perimeter\n",
    "# Area = length x width, perimeter = 2(length + width)\n",
    "length = int(input('Enter the length of recangle: '))\n",
    "width = int(input('Enter the width of recangle: ')) \n",
    "area_of_recangle = length * width\n",
    "print('The area of rectangle is = ', area_of_recangle)"
   ]
  },
  {
   "cell_type": "code",
   "execution_count": 7,
   "metadata": {},
   "outputs": [
    {
     "name": "stdout",
     "output_type": "stream",
     "text": [
      "The area of a circle =  113.112\n",
      "The curcumfrance of a circle = 37.704\n"
     ]
    }
   ],
   "source": [
    "# 7. Using prompts to get radius of a cycle to calculate area and perimeter \n",
    "circle_radius = int(input('Enter the radius of circle '))\n",
    "pi = 3.142\n",
    "area_of_circle = pi * circle_radius**2\n",
    "print('The area of a circle = ', area_of_circle)\n",
    "circumfrance = 2 * pi * circle_radius\n",
    "print(\"The curcumfrance of a circle =\", circumfrance)"
   ]
  },
  {
   "cell_type": "code",
   "execution_count": null,
   "metadata": {},
   "outputs": [
    {
     "name": "stdout",
     "output_type": "stream",
     "text": [
      "The slope,M =  2\n",
      "Y-intercept = -2\n",
      "X-intercept = -1.0\n"
     ]
    }
   ],
   "source": [
    "# 8. Calculate the slope, x-intercept and y-intercept of y = 2x - 2\n",
    "# from the given equation, y=2x - 2\n",
    "slope_M = 2\n",
    "# y-intercept occurs at x=0\n",
    "y_intercept = -2\n",
    "# x-intercept at y=0\n",
    "x_intercept = y_intercept/slope_M\n",
    "print('The slope,M = ', slope_M)\n",
    "print('Y-intercept =', y_intercept)\n",
    "print('X-intercept =', x_intercept)\n"
   ]
  },
  {
   "cell_type": "code",
   "execution_count": 4,
   "metadata": {},
   "outputs": [
    {
     "name": "stdout",
     "output_type": "stream",
     "text": [
      "The slope base on the parameters is =  2.0\n",
      "Eucildean distance =  8.94427190999916\n"
     ]
    }
   ],
   "source": [
    "# 9. The slope and eucildean distance between point (2,2) and point (6,10)\n",
    "# Given the slope,m = (y2 - y1)/(x2 - x1)\n",
    "x1 = 2\n",
    "y1 = 2\n",
    "x2 = 6\n",
    "y2 = 10\n",
    "slope_m = (y2 - y1)/(x2 - x1)   \n",
    "print('The slope base on the parameters is = ', slope_m)\n",
    "# formular for Eucildean distance is express as D**2 = (x2 - x1)**2 + (y2 - y1)**2\n",
    "import math\n",
    "Eucildean_diatance = math.sqrt((x2 - x1)**2 + (y2 - y1)**2)\n",
    "print('Eucildean distance = ', Eucildean_diatance)"
   ]
  },
  {
   "cell_type": "code",
   "execution_count": 6,
   "metadata": {},
   "outputs": [
    {
     "name": "stdout",
     "output_type": "stream",
     "text": [
      "slope1 and slope2 are equal\n"
     ]
    }
   ],
   "source": [
    "# 10. Compare the slopes in tasks 8 and 9\n",
    "slope1 = 2\n",
    "slope2 = 2\n",
    "if slope1 == slope2:\n",
    "    print('slope1 and slope2 are equal')\n",
    "elif slope1 > slope2:\n",
    "    print('slope1 is greatest')\n",
    "elif slope1 < slope2:\n",
    "    print('slope2 is greater')\n",
    "else:\n",
    "    print('All the statements are wrong')\n"
   ]
  },
  {
   "cell_type": "code",
   "execution_count": 44,
   "metadata": {},
   "outputs": [
    {
     "name": "stdout",
     "output_type": "stream",
     "text": [
      "y = 4 at x = -5\n",
      "y = 1 at x = -4\n",
      "y = 0 at x = -3\n",
      "y = 1 at x = -2\n",
      "y = 4 at x = -1\n",
      "y = 9 at x = 0\n",
      "y = 16 at x = 1\n",
      "y = 25 at x = 2\n",
      "y = 36 at x = 3\n",
      "y = 49 at x = 4\n"
     ]
    }
   ],
   "source": [
    "# 11. Calculate the value of y (y = x^2 + 6x + 9). Try to use different x values and figure out at what x value y is going to be 0\n",
    "for x in range(-5, 5):  #  we first obtain the range of numbers\n",
    "    y = x**2 + 6*x + 9\n",
    "    print(f\"y = {y} at x = {x}\")"
   ]
  },
  {
   "cell_type": "code",
   "execution_count": 10,
   "metadata": {},
   "outputs": [
    {
     "name": "stdout",
     "output_type": "stream",
     "text": [
      "The length of dragon is  6\n",
      "The length of python is  6\n",
      "All the statements are false\n"
     ]
    }
   ],
   "source": [
    "# 12. Find the length of 'python' and 'dragon' and make a falsy comparison statement.\n",
    "len_of_dragon = len('dragon')\n",
    "len_of_python = len('python')\n",
    "print('The length of dragon is ', len_of_dragon)\n",
    "print('The length of python is ', len_of_python)\n",
    "# Now make a falsy comparison statement\n",
    "if len_of_dragon < len_of_python:\n",
    "    print('I dislike dragon',)\n",
    "elif len_of_dragon > len_of_python: \n",
    "    print('I dislike python')\n",
    "else:\n",
    "    print('All the statements are false')    "
   ]
  },
  {
   "cell_type": "code",
   "execution_count": 16,
   "metadata": {},
   "outputs": [
    {
     "name": "stdout",
     "output_type": "stream",
     "text": [
      "Can be find in both\n"
     ]
    }
   ],
   "source": [
    "# 13. Using and operator to check if 'on' is found in both 'python' and 'dragon'\n",
    "if 'on' in 'python' and 'dragon':\n",
    "    print('Can be find in both')"
   ]
  },
  {
   "cell_type": "code",
   "execution_count": 49,
   "metadata": {},
   "outputs": [
    {
     "name": "stdout",
     "output_type": "stream",
     "text": [
      "jargon is in the sentence\n"
     ]
    }
   ],
   "source": [
    "# 14. I hope this course is not full of jargon. Use in operator to check if jargon is in the sentence\n",
    "if 'jargon' in 'I hope this course is not full of jargon':\n",
    "    print('jargon is in the sentence')\n",
    "else:\n",
    "    print('jargon not in the sentence')"
   ]
  },
  {
   "cell_type": "code",
   "execution_count": 50,
   "metadata": {},
   "outputs": [
    {
     "name": "stdout",
     "output_type": "stream",
     "text": [
      "true\n"
     ]
    }
   ],
   "source": [
    "# 15. There is no 'on' in both dragon and python.\n",
    "if 'on' in 'dragon and python':\n",
    "    print('true')\n",
    "else:\n",
    "    print(\"false\")\n"
   ]
  },
  {
   "cell_type": "code",
   "execution_count": null,
   "metadata": {},
   "outputs": [
    {
     "name": "stdout",
     "output_type": "stream",
     "text": [
      "6\n",
      "6.0\n",
      "6\n"
     ]
    }
   ],
   "source": [
    "# 16. Find the length of the text python and convert the value to float and convert it to string\n",
    "print(len('python')) # length of python is 6\n",
    "print(float(len('python'))) # The float of length of python is 6.0\n",
    "print(str(len('python'))) # The converted length to string"
   ]
  },
  {
   "cell_type": "code",
   "execution_count": 65,
   "metadata": {},
   "outputs": [
    {
     "name": "stdout",
     "output_type": "stream",
     "text": [
      "odd number\n"
     ]
    }
   ],
   "source": [
    "# 17. Even numbers are divisible by 2 and the remainder is zero. How do you check if a number is even or not using python?\n",
    "num = float(input('Enter a number'))\n",
    "if 'num/2' == 0:\n",
    "    print('The number is even')\n",
    "else:\n",
    "    print('odd number')\n"
   ]
  },
  {
   "cell_type": "code",
   "execution_count": 81,
   "metadata": {},
   "outputs": [
    {
     "name": "stdout",
     "output_type": "stream",
     "text": [
      "One is greater than the other\n"
     ]
    }
   ],
   "source": [
    "# 18. Check if the floor division of 7 by 3 is equal to the int converted value of 2.7.\n",
    "floor_div = 7 // 3\n",
    "if 'floor_div' == int(2.33):\n",
    "    print('Both equal')\n",
    "else:\n",
    "    print('One is greater than the other')\n"
   ]
  },
  {
   "cell_type": "code",
   "execution_count": 86,
   "metadata": {},
   "outputs": [
    {
     "name": "stdout",
     "output_type": "stream",
     "text": [
      "Both are different\n"
     ]
    }
   ],
   "source": [
    "# 19. Check if type of '10' is equal to type of 10\n",
    "a = type('10') # Assign a variable to each value for simplicity\n",
    "b = type(10) \n",
    "if a == b:\n",
    "    print('Both equal')\n",
    "else:\n",
    "    print('Both are different')\n"
   ]
  },
  {
   "cell_type": "code",
   "execution_count": 95,
   "metadata": {},
   "outputs": [
    {
     "name": "stdout",
     "output_type": "stream",
     "text": [
      "False\n"
     ]
    }
   ],
   "source": [
    "# 20. Check if int('9.8') is equal to 10\n",
    "print(int(9.8) == 10)\n"
   ]
  },
  {
   "cell_type": "code",
   "execution_count": 97,
   "metadata": {},
   "outputs": [
    {
     "name": "stdout",
     "output_type": "stream",
     "text": [
      "Your weekly earning is  1120\n"
     ]
    }
   ],
   "source": [
    "# 21. Writ a script that prompts the user to enter hours and rate per hour. Calculate pay of the person?\n",
    "work_hours = int(input('Enter hours of work' ))\n",
    "rate_per_hours = int(input('Enter rate per hours hours of work '))\n",
    "weekly_earning = work_hours * rate_per_hours\n",
    "print('Your weekly earning is ', weekly_earning)"
   ]
  },
  {
   "cell_type": "code",
   "execution_count": 115,
   "metadata": {},
   "outputs": [
    {
     "name": "stdout",
     "output_type": "stream",
     "text": [
      "Yoy have lived for  3153600000 seconds\n"
     ]
    }
   ],
   "source": [
    "# 22. Write a script that prompts the user to enter number of years. Calculate the number of seconds a person can live. Assume a person can live hundred years\n",
    "years = int(input(f'Enter number of years you have lived'))\n",
    "years_in_seconds = years * 60 * 60 * 24 * 365\n",
    "print(f'Yoy have lived for ', years_in_seconds, 'seconds') # Assuming 100years of age"
   ]
  },
  {
   "cell_type": "code",
   "execution_count": null,
   "metadata": {},
   "outputs": [
    {
     "name": "stdout",
     "output_type": "stream",
     "text": [
      "1 1 1 1 1\n",
      "2 1 2 4 8\n",
      "3 1 3 9 27\n",
      "4 1 4 16 64\n",
      "5 1 5 25 125\n"
     ]
    }
   ],
   "source": [
    "# 23. Write a Python script that displays the following table \n",
    "# 1 1 1 1 1\n",
    "# 2 1 2 4 8\n",
    "# 3 1 3 9 27\n",
    "# 4 1 4 16 64\n",
    "# 5 1 5 25 125\n",
    "for i in range(1,6):\n",
    "    print(i , int(i/i), i, i**2, i**3)\n",
    "\n"
   ]
  }
 ],
 "metadata": {
  "kernelspec": {
   "display_name": "AREWADS-TRAINING",
   "language": "python",
   "name": "python3"
  },
  "language_info": {
   "codemirror_mode": {
    "name": "ipython",
    "version": 3
   },
   "file_extension": ".py",
   "mimetype": "text/x-python",
   "name": "python",
   "nbconvert_exporter": "python",
   "pygments_lexer": "ipython3",
   "version": "3.13.0"
  }
 },
 "nbformat": 4,
 "nbformat_minor": 2
}
