{
 "cells": [
  {
   "cell_type": "markdown",
   "metadata": {},
   "source": [
    "### Higher Order Functions Exercises"
   ]
  },
  {
   "cell_type": "code",
   "execution_count": null,
   "metadata": {},
   "outputs": [],
   "source": [
    "countries = ['Estonia', 'Finland', 'Sweden', 'Denmark', 'Norway', 'Iceland']\n",
    "names = ['Asabeneh', 'Lidiya', 'Ermias', 'Abraham']\n",
    "numbers = [1, 2, 3, 4, 5, 6, 7, 8, 9, 10]"
   ]
  },
  {
   "cell_type": "markdown",
   "metadata": {},
   "source": [
    "#### Exercises: Level 1"
   ]
  },
  {
   "cell_type": "markdown",
   "metadata": {},
   "source": [
    "### 1. Explain the difference between map, filter, and reduce."
   ]
  },
  {
   "cell_type": "markdown",
   "metadata": {},
   "source": [
    "Map, Filter and Reduce are operations in python that allows one to write simpler and shorter codes without having to worry about looping and branching.\n",
    "\n",
    "map() - It's a built in function that takes a function and iterable as parameter. \n",
    "The map() syntax is as follows: map(function, iterable)\n",
    "\n",
    "The first argument passed to the map function is itself a function, and the second argument passed is an iterable (sequence of elements) such as a list, tuple, set, string, \n",
    "\n",
    "\n",
    "filter() - The filter() function in Python filters elements from an iterable based on a given condition and returns a new iterable with the filtered elements.\n",
    "\n",
    "The syntax for the filter() is as follows: filter(function, iterable)\n",
    "\n",
    "Here also, the first argument passed to the filter function is itself a function, and the second argument passed is an iterable (sequence of elements) such as a list, tuple, set, string.\n",
    "\n",
    "\n",
    " reduce() - In Python, reduce() is a built-in function that applies a given function to the elements of an iterable, reducing them to a single value.\n",
    "\n",
    "The syntax for reduce() is as follows: reduce(function, iterable[, initializer])\n",
    "\n",
    "The function takes two arguments and returns a single value. The first argument is the function itself, and the second argument is the current value from the iterable."
   ]
  },
  {
   "cell_type": "markdown",
   "metadata": {},
   "source": [
    "### 2. Explain the difference between higher order function, closure and decorator"
   ]
  },
  {
   "cell_type": "markdown",
   "metadata": {},
   "source": [
    "Higher order function refers to a first class citizen that allows you to take one or more functions as parameters\n",
    " \n",
    "A decorator is a higher-order function that takes another function as an argument, adds some functionality to it, and returns a new function without modifying the original function’s source code. Decorators allow you to modify the behavior of functions or classes by wrapping them inside another function.\n",
    "\n",
    "Closures: A closure is a function object that remembers values in the enclosing scope, even if they are not present in memory. "
   ]
  },
  {
   "cell_type": "markdown",
   "metadata": {},
   "source": [
    "3. Define a call function before map, filter or reduce, see examples."
   ]
  },
  {
   "cell_type": "code",
   "execution_count": 25,
   "metadata": {},
   "outputs": [
    {
     "name": "stdout",
     "output_type": "stream",
     "text": [
      "\n",
      "Using map built in function\n",
      "[1, 9, 25, 36, 81]\n",
      "\n",
      "Using filter function\n",
      "[1, 3, 5]\n"
     ]
    }
   ],
   "source": [
    "# define functions that make use of map, filter and reduce function\n",
    "m = [1,3,5,6,9]\n",
    "def square(m):\n",
    "    return m**2\n",
    "square_value = map(square, m)           # we can also replace square function with a lambda function\n",
    "print('\\nUsing map built in function')            \n",
    "print(list(square_value))\n",
    "\n",
    "# Using filter function\n",
    "y = [1,3,5,6,9]\n",
    "def cube(y):\n",
    "    if y <= 5:\n",
    "        return True\n",
    "    else:\n",
    "        return False\n",
    "cube_values = filter(cube,y)            # filter function is applicable when a given condition is reach\n",
    "print('\\nUsing filter function')\n",
    "print(list(cube_values))"
   ]
  },
  {
   "cell_type": "markdown",
   "metadata": {},
   "source": [
    "4. Use for loop to print each country in the countries list"
   ]
  },
  {
   "cell_type": "code",
   "execution_count": 42,
   "metadata": {},
   "outputs": [
    {
     "name": "stdout",
     "output_type": "stream",
     "text": [
      "- Estonia\n",
      "- Finland\n",
      "- Sweden\n",
      "- Denmark\n",
      "- Norway\n",
      "- Iceland\n"
     ]
    }
   ],
   "source": [
    "# using for loop to display all the countries from the list\n",
    "countries = ['Estonia', 'Finland', 'Sweden', 'Denmark', 'Norway', 'Iceland']\n",
    "for country in countries:\n",
    "    print('-',country)"
   ]
  },
  {
   "cell_type": "markdown",
   "metadata": {},
   "source": [
    "5. Use for to print each name in the names list."
   ]
  },
  {
   "cell_type": "code",
   "execution_count": 1,
   "metadata": {},
   "outputs": [
    {
     "name": "stdout",
     "output_type": "stream",
     "text": [
      "1 Asabeneh\n",
      "2 Lidiya\n",
      "3 Ermias\n",
      "4 Abraham\n"
     ]
    }
   ],
   "source": [
    "# using for loop to print each name from names list\n",
    "names = ['Asabeneh', 'Lidiya', 'Ermias', 'Abraham']\n",
    "counter = 0\n",
    "for name in names:\n",
    "    counter += 1\n",
    "    print(counter,name)"
   ]
  },
  {
   "cell_type": "markdown",
   "metadata": {},
   "source": [
    "6. Use for to print each number in the numbers list."
   ]
  },
  {
   "cell_type": "code",
   "execution_count": 47,
   "metadata": {},
   "outputs": [
    {
     "name": "stdout",
     "output_type": "stream",
     "text": [
      "1 , 2 , 3 , 4 , 5 , 6 , 7 , 8 , 9 , 10 , "
     ]
    }
   ],
   "source": [
    "# using loop to print each number in the list of numbers\n",
    "numbers = [1, 2, 3, 4, 5, 6, 7, 8, 9, 10]\n",
    "for number in numbers:\n",
    "    print(number, end=' , ')"
   ]
  },
  {
   "cell_type": "markdown",
   "metadata": {},
   "source": [
    "### Exercises: Level 2"
   ]
  },
  {
   "cell_type": "markdown",
   "metadata": {},
   "source": [
    "1. Use map to create a new list by changing each country to uppercase in the countries list"
   ]
  },
  {
   "cell_type": "code",
   "execution_count": 15,
   "metadata": {},
   "outputs": [
    {
     "name": "stdout",
     "output_type": "stream",
     "text": [
      "\n",
      "The end result when using lambda built_in function.\n",
      "['ESTONIA', 'FINLAND', 'SWEDEN', 'DENMARK', 'NORWAY', 'ICELAND']\n",
      "\n",
      "The end result when def function is use.\n",
      "['ESTONIA', 'FINLAND', 'SWEDEN', 'DENMARK', 'NORWAY', 'ICELAND']\n"
     ]
    }
   ],
   "source": [
    "# change country names uppercase\n",
    "countries = ['Estonia', 'Finland', 'Sweden', 'Denmark', 'Norway', 'Iceland']\n",
    "countries_in_uppercase = map(lambda country:country.upper(),countries)  # using lambda function\n",
    "print('\\nThe end result when using lambda built_in function.')\n",
    "print(list(countries_in_uppercase))\n",
    "\n",
    "# Alternatively\n",
    "def change_to_upper(country):         # Using def function\n",
    "    return country.upper()\n",
    "upper_case = map(change_to_upper,countries)\n",
    "print('\\nThe end result when def function is use.')\n",
    "print(list(upper_case))"
   ]
  },
  {
   "cell_type": "markdown",
   "metadata": {},
   "source": [
    "2. Use map to create a new list by changing each number to its square in the numbers list"
   ]
  },
  {
   "cell_type": "code",
   "execution_count": 20,
   "metadata": {},
   "outputs": [
    {
     "name": "stdout",
     "output_type": "stream",
     "text": [
      "\n",
      "Using def function and return value.\n",
      "[1, 4, 9, 16, 25, 36, 49, 64, 81, 100]\n",
      "\n",
      "using lambda function yield the same result as the first.\n",
      "[1, 4, 9, 16, 25, 36, 49, 64, 81, 100]\n"
     ]
    }
   ],
   "source": [
    "# using map function to change number to its square\n",
    "numbers = [1, 2, 3, 4, 5, 6, 7, 8, 9, 10]\n",
    "def square_number(number):             # define the square function\n",
    "    return number**2         # find the square of each number and return the values to the function\n",
    "square_list = map(square_number,numbers)\n",
    "print('\\nUsing def function and return value.')\n",
    "print(list(square_list))    # print the output\n",
    "\n",
    "#Alternatively, using lambda function to yield the same result\n",
    "square_values = map(lambda number: number**2,numbers)\n",
    "print('\\nusing lambda function yield the same result as the first.')\n",
    "print(list(square_values))\n",
    "\n"
   ]
  },
  {
   "cell_type": "markdown",
   "metadata": {},
   "source": [
    "3. Use map to change each name to uppercase in the names list"
   ]
  },
  {
   "cell_type": "code",
   "execution_count": 23,
   "metadata": {},
   "outputs": [
    {
     "name": "stdout",
     "output_type": "stream",
     "text": [
      "\n",
      "Using def function.\n",
      "['ASABENEH', 'LIDIYA', 'ERMIAS', 'ABRAHAM']\n",
      "\n",
      "using lambda function.\n",
      "['ASABENEH', 'LIDIYA', 'ERMIAS', 'ABRAHAM']\n"
     ]
    }
   ],
   "source": [
    "# use map to change each name to uppercase\n",
    "names = ['Asabeneh', 'Lidiya', 'Ermias', 'Abraham']\n",
    "def name_upper(name):\n",
    "    return name.upper()\n",
    "upper_name_list = map(name_upper,names)\n",
    "print('\\nUsing def function.')\n",
    "print(list(upper_name_list))\n",
    "\n",
    "# similarly using lambda function\n",
    "new_list = map(lambda name: name.upper(),names)\n",
    "print('\\nusing lambda function.')\n",
    "print(list(new_list))"
   ]
  },
  {
   "cell_type": "markdown",
   "metadata": {},
   "source": [
    "4. Use filter to filter out countries containing 'land'"
   ]
  },
  {
   "cell_type": "code",
   "execution_count": 33,
   "metadata": {},
   "outputs": [
    {
     "name": "stdout",
     "output_type": "stream",
     "text": [
      "['Finland', 'Iceland']\n"
     ]
    }
   ],
   "source": [
    "# filter out countries containing land\n",
    "countries = ['Estonia', 'Finland', 'Sweden', 'Denmark', 'Norway', 'Iceland']\n",
    "def country_with_land(country):\n",
    "    if 'land' in country:\n",
    "        return country\n",
    "endwith_land = filter(country_with_land,countries)\n",
    "print(list(endwith_land))"
   ]
  },
  {
   "cell_type": "markdown",
   "metadata": {},
   "source": [
    "5. Use filter to filter out countries having exactly six characters."
   ]
  },
  {
   "cell_type": "code",
   "execution_count": 35,
   "metadata": {},
   "outputs": [
    {
     "name": "stdout",
     "output_type": "stream",
     "text": [
      "['Sweden', 'Norway']\n"
     ]
    }
   ],
   "source": [
    "# Filter out countries with only six characters\n",
    "countries = ['Estonia', 'Finland', 'Sweden', 'Denmark', 'Norway', 'Iceland']\n",
    "def is_six_character(country):\n",
    "    if len(country) == 6:          \n",
    "        return country\n",
    "six_character = filter(is_six_character,countries)   # the filter function is applicable to boolian statement\n",
    "print(list(six_character))"
   ]
  },
  {
   "cell_type": "markdown",
   "metadata": {},
   "source": [
    "6. Use filter to filter out countries containing six letters and more in the country list."
   ]
  },
  {
   "cell_type": "code",
   "execution_count": 36,
   "metadata": {},
   "outputs": [
    {
     "name": "stdout",
     "output_type": "stream",
     "text": [
      "['Estonia', 'Finland', 'Sweden', 'Denmark', 'Norway', 'Iceland']\n"
     ]
    }
   ],
   "source": [
    "# filter out countries containing six letters and above\n",
    "countries = ['Estonia', 'Finland', 'Sweden', 'Denmark', 'Norway', 'Iceland']\n",
    "def is_six_letters_and_above(country):\n",
    "    if len(country) >= 6:                # check for country which characters is greater than and equal to six\n",
    "        return country\n",
    "six_and_above_character = filter(is_six_letters_and_above,countries)\n",
    "print(list(six_and_above_character))"
   ]
  },
  {
   "cell_type": "markdown",
   "metadata": {},
   "source": [
    "7. Use filter to filter out countries starting with an 'E'"
   ]
  },
  {
   "cell_type": "code",
   "execution_count": 40,
   "metadata": {},
   "outputs": [
    {
     "name": "stdout",
     "output_type": "stream",
     "text": [
      "['Estonia']\n"
     ]
    }
   ],
   "source": [
    "# filter out countries starting with 'E'\n",
    "countries = ['Estonia', 'Finland', 'Sweden', 'Denmark', 'Norway', 'Iceland']\n",
    "def startwith_E(country):\n",
    "    return country.startswith('E')\n",
    "country_startwith_E = filter(startwith_E,countries)\n",
    "print(list(country_startwith_E))\n",
    "\n",
    "        "
   ]
  },
  {
   "cell_type": "markdown",
   "metadata": {},
   "source": [
    "8. Chain two or more list iterators (eg. arr.map(callback).filter(callback).reduce(callback))"
   ]
  }
 ],
 "metadata": {
  "kernelspec": {
   "display_name": "AREWADS-TRAINING",
   "language": "python",
   "name": "python3"
  },
  "language_info": {
   "codemirror_mode": {
    "name": "ipython",
    "version": 3
   },
   "file_extension": ".py",
   "mimetype": "text/x-python",
   "name": "python",
   "nbconvert_exporter": "python",
   "pygments_lexer": "ipython3",
   "version": "3.13.0"
  }
 },
 "nbformat": 4,
 "nbformat_minor": 2
}
