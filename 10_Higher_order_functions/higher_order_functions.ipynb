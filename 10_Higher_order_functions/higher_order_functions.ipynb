{
 "cells": [
  {
   "cell_type": "markdown",
   "metadata": {},
   "source": [
    "### Higher Order Functions Exercises"
   ]
  },
  {
   "cell_type": "code",
   "execution_count": null,
   "metadata": {},
   "outputs": [],
   "source": [
    "countries = ['Estonia', 'Finland', 'Sweden', 'Denmark', 'Norway', 'Iceland']\n",
    "names = ['Asabeneh', 'Lidiya', 'Ermias', 'Abraham']\n",
    "numbers = [1, 2, 3, 4, 5, 6, 7, 8, 9, 10]"
   ]
  },
  {
   "cell_type": "markdown",
   "metadata": {},
   "source": [
    "#### Exercises: Level 1"
   ]
  },
  {
   "cell_type": "markdown",
   "metadata": {},
   "source": [
    "### 1. Explain the difference between map, filter, and reduce."
   ]
  },
  {
   "cell_type": "markdown",
   "metadata": {},
   "source": [
    "Map, Filter and Reduce are operations in python that allows one to write simpler and shorter codes without having to worry about looping and branching.\n",
    "\n",
    "map() - It's a built in function that takes a function and iterable as parameter. \n",
    "The map() syntax is as follows: map(function, iterable)\n",
    "\n",
    "The first argument passed to the map function is itself a function, and the second argument passed is an iterable (sequence of elements) such as a list, tuple, set, string, \n",
    "\n",
    "\n",
    "filter() - The filter() function in Python filters elements from an iterable based on a given condition and returns a new iterable with the filtered elements.\n",
    "\n",
    "The syntax for the filter() is as follows: filter(function, iterable)\n",
    "\n",
    "Here also, the first argument passed to the filter function is itself a function, and the second argument passed is an iterable (sequence of elements) such as a list, tuple, set, string.\n",
    "\n",
    "\n",
    " reduce() - In Python, reduce() is a built-in function that applies a given function to the elements of an iterable, reducing them to a single value.\n",
    "\n",
    "The syntax for reduce() is as follows: reduce(function, iterable[, initializer])\n",
    "\n",
    "The function takes two arguments and returns a single value. The first argument is the function itself, and the second argument is the current value from the iterable."
   ]
  },
  {
   "cell_type": "markdown",
   "metadata": {},
   "source": [
    "### 2. Explain the difference between higher order function, closure and decorator"
   ]
  },
  {
   "cell_type": "markdown",
   "metadata": {},
   "source": [
    "Higher order function refers to a first class citizen that allows you to take one or more functions as parameters\n",
    " \n",
    "A decorator is a higher-order function that takes another function as an argument, adds some functionality to it, and returns a new function without modifying the original function’s source code. Decorators allow you to modify the behavior of functions or classes by wrapping them inside another function.\n",
    "\n",
    "Closures: A closure is a function object that remembers values in the enclosing scope, even if they are not present in memory. "
   ]
  },
  {
   "cell_type": "markdown",
   "metadata": {},
   "source": [
    "3. Define a call function before map, filter or reduce, see examples."
   ]
  },
  {
   "cell_type": "code",
   "execution_count": 25,
   "metadata": {},
   "outputs": [
    {
     "name": "stdout",
     "output_type": "stream",
     "text": [
      "\n",
      "Using map built in function\n",
      "[1, 9, 25, 36, 81]\n",
      "\n",
      "Using filter function\n",
      "[1, 3, 5]\n"
     ]
    }
   ],
   "source": [
    "# define functions that make use of map, filter and reduce function\n",
    "m = [1,3,5,6,9]\n",
    "def square(m):\n",
    "    return m**2\n",
    "square_value = map(square, m)   \n",
    "print('\\nUsing map built in function')            \n",
    "print(list(square_value))\n",
    "\n",
    "# Using filter function\n",
    "y = [1,3,5,6,9]\n",
    "def cube(y):\n",
    "    if y <= 5:\n",
    "        return True\n",
    "    else:\n",
    "        return False\n",
    "cube_values = filter(cube,y)            # filter function is applicable when a given condition is reach\n",
    "print('\\nUsing filter function')\n",
    "print(list(cube_values))"
   ]
  },
  {
   "cell_type": "markdown",
   "metadata": {},
   "source": [
    "4. Use for loop to print each country in the countries list"
   ]
  },
  {
   "cell_type": "code",
   "execution_count": 42,
   "metadata": {},
   "outputs": [
    {
     "name": "stdout",
     "output_type": "stream",
     "text": [
      "- Estonia\n",
      "- Finland\n",
      "- Sweden\n",
      "- Denmark\n",
      "- Norway\n",
      "- Iceland\n"
     ]
    }
   ],
   "source": [
    "# using for loop to display all the countries from the list\n",
    "countries = ['Estonia', 'Finland', 'Sweden', 'Denmark', 'Norway', 'Iceland']\n",
    "for country in countries:\n",
    "    print('-',country)"
   ]
  },
  {
   "cell_type": "markdown",
   "metadata": {},
   "source": [
    "5. Use for to print each name in the names list."
   ]
  },
  {
   "cell_type": "code",
   "execution_count": 43,
   "metadata": {},
   "outputs": [
    {
     "name": "stdout",
     "output_type": "stream",
     "text": [
      "* Asabeneh\n",
      "* Lidiya\n",
      "* Ermias\n",
      "* Abraham\n"
     ]
    }
   ],
   "source": [
    "# using for loop to print each name from names list\n",
    "names = ['Asabeneh', 'Lidiya', 'Ermias', 'Abraham']\n",
    "for name in names:\n",
    "    print('*',name)"
   ]
  },
  {
   "cell_type": "markdown",
   "metadata": {},
   "source": [
    "6. Use for to print each number in the numbers list."
   ]
  },
  {
   "cell_type": "code",
   "execution_count": 47,
   "metadata": {},
   "outputs": [
    {
     "name": "stdout",
     "output_type": "stream",
     "text": [
      "1 , 2 , 3 , 4 , 5 , 6 , 7 , 8 , 9 , 10 , "
     ]
    }
   ],
   "source": [
    "# using loop to print each number in the list of numbers\n",
    "numbers = [1, 2, 3, 4, 5, 6, 7, 8, 9, 10]\n",
    "for number in numbers:\n",
    "    print(number, end=' , ')"
   ]
  }
 ],
 "metadata": {
  "kernelspec": {
   "display_name": "AREWADS-TRAINING",
   "language": "python",
   "name": "python3"
  },
  "language_info": {
   "codemirror_mode": {
    "name": "ipython",
    "version": 3
   },
   "file_extension": ".py",
   "mimetype": "text/x-python",
   "name": "python",
   "nbconvert_exporter": "python",
   "pygments_lexer": "ipython3",
   "version": "3.13.0"
  }
 },
 "nbformat": 4,
 "nbformat_minor": 2
}
