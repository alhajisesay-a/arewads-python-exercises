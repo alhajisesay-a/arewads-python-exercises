{
 "cells": [
  {
   "cell_type": "markdown",
   "metadata": {},
   "source": [
    "### Exercises-Module 2 Variables"
   ]
  },
  {
   "cell_type": "markdown",
   "metadata": {},
   "source": [
    "#### Exercises: Level 1"
   ]
  },
  {
   "cell_type": "code",
   "execution_count": 1,
   "metadata": {},
   "outputs": [],
   "source": [
    "# Day 2: 30 Days of Python Programming\n",
    "first_name = 'abdul'\n",
    "last_name = 'kamara'\n",
    "full_name = first_name + ' ' + last_name\n",
    "country = 'sierra leone'\n",
    "city = 'freetown'\n",
    "age = 24\n",
    "year = 2011\n",
    "is_married = False\n",
    "is_true = True\n",
    "is_light_on = False\n",
    "a,b,c,d = 8,3,5,1"
   ]
  },
  {
   "cell_type": "markdown",
   "metadata": {},
   "source": [
    "### Exercises: Level 2"
   ]
  },
  {
   "cell_type": "code",
   "execution_count": 2,
   "metadata": {},
   "outputs": [
    {
     "name": "stdout",
     "output_type": "stream",
     "text": [
      "<class 'str'>\n",
      "<class 'str'>\n",
      "<class 'str'>\n",
      "<class 'str'>\n",
      "<class 'str'>\n",
      "<class 'int'>\n",
      "<class 'int'>\n",
      "<class 'bool'>\n",
      "<class 'bool'>\n",
      "<class 'bool'>\n",
      "<class 'tuple'>\n"
     ]
    }
   ],
   "source": [
    "# checking the data types in exercises level 1 usind type() built in function\n",
    "print(type(first_name))\n",
    "print(type(last_name))\n",
    "print(type(full_name))\n",
    "print(type(country))\n",
    "print(type(city))\n",
    "print(type(age))\n",
    "print(type(year))\n",
    "print(type(is_married))\n",
    "print(type(is_true))\n",
    "print(type(is_light_on))\n",
    "print(type((((a),(b),(c),(d)))))"
   ]
  },
  {
   "cell_type": "code",
   "execution_count": 3,
   "metadata": {},
   "outputs": [
    {
     "name": "stdout",
     "output_type": "stream",
     "text": [
      "5\n",
      "6\n",
      "12\n",
      "12\n",
      "8\n",
      "2\n",
      "4\n"
     ]
    }
   ],
   "source": [
    "# Checking the length of each variable in exercises 1 using the len() built-in function\n",
    "print(len(first_name))\n",
    "print(len(last_name))\n",
    "print(len(full_name))\n",
    "print(len(country))\n",
    "print(len(city))\n",
    "print(len(str(age)))\n",
    "print(len(str(year)))"
   ]
  },
  {
   "cell_type": "code",
   "execution_count": 4,
   "metadata": {},
   "outputs": [
    {
     "name": "stdout",
     "output_type": "stream",
     "text": [
      "The length of first_name is less than last_name\n"
     ]
    }
   ],
   "source": [
    "# Comapring the length of first name and last name.\n",
    "if len(first_name) == len(last_name):\n",
    "    print('The length of first and last name are equal')\n",
    "elif len(first_name) > len(last_name):\n",
    "    print('The length of first_name is greater than last_name')\n",
    "elif len(first_name) < len(last_name):\n",
    "    print('The length of first_name is less than last_name')\n",
    "else:\n",
    "    print('refer to the first statement and try again')\n"
   ]
  },
  {
   "cell_type": "markdown",
   "metadata": {},
   "source": [
    "### Arithmetic Operations"
   ]
  },
  {
   "cell_type": "code",
   "execution_count": 5,
   "metadata": {},
   "outputs": [
    {
     "name": "stdout",
     "output_type": "stream",
     "text": [
      "9\n"
     ]
    }
   ],
   "source": [
    "# Variable declearation\n",
    "num_one = 5\n",
    "num_two = 4\n",
    "# add the two variables to obtain the total\n",
    "total = num_one + num_two\n",
    "print(total)"
   ]
  },
  {
   "cell_type": "code",
   "execution_count": 6,
   "metadata": {},
   "outputs": [
    {
     "name": "stdout",
     "output_type": "stream",
     "text": [
      "1\n"
     ]
    }
   ],
   "source": [
    "# Using the same variables num_one and num_two\n",
    "# Subtraction of numbers\n",
    "diff = num_one - num_two\n",
    "print(diff)"
   ]
  },
  {
   "cell_type": "code",
   "execution_count": 7,
   "metadata": {},
   "outputs": [
    {
     "name": "stdout",
     "output_type": "stream",
     "text": [
      "20\n"
     ]
    }
   ],
   "source": [
    "# multiplecation of variables\n",
    "product = num_one * num_two\n",
    "print(product)"
   ]
  },
  {
   "cell_type": "code",
   "execution_count": 8,
   "metadata": {},
   "outputs": [
    {
     "name": "stdout",
     "output_type": "stream",
     "text": [
      "1.25\n"
     ]
    }
   ],
   "source": [
    "# Division of variables\n",
    "division = num_one / num_two\n",
    "print(division)"
   ]
  },
  {
   "cell_type": "code",
   "execution_count": 9,
   "metadata": {},
   "outputs": [
    {
     "name": "stdout",
     "output_type": "stream",
     "text": [
      "1\n"
     ]
    }
   ],
   "source": [
    "# modulus division to obtain the remainder\n",
    "remainder = num_one % num_two\n",
    "print((remainder))"
   ]
  },
  {
   "cell_type": "code",
   "execution_count": 10,
   "metadata": {},
   "outputs": [
    {
     "name": "stdout",
     "output_type": "stream",
     "text": [
      "625\n"
     ]
    }
   ],
   "source": [
    "# Exponent of num_one and num_two\n",
    "exp = num_one**num_two # The two ** indicate power/exponent\n",
    "print(exp)"
   ]
  },
  {
   "cell_type": "code",
   "execution_count": 11,
   "metadata": {},
   "outputs": [
    {
     "name": "stdout",
     "output_type": "stream",
     "text": [
      "1\n"
     ]
    }
   ],
   "source": [
    "# floor division of num_one and num_two\n",
    "floor_division = num_one // num_two # This division method get rid of the remainder\n",
    "print(floor_division)"
   ]
  },
  {
   "cell_type": "code",
   "execution_count": 12,
   "metadata": {},
   "outputs": [
    {
     "name": "stdout",
     "output_type": "stream",
     "text": [
      "2827.7999999999997\n"
     ]
    }
   ],
   "source": [
    "# Area of a circle at radius 30 meters\n",
    "radius = 30 \n",
    "pi = 3.142\n",
    "area_of_circle = pi * radius**2\n",
    "print(area_of_circle)\n"
   ]
  },
  {
   "cell_type": "code",
   "execution_count": 13,
   "metadata": {},
   "outputs": [
    {
     "name": "stdout",
     "output_type": "stream",
     "text": [
      "188.51999999999998\n"
     ]
    }
   ],
   "source": [
    "# Cricumfrance of a circle at radius 30 meters\n",
    "circum_of_circle = 2 * pi * radius\n",
    "print(circum_of_circle)"
   ]
  },
  {
   "cell_type": "code",
   "execution_count": 6,
   "metadata": {},
   "outputs": [
    {
     "name": "stdout",
     "output_type": "stream",
     "text": [
      "Area of the circle: 2827.7999999999997\n"
     ]
    }
   ],
   "source": [
    "# Take radius as user input, calculate the area of circle\n",
    "radius = float(input('Enter the radius of a circle'))\n",
    "pi = 3.142\n",
    "area_of_circle = pi * radius**2\n",
    "print('Area of the circle:', area_of_circle)"
   ]
  },
  {
   "cell_type": "code",
   "execution_count": 5,
   "metadata": {},
   "outputs": [
    {
     "name": "stdout",
     "output_type": "stream",
     "text": [
      "My name is  Alhaji\n",
      "My surname is  Sesay\n",
      "country is  Sierra Leone\n",
      "I am  23 years old\n"
     ]
    }
   ],
   "source": [
    "# Requesting input from a user\n",
    "first_name = input('What is your name: ')\n",
    "print('My name is ',first_name.title())\n",
    "last_name = input(\"What is your last name: \")\n",
    "print('My surname is ',last_name.title())\n",
    "country = input(\"What is your home country: \")\n",
    "print('country is ', country.title())\n",
    "age = input('How old are you in years')\n",
    "print('I am ', age +' years old')"
   ]
  },
  {
   "cell_type": "code",
   "execution_count": 1,
   "metadata": {},
   "outputs": [
    {
     "name": "stdout",
     "output_type": "stream",
     "text": [
      "\n",
      "Here is a list of the Python keywords.  Enter any keyword to get more help.\n",
      "\n",
      "False               class               from                or\n",
      "None                continue            global              pass\n",
      "True                def                 if                  raise\n",
      "and                 del                 import              return\n",
      "as                  elif                in                  try\n",
      "assert              else                is                  while\n",
      "async               except              lambda              with\n",
      "await               finally             nonlocal            yield\n",
      "break               for                 not                 \n",
      "\n"
     ]
    }
   ],
   "source": [
    "# Checking python reserved words using help(keyword)\n",
    "help('keywords')"
   ]
  }
 ],
 "metadata": {
  "kernelspec": {
   "display_name": "AREWADS-TRAINING",
   "language": "python",
   "name": "python3"
  },
  "language_info": {
   "codemirror_mode": {
    "name": "ipython",
    "version": 3
   },
   "file_extension": ".py",
   "mimetype": "text/x-python",
   "name": "python",
   "nbconvert_exporter": "python",
   "pygments_lexer": "ipython3",
   "version": "3.13.0"
  }
 },
 "nbformat": 4,
 "nbformat_minor": 2
}
